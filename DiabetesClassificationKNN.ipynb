{
 "cells": [
  {
   "cell_type": "code",
   "execution_count": null,
   "id": "a00c0e6a",
   "metadata": {},
   "outputs": [],
   "source": []
  },
  {
   "cell_type": "code",
   "execution_count": null,
   "id": "9b272743",
   "metadata": {},
   "outputs": [],
   "source": []
  },
  {
   "cell_type": "code",
   "execution_count": null,
   "id": "62f162f2",
   "metadata": {},
   "outputs": [],
   "source": []
  },
  {
   "cell_type": "code",
   "execution_count": null,
   "id": "f286d1bd",
   "metadata": {},
   "outputs": [],
   "source": []
  },
  {
   "cell_type": "code",
   "execution_count": null,
   "id": "923127a0",
   "metadata": {},
   "outputs": [],
   "source": []
  },
  {
   "cell_type": "code",
   "execution_count": null,
   "id": "79a13c2b",
   "metadata": {},
   "outputs": [],
   "source": []
  },
  {
   "cell_type": "code",
   "execution_count": 35,
   "id": "4188bce1",
   "metadata": {},
   "outputs": [],
   "source": [
    "\n",
    "#importing necessary libraries\n",
    "\n",
    "import pandas as pd\n",
    "import numpy as np\n",
    "import seaborn as sns\n",
    "import streamlit as st\n",
    "import plotly.express as px\n",
    "from matplotlib import pyplot as plt\n",
    "%matplotlib inline\n",
    "import warnings\n",
    "warnings.filterwarnings('ignore')\n",
    "import plotly.graph_objects as go\n",
    "from sklearn.model_selection import train_test_split\n",
    "from sklearn.decomposition import PCA\n",
    "import random\n",
    "\n",
    "\n",
    "\n"
   ]
  },
  {
   "cell_type": "code",
   "execution_count": 36,
   "id": "ac1cdfe6",
   "metadata": {},
   "outputs": [
    {
     "data": {
      "text/html": [
       "<div>\n",
       "<style scoped>\n",
       "    .dataframe tbody tr th:only-of-type {\n",
       "        vertical-align: middle;\n",
       "    }\n",
       "\n",
       "    .dataframe tbody tr th {\n",
       "        vertical-align: top;\n",
       "    }\n",
       "\n",
       "    .dataframe thead th {\n",
       "        text-align: right;\n",
       "    }\n",
       "</style>\n",
       "<table border=\"1\" class=\"dataframe\">\n",
       "  <thead>\n",
       "    <tr style=\"text-align: right;\">\n",
       "      <th></th>\n",
       "      <th>Pregnancies</th>\n",
       "      <th>Glucose</th>\n",
       "      <th>BloodPressure</th>\n",
       "      <th>SkinThickness</th>\n",
       "      <th>Insulin</th>\n",
       "      <th>BMI</th>\n",
       "      <th>DiabetesPedigreeFunction</th>\n",
       "      <th>Age</th>\n",
       "      <th>Outcome</th>\n",
       "    </tr>\n",
       "  </thead>\n",
       "  <tbody>\n",
       "    <tr>\n",
       "      <th>0</th>\n",
       "      <td>6</td>\n",
       "      <td>148</td>\n",
       "      <td>72</td>\n",
       "      <td>35</td>\n",
       "      <td>0</td>\n",
       "      <td>33.6</td>\n",
       "      <td>0.627</td>\n",
       "      <td>50</td>\n",
       "      <td>1</td>\n",
       "    </tr>\n",
       "    <tr>\n",
       "      <th>1</th>\n",
       "      <td>1</td>\n",
       "      <td>85</td>\n",
       "      <td>66</td>\n",
       "      <td>29</td>\n",
       "      <td>0</td>\n",
       "      <td>26.6</td>\n",
       "      <td>0.351</td>\n",
       "      <td>31</td>\n",
       "      <td>0</td>\n",
       "    </tr>\n",
       "    <tr>\n",
       "      <th>2</th>\n",
       "      <td>8</td>\n",
       "      <td>183</td>\n",
       "      <td>64</td>\n",
       "      <td>0</td>\n",
       "      <td>0</td>\n",
       "      <td>23.3</td>\n",
       "      <td>0.672</td>\n",
       "      <td>32</td>\n",
       "      <td>1</td>\n",
       "    </tr>\n",
       "    <tr>\n",
       "      <th>3</th>\n",
       "      <td>1</td>\n",
       "      <td>89</td>\n",
       "      <td>66</td>\n",
       "      <td>23</td>\n",
       "      <td>94</td>\n",
       "      <td>28.1</td>\n",
       "      <td>0.167</td>\n",
       "      <td>21</td>\n",
       "      <td>0</td>\n",
       "    </tr>\n",
       "    <tr>\n",
       "      <th>4</th>\n",
       "      <td>0</td>\n",
       "      <td>137</td>\n",
       "      <td>40</td>\n",
       "      <td>35</td>\n",
       "      <td>168</td>\n",
       "      <td>43.1</td>\n",
       "      <td>2.288</td>\n",
       "      <td>33</td>\n",
       "      <td>1</td>\n",
       "    </tr>\n",
       "  </tbody>\n",
       "</table>\n",
       "</div>"
      ],
      "text/plain": [
       "   Pregnancies  Glucose  BloodPressure  SkinThickness  Insulin   BMI  \\\n",
       "0            6      148             72             35        0  33.6   \n",
       "1            1       85             66             29        0  26.6   \n",
       "2            8      183             64              0        0  23.3   \n",
       "3            1       89             66             23       94  28.1   \n",
       "4            0      137             40             35      168  43.1   \n",
       "\n",
       "   DiabetesPedigreeFunction  Age  Outcome  \n",
       "0                     0.627   50        1  \n",
       "1                     0.351   31        0  \n",
       "2                     0.672   32        1  \n",
       "3                     0.167   21        0  \n",
       "4                     2.288   33        1  "
      ]
     },
     "execution_count": 36,
     "metadata": {},
     "output_type": "execute_result"
    }
   ],
   "source": [
    "#Loading the dataset\n",
    "df = pd.read_csv('diabetes.csv')\n",
    "\n",
    "#Print the first 5 rows of the dataframe.\n",
    "df.head()\n"
   ]
  },
  {
   "cell_type": "code",
   "execution_count": 37,
   "id": "2c355420",
   "metadata": {},
   "outputs": [
    {
     "name": "stdout",
     "output_type": "stream",
     "text": [
      "<class 'pandas.core.frame.DataFrame'>\n",
      "RangeIndex: 768 entries, 0 to 767\n",
      "Data columns (total 9 columns):\n",
      " #   Column                    Non-Null Count  Dtype  \n",
      "---  ------                    --------------  -----  \n",
      " 0   Pregnancies               768 non-null    int64  \n",
      " 1   Glucose                   768 non-null    int64  \n",
      " 2   BloodPressure             768 non-null    int64  \n",
      " 3   SkinThickness             768 non-null    int64  \n",
      " 4   Insulin                   768 non-null    int64  \n",
      " 5   BMI                       768 non-null    float64\n",
      " 6   DiabetesPedigreeFunction  768 non-null    float64\n",
      " 7   Age                       768 non-null    int64  \n",
      " 8   Outcome                   768 non-null    int64  \n",
      "dtypes: float64(2), int64(7)\n",
      "memory usage: 54.1 KB\n"
     ]
    }
   ],
   "source": [
    "df.info()"
   ]
  },
  {
   "cell_type": "code",
   "execution_count": 38,
   "id": "d6ff64ac",
   "metadata": {},
   "outputs": [
    {
     "data": {
      "text/plain": [
       "Index(['Pregnancies', 'Glucose', 'BloodPressure', 'SkinThickness', 'Insulin',\n",
       "       'BMI', 'DiabetesPedigreeFunction', 'Age', 'Outcome'],\n",
       "      dtype='object')"
      ]
     },
     "execution_count": 38,
     "metadata": {},
     "output_type": "execute_result"
    }
   ],
   "source": [
    "df.columns"
   ]
  },
  {
   "cell_type": "code",
   "execution_count": 39,
   "id": "707ed818",
   "metadata": {},
   "outputs": [
    {
     "data": {
      "text/html": [
       "<div>\n",
       "<style scoped>\n",
       "    .dataframe tbody tr th:only-of-type {\n",
       "        vertical-align: middle;\n",
       "    }\n",
       "\n",
       "    .dataframe tbody tr th {\n",
       "        vertical-align: top;\n",
       "    }\n",
       "\n",
       "    .dataframe thead th {\n",
       "        text-align: right;\n",
       "    }\n",
       "</style>\n",
       "<table border=\"1\" class=\"dataframe\">\n",
       "  <thead>\n",
       "    <tr style=\"text-align: right;\">\n",
       "      <th></th>\n",
       "      <th>Pregnancies</th>\n",
       "      <th>Glucose</th>\n",
       "      <th>BloodPressure</th>\n",
       "      <th>SkinThickness</th>\n",
       "      <th>Insulin</th>\n",
       "      <th>BMI</th>\n",
       "      <th>DiabetesPedigreeFunction</th>\n",
       "      <th>Age</th>\n",
       "      <th>Outcome</th>\n",
       "    </tr>\n",
       "  </thead>\n",
       "  <tbody>\n",
       "    <tr>\n",
       "      <th>count</th>\n",
       "      <td>768.000000</td>\n",
       "      <td>768.000000</td>\n",
       "      <td>768.000000</td>\n",
       "      <td>768.000000</td>\n",
       "      <td>768.000000</td>\n",
       "      <td>768.000000</td>\n",
       "      <td>768.000000</td>\n",
       "      <td>768.000000</td>\n",
       "      <td>768.000000</td>\n",
       "    </tr>\n",
       "    <tr>\n",
       "      <th>mean</th>\n",
       "      <td>3.845052</td>\n",
       "      <td>120.894531</td>\n",
       "      <td>69.105469</td>\n",
       "      <td>20.536458</td>\n",
       "      <td>79.799479</td>\n",
       "      <td>31.992578</td>\n",
       "      <td>0.471876</td>\n",
       "      <td>33.240885</td>\n",
       "      <td>0.348958</td>\n",
       "    </tr>\n",
       "    <tr>\n",
       "      <th>std</th>\n",
       "      <td>3.369578</td>\n",
       "      <td>31.972618</td>\n",
       "      <td>19.355807</td>\n",
       "      <td>15.952218</td>\n",
       "      <td>115.244002</td>\n",
       "      <td>7.884160</td>\n",
       "      <td>0.331329</td>\n",
       "      <td>11.760232</td>\n",
       "      <td>0.476951</td>\n",
       "    </tr>\n",
       "    <tr>\n",
       "      <th>min</th>\n",
       "      <td>0.000000</td>\n",
       "      <td>0.000000</td>\n",
       "      <td>0.000000</td>\n",
       "      <td>0.000000</td>\n",
       "      <td>0.000000</td>\n",
       "      <td>0.000000</td>\n",
       "      <td>0.078000</td>\n",
       "      <td>21.000000</td>\n",
       "      <td>0.000000</td>\n",
       "    </tr>\n",
       "    <tr>\n",
       "      <th>25%</th>\n",
       "      <td>1.000000</td>\n",
       "      <td>99.000000</td>\n",
       "      <td>62.000000</td>\n",
       "      <td>0.000000</td>\n",
       "      <td>0.000000</td>\n",
       "      <td>27.300000</td>\n",
       "      <td>0.243750</td>\n",
       "      <td>24.000000</td>\n",
       "      <td>0.000000</td>\n",
       "    </tr>\n",
       "    <tr>\n",
       "      <th>50%</th>\n",
       "      <td>3.000000</td>\n",
       "      <td>117.000000</td>\n",
       "      <td>72.000000</td>\n",
       "      <td>23.000000</td>\n",
       "      <td>30.500000</td>\n",
       "      <td>32.000000</td>\n",
       "      <td>0.372500</td>\n",
       "      <td>29.000000</td>\n",
       "      <td>0.000000</td>\n",
       "    </tr>\n",
       "    <tr>\n",
       "      <th>75%</th>\n",
       "      <td>6.000000</td>\n",
       "      <td>140.250000</td>\n",
       "      <td>80.000000</td>\n",
       "      <td>32.000000</td>\n",
       "      <td>127.250000</td>\n",
       "      <td>36.600000</td>\n",
       "      <td>0.626250</td>\n",
       "      <td>41.000000</td>\n",
       "      <td>1.000000</td>\n",
       "    </tr>\n",
       "    <tr>\n",
       "      <th>max</th>\n",
       "      <td>17.000000</td>\n",
       "      <td>199.000000</td>\n",
       "      <td>122.000000</td>\n",
       "      <td>99.000000</td>\n",
       "      <td>846.000000</td>\n",
       "      <td>67.100000</td>\n",
       "      <td>2.420000</td>\n",
       "      <td>81.000000</td>\n",
       "      <td>1.000000</td>\n",
       "    </tr>\n",
       "  </tbody>\n",
       "</table>\n",
       "</div>"
      ],
      "text/plain": [
       "       Pregnancies     Glucose  BloodPressure  SkinThickness     Insulin  \\\n",
       "count   768.000000  768.000000     768.000000     768.000000  768.000000   \n",
       "mean      3.845052  120.894531      69.105469      20.536458   79.799479   \n",
       "std       3.369578   31.972618      19.355807      15.952218  115.244002   \n",
       "min       0.000000    0.000000       0.000000       0.000000    0.000000   \n",
       "25%       1.000000   99.000000      62.000000       0.000000    0.000000   \n",
       "50%       3.000000  117.000000      72.000000      23.000000   30.500000   \n",
       "75%       6.000000  140.250000      80.000000      32.000000  127.250000   \n",
       "max      17.000000  199.000000     122.000000      99.000000  846.000000   \n",
       "\n",
       "              BMI  DiabetesPedigreeFunction         Age     Outcome  \n",
       "count  768.000000                768.000000  768.000000  768.000000  \n",
       "mean    31.992578                  0.471876   33.240885    0.348958  \n",
       "std      7.884160                  0.331329   11.760232    0.476951  \n",
       "min      0.000000                  0.078000   21.000000    0.000000  \n",
       "25%     27.300000                  0.243750   24.000000    0.000000  \n",
       "50%     32.000000                  0.372500   29.000000    0.000000  \n",
       "75%     36.600000                  0.626250   41.000000    1.000000  \n",
       "max     67.100000                  2.420000   81.000000    1.000000  "
      ]
     },
     "execution_count": 39,
     "metadata": {},
     "output_type": "execute_result"
    }
   ],
   "source": [
    "# getting the statistical measures of the data\n",
    "df.describe()"
   ]
  },
  {
   "cell_type": "markdown",
   "id": "590530b9",
   "metadata": {},
   "source": [
    "- DataFrame.describe() method generates descriptive statistics that summarize the central tendency, dispersion and shape of a dataset’s distribution. This method tells us a lot of things about a dataset. One important thing is that the describe() method deals only with numeric values. It doesn't work with any categorical values. So if there are any categorical values in a column the describe() method will ignore it and display summary for the other columns unless parameter include=\"all\" is passed."
   ]
  },
  {
   "cell_type": "code",
   "execution_count": 40,
   "id": "87d812e0",
   "metadata": {},
   "outputs": [
    {
     "data": {
      "text/html": [
       "<div>\n",
       "<style scoped>\n",
       "    .dataframe tbody tr th:only-of-type {\n",
       "        vertical-align: middle;\n",
       "    }\n",
       "\n",
       "    .dataframe tbody tr th {\n",
       "        vertical-align: top;\n",
       "    }\n",
       "\n",
       "    .dataframe thead th {\n",
       "        text-align: right;\n",
       "    }\n",
       "</style>\n",
       "<table border=\"1\" class=\"dataframe\">\n",
       "  <thead>\n",
       "    <tr style=\"text-align: right;\">\n",
       "      <th></th>\n",
       "      <th>count</th>\n",
       "      <th>mean</th>\n",
       "      <th>std</th>\n",
       "      <th>min</th>\n",
       "      <th>25%</th>\n",
       "      <th>50%</th>\n",
       "      <th>75%</th>\n",
       "      <th>max</th>\n",
       "    </tr>\n",
       "  </thead>\n",
       "  <tbody>\n",
       "    <tr>\n",
       "      <th>Pregnancies</th>\n",
       "      <td>768.0</td>\n",
       "      <td>3.845052</td>\n",
       "      <td>3.369578</td>\n",
       "      <td>0.000</td>\n",
       "      <td>1.00000</td>\n",
       "      <td>3.0000</td>\n",
       "      <td>6.00000</td>\n",
       "      <td>17.00</td>\n",
       "    </tr>\n",
       "    <tr>\n",
       "      <th>Glucose</th>\n",
       "      <td>768.0</td>\n",
       "      <td>120.894531</td>\n",
       "      <td>31.972618</td>\n",
       "      <td>0.000</td>\n",
       "      <td>99.00000</td>\n",
       "      <td>117.0000</td>\n",
       "      <td>140.25000</td>\n",
       "      <td>199.00</td>\n",
       "    </tr>\n",
       "    <tr>\n",
       "      <th>BloodPressure</th>\n",
       "      <td>768.0</td>\n",
       "      <td>69.105469</td>\n",
       "      <td>19.355807</td>\n",
       "      <td>0.000</td>\n",
       "      <td>62.00000</td>\n",
       "      <td>72.0000</td>\n",
       "      <td>80.00000</td>\n",
       "      <td>122.00</td>\n",
       "    </tr>\n",
       "    <tr>\n",
       "      <th>SkinThickness</th>\n",
       "      <td>768.0</td>\n",
       "      <td>20.536458</td>\n",
       "      <td>15.952218</td>\n",
       "      <td>0.000</td>\n",
       "      <td>0.00000</td>\n",
       "      <td>23.0000</td>\n",
       "      <td>32.00000</td>\n",
       "      <td>99.00</td>\n",
       "    </tr>\n",
       "    <tr>\n",
       "      <th>Insulin</th>\n",
       "      <td>768.0</td>\n",
       "      <td>79.799479</td>\n",
       "      <td>115.244002</td>\n",
       "      <td>0.000</td>\n",
       "      <td>0.00000</td>\n",
       "      <td>30.5000</td>\n",
       "      <td>127.25000</td>\n",
       "      <td>846.00</td>\n",
       "    </tr>\n",
       "    <tr>\n",
       "      <th>BMI</th>\n",
       "      <td>768.0</td>\n",
       "      <td>31.992578</td>\n",
       "      <td>7.884160</td>\n",
       "      <td>0.000</td>\n",
       "      <td>27.30000</td>\n",
       "      <td>32.0000</td>\n",
       "      <td>36.60000</td>\n",
       "      <td>67.10</td>\n",
       "    </tr>\n",
       "    <tr>\n",
       "      <th>DiabetesPedigreeFunction</th>\n",
       "      <td>768.0</td>\n",
       "      <td>0.471876</td>\n",
       "      <td>0.331329</td>\n",
       "      <td>0.078</td>\n",
       "      <td>0.24375</td>\n",
       "      <td>0.3725</td>\n",
       "      <td>0.62625</td>\n",
       "      <td>2.42</td>\n",
       "    </tr>\n",
       "    <tr>\n",
       "      <th>Age</th>\n",
       "      <td>768.0</td>\n",
       "      <td>33.240885</td>\n",
       "      <td>11.760232</td>\n",
       "      <td>21.000</td>\n",
       "      <td>24.00000</td>\n",
       "      <td>29.0000</td>\n",
       "      <td>41.00000</td>\n",
       "      <td>81.00</td>\n",
       "    </tr>\n",
       "    <tr>\n",
       "      <th>Outcome</th>\n",
       "      <td>768.0</td>\n",
       "      <td>0.348958</td>\n",
       "      <td>0.476951</td>\n",
       "      <td>0.000</td>\n",
       "      <td>0.00000</td>\n",
       "      <td>0.0000</td>\n",
       "      <td>1.00000</td>\n",
       "      <td>1.00</td>\n",
       "    </tr>\n",
       "  </tbody>\n",
       "</table>\n",
       "</div>"
      ],
      "text/plain": [
       "                          count        mean         std     min       25%  \\\n",
       "Pregnancies               768.0    3.845052    3.369578   0.000   1.00000   \n",
       "Glucose                   768.0  120.894531   31.972618   0.000  99.00000   \n",
       "BloodPressure             768.0   69.105469   19.355807   0.000  62.00000   \n",
       "SkinThickness             768.0   20.536458   15.952218   0.000   0.00000   \n",
       "Insulin                   768.0   79.799479  115.244002   0.000   0.00000   \n",
       "BMI                       768.0   31.992578    7.884160   0.000  27.30000   \n",
       "DiabetesPedigreeFunction  768.0    0.471876    0.331329   0.078   0.24375   \n",
       "Age                       768.0   33.240885   11.760232  21.000  24.00000   \n",
       "Outcome                   768.0    0.348958    0.476951   0.000   0.00000   \n",
       "\n",
       "                               50%        75%     max  \n",
       "Pregnancies                 3.0000    6.00000   17.00  \n",
       "Glucose                   117.0000  140.25000  199.00  \n",
       "BloodPressure              72.0000   80.00000  122.00  \n",
       "SkinThickness              23.0000   32.00000   99.00  \n",
       "Insulin                    30.5000  127.25000  846.00  \n",
       "BMI                        32.0000   36.60000   67.10  \n",
       "DiabetesPedigreeFunction    0.3725    0.62625    2.42  \n",
       "Age                        29.0000   41.00000   81.00  \n",
       "Outcome                     0.0000    1.00000    1.00  "
      ]
     },
     "execution_count": 40,
     "metadata": {},
     "output_type": "execute_result"
    }
   ],
   "source": [
    "df.describe().T"
   ]
  },
  {
   "cell_type": "code",
   "execution_count": 41,
   "id": "88681cb0",
   "metadata": {},
   "outputs": [
    {
     "name": "stdout",
     "output_type": "stream",
     "text": [
      "Pregnancies  Glucose  BloodPressure  SkinThickness  Insulin  BMI   DiabetesPedigreeFunction  Age  Outcome\n",
      "0            57       60             0              0        21.7  0.735                     67   0          1\n",
      "             67       76             0              0        45.3  0.194                     46   0          1\n",
      "5            103      108            37             0        39.2  0.305                     65   0          1\n",
      "             104      74             0              0        28.8  0.153                     48   0          1\n",
      "             105      72             29             325      36.9  0.159                     28   0          1\n",
      "                                                                                                            ..\n",
      "2            84       50             23             76       30.4  0.968                     21   0          1\n",
      "             85       65             0              0        39.6  0.930                     27   0          1\n",
      "             87       0              23             0        28.9  0.773                     25   0          1\n",
      "                      58             16             52       32.7  0.166                     25   0          1\n",
      "17           163      72             41             114      40.9  0.817                     47   1          1\n",
      "Length: 768, dtype: int64\n"
     ]
    }
   ],
   "source": [
    "print(df.value_counts())"
   ]
  },
  {
   "cell_type": "code",
   "execution_count": 42,
   "id": "93f0c3f2",
   "metadata": {},
   "outputs": [
    {
     "data": {
      "text/plain": [
       "Pregnancies                 0\n",
       "Glucose                     0\n",
       "BloodPressure               0\n",
       "SkinThickness               0\n",
       "Insulin                     0\n",
       "BMI                         0\n",
       "DiabetesPedigreeFunction    0\n",
       "Age                         0\n",
       "Outcome                     0\n",
       "dtype: int64"
      ]
     },
     "execution_count": 42,
     "metadata": {},
     "output_type": "execute_result"
    }
   ],
   "source": [
    "#Calculating the null values\n",
    "df.isnull().sum()"
   ]
  },
  {
   "cell_type": "code",
   "execution_count": 43,
   "id": "d8925b8a",
   "metadata": {},
   "outputs": [
    {
     "data": {
      "text/plain": [
       "0    65.104167\n",
       "1    34.895833\n",
       "Name: Outcome, dtype: float64"
      ]
     },
     "execution_count": 43,
     "metadata": {},
     "output_type": "execute_result"
    }
   ],
   "source": [
    "df['Outcome'].value_counts(normalize=True).apply(lambda x:x*100)"
   ]
  },
  {
   "cell_type": "markdown",
   "id": "47819a26",
   "metadata": {},
   "source": [
    "- The Outcome variable is theclassifier that is used to make predictions if the patient has or does not have diabetes depending on the measurements of the most similar labeled ponts of the given data .Therefore in this case if the outcome shows;\n",
    "\n",
    "       * 1 = Has Diabetes\n",
    "       * 0 = Does Not Have Diabetes"
   ]
  },
  {
   "cell_type": "markdown",
   "id": "cc432d56",
   "metadata": {},
   "source": [
    "   # Exploratory Data Analysis:  PLOTS \n",
    "  "
   ]
  },
  {
   "cell_type": "code",
   "execution_count": 44,
   "id": "715db9ce",
   "metadata": {},
   "outputs": [
    {
     "data": {
      "text/html": [
       "        <script type=\"text/javascript\">\n",
       "        window.PlotlyConfig = {MathJaxConfig: 'local'};\n",
       "        if (window.MathJax && window.MathJax.Hub && window.MathJax.Hub.Config) {window.MathJax.Hub.Config({SVG: {font: \"STIX-Web\"}});}\n",
       "        if (typeof require !== 'undefined') {\n",
       "        require.undef(\"plotly\");\n",
       "        requirejs.config({\n",
       "            paths: {\n",
       "                'plotly': ['https://cdn.plot.ly/plotly-2.24.1.min']\n",
       "            }\n",
       "        });\n",
       "        require(['plotly'], function(Plotly) {\n",
       "            window._Plotly = Plotly;\n",
       "        });\n",
       "        }\n",
       "        </script>\n",
       "        "
      ]
     },
     "metadata": {},
     "output_type": "display_data"
    }
   ],
   "source": [
    "# Plots\n",
    "import seaborn as sns\n",
    "import matplotlib.pyplot as plt\n",
    "%matplotlib inline\n",
    "import plotly.offline as py\n",
    "import plotly.graph_objs as go\n",
    "from plotly.offline import download_plotlyjs, init_notebook_mode, plot, iplot\n",
    "import plotly.tools as tls\n",
    "import plotly.figure_factory as ff\n",
    "py.init_notebook_mode(connected=True)\n",
    "import squarify"
   ]
  },
  {
   "cell_type": "code",
   "execution_count": 45,
   "id": "c66e1f07",
   "metadata": {},
   "outputs": [
    {
     "data": {
      "application/vnd.plotly.v1+json": {
       "config": {
        "linkText": "Export to plot.ly",
        "plotlyServerURL": "https://plot.ly",
        "showLink": false
       },
       "data": [
        {
         "marker": {
          "color": "#7EC0EE",
          "line": {
           "color": "#000000",
           "width": 1.5
          }
         },
         "opacity": 0.8,
         "text": [
          0,
          0,
          0,
          0,
          0,
          0,
          0,
          0,
          0
         ],
         "textposition": "auto",
         "type": "bar",
         "x": [
          "Pregnancies",
          "Glucose",
          "BloodPressure",
          "SkinThickness",
          "Insulin",
          "BMI",
          "DiabetesPedigreeFunction",
          "Age",
          "Outcome"
         ],
         "y": [
          768,
          768,
          768,
          768,
          768,
          768,
          768,
          768,
          768
         ]
        }
       ],
       "layout": {
        "template": {
         "data": {
          "candlestick": [
           {
            "decreasing": {
             "line": {
              "color": "#000033"
             }
            },
            "increasing": {
             "line": {
              "color": "#000032"
             }
            },
            "type": "candlestick"
           }
          ],
          "contour": [
           {
            "colorscale": [
             [
              0,
              "#000011"
             ],
             [
              0.1111111111111111,
              "#000012"
             ],
             [
              0.2222222222222222,
              "#000013"
             ],
             [
              0.3333333333333333,
              "#000014"
             ],
             [
              0.4444444444444444,
              "#000015"
             ],
             [
              0.5555555555555556,
              "#000016"
             ],
             [
              0.6666666666666666,
              "#000017"
             ],
             [
              0.7777777777777778,
              "#000018"
             ],
             [
              0.8888888888888888,
              "#000019"
             ],
             [
              1,
              "#000020"
             ]
            ],
            "type": "contour"
           }
          ],
          "contourcarpet": [
           {
            "colorscale": [
             [
              0,
              "#000011"
             ],
             [
              0.1111111111111111,
              "#000012"
             ],
             [
              0.2222222222222222,
              "#000013"
             ],
             [
              0.3333333333333333,
              "#000014"
             ],
             [
              0.4444444444444444,
              "#000015"
             ],
             [
              0.5555555555555556,
              "#000016"
             ],
             [
              0.6666666666666666,
              "#000017"
             ],
             [
              0.7777777777777778,
              "#000018"
             ],
             [
              0.8888888888888888,
              "#000019"
             ],
             [
              1,
              "#000020"
             ]
            ],
            "type": "contourcarpet"
           }
          ],
          "heatmap": [
           {
            "colorscale": [
             [
              0,
              "#000011"
             ],
             [
              0.1111111111111111,
              "#000012"
             ],
             [
              0.2222222222222222,
              "#000013"
             ],
             [
              0.3333333333333333,
              "#000014"
             ],
             [
              0.4444444444444444,
              "#000015"
             ],
             [
              0.5555555555555556,
              "#000016"
             ],
             [
              0.6666666666666666,
              "#000017"
             ],
             [
              0.7777777777777778,
              "#000018"
             ],
             [
              0.8888888888888888,
              "#000019"
             ],
             [
              1,
              "#000020"
             ]
            ],
            "type": "heatmap"
           }
          ],
          "histogram2d": [
           {
            "colorscale": [
             [
              0,
              "#000011"
             ],
             [
              0.1111111111111111,
              "#000012"
             ],
             [
              0.2222222222222222,
              "#000013"
             ],
             [
              0.3333333333333333,
              "#000014"
             ],
             [
              0.4444444444444444,
              "#000015"
             ],
             [
              0.5555555555555556,
              "#000016"
             ],
             [
              0.6666666666666666,
              "#000017"
             ],
             [
              0.7777777777777778,
              "#000018"
             ],
             [
              0.8888888888888888,
              "#000019"
             ],
             [
              1,
              "#000020"
             ]
            ],
            "type": "histogram2d"
           }
          ],
          "icicle": [
           {
            "textfont": {
             "color": "white"
            },
            "type": "icicle"
           }
          ],
          "sankey": [
           {
            "textfont": {
             "color": "#000036"
            },
            "type": "sankey"
           }
          ],
          "scatter": [
           {
            "marker": {
             "line": {
              "width": 0
             }
            },
            "type": "scatter"
           }
          ],
          "table": [
           {
            "cells": {
             "fill": {
              "color": "#000038"
             },
             "font": {
              "color": "#000037"
             },
             "line": {
              "color": "#000039"
             }
            },
            "header": {
             "fill": {
              "color": "#000040"
             },
             "font": {
              "color": "#000036"
             },
             "line": {
              "color": "#000039"
             }
            },
            "type": "table"
           }
          ],
          "waterfall": [
           {
            "connector": {
             "line": {
              "color": "#000036",
              "width": 2
             }
            },
            "decreasing": {
             "marker": {
              "color": "#000033"
             }
            },
            "increasing": {
             "marker": {
              "color": "#000032"
             }
            },
            "totals": {
             "marker": {
              "color": "#000034"
             }
            },
            "type": "waterfall"
           }
          ]
         },
         "layout": {
          "coloraxis": {
           "colorscale": [
            [
             0,
             "#000011"
            ],
            [
             0.1111111111111111,
             "#000012"
            ],
            [
             0.2222222222222222,
             "#000013"
            ],
            [
             0.3333333333333333,
             "#000014"
            ],
            [
             0.4444444444444444,
             "#000015"
            ],
            [
             0.5555555555555556,
             "#000016"
            ],
            [
             0.6666666666666666,
             "#000017"
            ],
            [
             0.7777777777777778,
             "#000018"
            ],
            [
             0.8888888888888888,
             "#000019"
            ],
            [
             1,
             "#000020"
            ]
           ]
          },
          "colorscale": {
           "diverging": [
            [
             0,
             "#000021"
            ],
            [
             0.1,
             "#000022"
            ],
            [
             0.2,
             "#000023"
            ],
            [
             0.3,
             "#000024"
            ],
            [
             0.4,
             "#000025"
            ],
            [
             0.5,
             "#000026"
            ],
            [
             0.6,
             "#000027"
            ],
            [
             0.7,
             "#000028"
            ],
            [
             0.8,
             "#000029"
            ],
            [
             0.9,
             "#000030"
            ],
            [
             1,
             "#000031"
            ]
           ],
           "sequential": [
            [
             0,
             "#000011"
            ],
            [
             0.1111111111111111,
             "#000012"
            ],
            [
             0.2222222222222222,
             "#000013"
            ],
            [
             0.3333333333333333,
             "#000014"
            ],
            [
             0.4444444444444444,
             "#000015"
            ],
            [
             0.5555555555555556,
             "#000016"
            ],
            [
             0.6666666666666666,
             "#000017"
            ],
            [
             0.7777777777777778,
             "#000018"
            ],
            [
             0.8888888888888888,
             "#000019"
            ],
            [
             1,
             "#000020"
            ]
           ],
           "sequentialminus": [
            [
             0,
             "#000011"
            ],
            [
             0.1111111111111111,
             "#000012"
            ],
            [
             0.2222222222222222,
             "#000013"
            ],
            [
             0.3333333333333333,
             "#000014"
            ],
            [
             0.4444444444444444,
             "#000015"
            ],
            [
             0.5555555555555556,
             "#000016"
            ],
            [
             0.6666666666666666,
             "#000017"
            ],
            [
             0.7777777777777778,
             "#000018"
            ],
            [
             0.8888888888888888,
             "#000019"
            ],
            [
             1,
             "#000020"
            ]
           ]
          },
          "colorway": [
           "#000001",
           "#000002",
           "#000003",
           "#000004",
           "#000005",
           "#000006",
           "#000007",
           "#000008",
           "#000009",
           "#000010"
          ]
         }
        },
        "title": {
         "text": "Missing Values (count & %)"
        }
       }
      },
      "text/html": [
       "<div>                            <div id=\"5ff64a93-eb3f-4b90-9069-76357db5b98d\" class=\"plotly-graph-div\" style=\"height:525px; width:100%;\"></div>            <script type=\"text/javascript\">                require([\"plotly\"], function(Plotly) {                    window.PLOTLYENV=window.PLOTLYENV || {};                                    if (document.getElementById(\"5ff64a93-eb3f-4b90-9069-76357db5b98d\")) {                    Plotly.newPlot(                        \"5ff64a93-eb3f-4b90-9069-76357db5b98d\",                        [{\"marker\":{\"color\":\"#7EC0EE\",\"line\":{\"color\":\"#000000\",\"width\":1.5}},\"opacity\":0.8,\"text\":[0.0,0.0,0.0,0.0,0.0,0.0,0.0,0.0,0.0],\"textposition\":\"auto\",\"x\":[\"Pregnancies\",\"Glucose\",\"BloodPressure\",\"SkinThickness\",\"Insulin\",\"BMI\",\"DiabetesPedigreeFunction\",\"Age\",\"Outcome\"],\"y\":[768,768,768,768,768,768,768,768,768],\"type\":\"bar\"}],                        {\"template\":{\"data\":{\"candlestick\":[{\"decreasing\":{\"line\":{\"color\":\"#000033\"}},\"increasing\":{\"line\":{\"color\":\"#000032\"}},\"type\":\"candlestick\"}],\"contourcarpet\":[{\"colorscale\":[[0.0,\"#000011\"],[0.1111111111111111,\"#000012\"],[0.2222222222222222,\"#000013\"],[0.3333333333333333,\"#000014\"],[0.4444444444444444,\"#000015\"],[0.5555555555555556,\"#000016\"],[0.6666666666666666,\"#000017\"],[0.7777777777777778,\"#000018\"],[0.8888888888888888,\"#000019\"],[1.0,\"#000020\"]],\"type\":\"contourcarpet\"}],\"contour\":[{\"colorscale\":[[0.0,\"#000011\"],[0.1111111111111111,\"#000012\"],[0.2222222222222222,\"#000013\"],[0.3333333333333333,\"#000014\"],[0.4444444444444444,\"#000015\"],[0.5555555555555556,\"#000016\"],[0.6666666666666666,\"#000017\"],[0.7777777777777778,\"#000018\"],[0.8888888888888888,\"#000019\"],[1.0,\"#000020\"]],\"type\":\"contour\"}],\"heatmap\":[{\"colorscale\":[[0.0,\"#000011\"],[0.1111111111111111,\"#000012\"],[0.2222222222222222,\"#000013\"],[0.3333333333333333,\"#000014\"],[0.4444444444444444,\"#000015\"],[0.5555555555555556,\"#000016\"],[0.6666666666666666,\"#000017\"],[0.7777777777777778,\"#000018\"],[0.8888888888888888,\"#000019\"],[1.0,\"#000020\"]],\"type\":\"heatmap\"}],\"histogram2d\":[{\"colorscale\":[[0.0,\"#000011\"],[0.1111111111111111,\"#000012\"],[0.2222222222222222,\"#000013\"],[0.3333333333333333,\"#000014\"],[0.4444444444444444,\"#000015\"],[0.5555555555555556,\"#000016\"],[0.6666666666666666,\"#000017\"],[0.7777777777777778,\"#000018\"],[0.8888888888888888,\"#000019\"],[1.0,\"#000020\"]],\"type\":\"histogram2d\"}],\"icicle\":[{\"textfont\":{\"color\":\"white\"},\"type\":\"icicle\"}],\"sankey\":[{\"textfont\":{\"color\":\"#000036\"},\"type\":\"sankey\"}],\"scatter\":[{\"marker\":{\"line\":{\"width\":0}},\"type\":\"scatter\"}],\"table\":[{\"cells\":{\"fill\":{\"color\":\"#000038\"},\"font\":{\"color\":\"#000037\"},\"line\":{\"color\":\"#000039\"}},\"header\":{\"fill\":{\"color\":\"#000040\"},\"font\":{\"color\":\"#000036\"},\"line\":{\"color\":\"#000039\"}},\"type\":\"table\"}],\"waterfall\":[{\"connector\":{\"line\":{\"color\":\"#000036\",\"width\":2}},\"decreasing\":{\"marker\":{\"color\":\"#000033\"}},\"increasing\":{\"marker\":{\"color\":\"#000032\"}},\"totals\":{\"marker\":{\"color\":\"#000034\"}},\"type\":\"waterfall\"}]},\"layout\":{\"coloraxis\":{\"colorscale\":[[0.0,\"#000011\"],[0.1111111111111111,\"#000012\"],[0.2222222222222222,\"#000013\"],[0.3333333333333333,\"#000014\"],[0.4444444444444444,\"#000015\"],[0.5555555555555556,\"#000016\"],[0.6666666666666666,\"#000017\"],[0.7777777777777778,\"#000018\"],[0.8888888888888888,\"#000019\"],[1.0,\"#000020\"]]},\"colorscale\":{\"diverging\":[[0.0,\"#000021\"],[0.1,\"#000022\"],[0.2,\"#000023\"],[0.3,\"#000024\"],[0.4,\"#000025\"],[0.5,\"#000026\"],[0.6,\"#000027\"],[0.7,\"#000028\"],[0.8,\"#000029\"],[0.9,\"#000030\"],[1.0,\"#000031\"]],\"sequential\":[[0.0,\"#000011\"],[0.1111111111111111,\"#000012\"],[0.2222222222222222,\"#000013\"],[0.3333333333333333,\"#000014\"],[0.4444444444444444,\"#000015\"],[0.5555555555555556,\"#000016\"],[0.6666666666666666,\"#000017\"],[0.7777777777777778,\"#000018\"],[0.8888888888888888,\"#000019\"],[1.0,\"#000020\"]],\"sequentialminus\":[[0.0,\"#000011\"],[0.1111111111111111,\"#000012\"],[0.2222222222222222,\"#000013\"],[0.3333333333333333,\"#000014\"],[0.4444444444444444,\"#000015\"],[0.5555555555555556,\"#000016\"],[0.6666666666666666,\"#000017\"],[0.7777777777777778,\"#000018\"],[0.8888888888888888,\"#000019\"],[1.0,\"#000020\"]]},\"colorway\":[\"#000001\",\"#000002\",\"#000003\",\"#000004\",\"#000005\",\"#000006\",\"#000007\",\"#000008\",\"#000009\",\"#000010\"]}},\"title\":{\"text\":\"Missing Values (count & %)\"}},                        {\"responsive\": true}                    ).then(function(){\n",
       "                            \n",
       "var gd = document.getElementById('5ff64a93-eb3f-4b90-9069-76357db5b98d');\n",
       "var x = new MutationObserver(function (mutations, observer) {{\n",
       "        var display = window.getComputedStyle(gd).display;\n",
       "        if (!display || display === 'none') {{\n",
       "            console.log([gd, 'removed!']);\n",
       "            Plotly.purge(gd);\n",
       "            observer.disconnect();\n",
       "        }}\n",
       "}});\n",
       "\n",
       "// Listen for the removal of the full notebook cells\n",
       "var notebookContainer = gd.closest('#notebook-container');\n",
       "if (notebookContainer) {{\n",
       "    x.observe(notebookContainer, {childList: true});\n",
       "}}\n",
       "\n",
       "// Listen for the clearing of the current output cell\n",
       "var outputEl = gd.closest('.output');\n",
       "if (outputEl) {{\n",
       "    x.observe(outputEl, {childList: true});\n",
       "}}\n",
       "\n",
       "                        })                };                });            </script>        </div>"
      ]
     },
     "metadata": {},
     "output_type": "display_data"
    }
   ],
   "source": [
    "# Define missing plot to detect all missing values in dataset\n",
    "def missing_plot(dataset, key) :\n",
    "    null_feat = pd.DataFrame(len(dataset[key]) - dataset.isnull().sum(), columns = ['Count'])\n",
    "    percentage_null = pd.DataFrame((len(dataset[key]) - (len(dataset[key]) - dataset.isnull().sum()))/len(dataset[key])*100, columns = ['Count'])\n",
    "    percentage_null = percentage_null.round(2)\n",
    "\n",
    "    trace = go.Bar(x = null_feat.index, y = null_feat['Count'] ,opacity = 0.8, text = percentage_null['Count'],  textposition = 'auto',marker=dict(color = '#7EC0EE',\n",
    "            line=dict(color='#000000',width=1.5)))\n",
    "\n",
    "    layout = dict(title =  \"Missing Values (count & %)\")\n",
    "    fig = dict(data = [trace], layout=layout)\n",
    "    py.iplot(fig)\n",
    "    \n",
    "\n",
    "# Plotting \n",
    "missing_plot(df, 'Outcome')\n"
   ]
  },
  {
   "cell_type": "code",
   "execution_count": null,
   "id": "83c0910f",
   "metadata": {},
   "outputs": [],
   "source": []
  },
  {
   "cell_type": "code",
   "execution_count": 46,
   "id": "5b7146b6",
   "metadata": {},
   "outputs": [
    {
     "data": {
      "image/png": "[encoded data removed]",
      "text/plain": [
       "<Figure size 2000x2000 with 9 Axes>"
      ]
     },
     "metadata": {},
     "output_type": "display_data"
    }
   ],
   "source": [
    "p = df.hist(figsize = (20,20))"
   ]
  },
  {
   "cell_type": "code",
   "execution_count": 47,
   "id": "457ddb5b",
   "metadata": {},
   "outputs": [
    {
     "data": {
      "application/vnd.plotly.v1+json": {
       "config": {
        "plotlyServerURL": "https://plot.ly"
       },
       "data": [
        {
         "alignmentgroup": "True",
         "hovertemplate": "x=%{x}<br>y=%{y}<br>color=%{marker.color}<extra></extra>",
         "legendgroup": "",
         "marker": {
          "color": [
           0,
           1
          ],
          "coloraxis": "coloraxis",
          "pattern": {
           "shape": ""
          }
         },
         "name": "",
         "offsetgroup": "",
         "orientation": "v",
         "showlegend": false,
         "textposition": "auto",
         "type": "bar",
         "x": [
          0,
          1
         ],
         "xaxis": "x",
         "y": [
          500,
          268
         ],
         "yaxis": "y"
        }
       ],
       "layout": {
        "barmode": "relative",
        "coloraxis": {
         "colorbar": {
          "title": {
           "text": "color"
          }
         },
         "colorscale": [
          [
           0,
           "#000011"
          ],
          [
           0.1111111111111111,
           "#000012"
          ],
          [
           0.2222222222222222,
           "#000013"
          ],
          [
           0.3333333333333333,
           "#000014"
          ],
          [
           0.4444444444444444,
           "#000015"
          ],
          [
           0.5555555555555556,
           "#000016"
          ],
          [
           0.6666666666666666,
           "#000017"
          ],
          [
           0.7777777777777778,
           "#000018"
          ],
          [
           0.8888888888888888,
           "#000019"
          ],
          [
           1,
           "#000020"
          ]
         ]
        },
        "legend": {
         "tracegroupgap": 0
        },
        "margin": {
         "t": 60
        },
        "template": {
         "data": {
          "candlestick": [
           {
            "decreasing": {
             "line": {
              "color": "#000033"
             }
            },
            "increasing": {
             "line": {
              "color": "#000032"
             }
            },
            "type": "candlestick"
           }
          ],
          "contour": [
           {
            "colorscale": [
             [
              0,
              "#000011"
             ],
             [
              0.1111111111111111,
              "#000012"
             ],
             [
              0.2222222222222222,
              "#000013"
             ],
             [
              0.3333333333333333,
              "#000014"
             ],
             [
              0.4444444444444444,
              "#000015"
             ],
             [
              0.5555555555555556,
              "#000016"
             ],
             [
              0.6666666666666666,
              "#000017"
             ],
             [
              0.7777777777777778,
              "#000018"
             ],
             [
              0.8888888888888888,
              "#000019"
             ],
             [
              1,
              "#000020"
             ]
            ],
            "type": "contour"
           }
          ],
          "contourcarpet": [
           {
            "colorscale": [
             [
              0,
              "#000011"
             ],
             [
              0.1111111111111111,
              "#000012"
             ],
             [
              0.2222222222222222,
              "#000013"
             ],
             [
              0.3333333333333333,
              "#000014"
             ],
             [
              0.4444444444444444,
              "#000015"
             ],
             [
              0.5555555555555556,
              "#000016"
             ],
             [
              0.6666666666666666,
              "#000017"
             ],
             [
              0.7777777777777778,
              "#000018"
             ],
             [
              0.8888888888888888,
              "#000019"
             ],
             [
              1,
              "#000020"
             ]
            ],
            "type": "contourcarpet"
           }
          ],
          "heatmap": [
           {
            "colorscale": [
             [
              0,
              "#000011"
             ],
             [
              0.1111111111111111,
              "#000012"
             ],
             [
              0.2222222222222222,
              "#000013"
             ],
             [
              0.3333333333333333,
              "#000014"
             ],
             [
              0.4444444444444444,
              "#000015"
             ],
             [
              0.5555555555555556,
              "#000016"
             ],
             [
              0.6666666666666666,
              "#000017"
             ],
             [
              0.7777777777777778,
              "#000018"
             ],
             [
              0.8888888888888888,
              "#000019"
             ],
             [
              1,
              "#000020"
             ]
            ],
            "type": "heatmap"
           }
          ],
          "histogram2d": [
           {
            "colorscale": [
             [
              0,
              "#000011"
             ],
             [
              0.1111111111111111,
              "#000012"
             ],
             [
              0.2222222222222222,
              "#000013"
             ],
             [
              0.3333333333333333,
              "#000014"
             ],
             [
              0.4444444444444444,
              "#000015"
             ],
             [
              0.5555555555555556,
              "#000016"
             ],
             [
              0.6666666666666666,
              "#000017"
             ],
             [
              0.7777777777777778,
              "#000018"
             ],
             [
              0.8888888888888888,
              "#000019"
             ],
             [
              1,
              "#000020"
             ]
            ],
            "type": "histogram2d"
           }
          ],
          "icicle": [
           {
            "textfont": {
             "color": "white"
            },
            "type": "icicle"
           }
          ],
          "sankey": [
           {
            "textfont": {
             "color": "#000036"
            },
            "type": "sankey"
           }
          ],
          "scatter": [
           {
            "marker": {
             "line": {
              "width": 0
             }
            },
            "type": "scatter"
           }
          ],
          "table": [
           {
            "cells": {
             "fill": {
              "color": "#000038"
             },
             "font": {
              "color": "#000037"
             },
             "line": {
              "color": "#000039"
             }
            },
            "header": {
             "fill": {
              "color": "#000040"
             },
             "font": {
              "color": "#000036"
             },
             "line": {
              "color": "#000039"
             }
            },
            "type": "table"
           }
          ],
          "waterfall": [
           {
            "connector": {
             "line": {
              "color": "#000036",
              "width": 2
             }
            },
            "decreasing": {
             "marker": {
              "color": "#000033"
             }
            },
            "increasing": {
             "marker": {
              "color": "#000032"
             }
            },
            "totals": {
             "marker": {
              "color": "#000034"
             }
            },
            "type": "waterfall"
           }
          ]
         },
         "layout": {
          "coloraxis": {
           "colorscale": [
            [
             0,
             "#000011"
            ],
            [
             0.1111111111111111,
             "#000012"
            ],
            [
             0.2222222222222222,
             "#000013"
            ],
            [
             0.3333333333333333,
             "#000014"
            ],
            [
             0.4444444444444444,
             "#000015"
            ],
            [
             0.5555555555555556,
             "#000016"
            ],
            [
             0.6666666666666666,
             "#000017"
            ],
            [
             0.7777777777777778,
             "#000018"
            ],
            [
             0.8888888888888888,
             "#000019"
            ],
            [
             1,
             "#000020"
            ]
           ]
          },
          "colorscale": {
           "diverging": [
            [
             0,
             "#000021"
            ],
            [
             0.1,
             "#000022"
            ],
            [
             0.2,
             "#000023"
            ],
            [
             0.3,
             "#000024"
            ],
            [
             0.4,
             "#000025"
            ],
            [
             0.5,
             "#000026"
            ],
            [
             0.6,
             "#000027"
            ],
            [
             0.7,
             "#000028"
            ],
            [
             0.8,
             "#000029"
            ],
            [
             0.9,
             "#000030"
            ],
            [
             1,
             "#000031"
            ]
           ],
           "sequential": [
            [
             0,
             "#000011"
            ],
            [
             0.1111111111111111,
             "#000012"
            ],
            [
             0.2222222222222222,
             "#000013"
            ],
            [
             0.3333333333333333,
             "#000014"
            ],
            [
             0.4444444444444444,
             "#000015"
            ],
            [
             0.5555555555555556,
             "#000016"
            ],
            [
             0.6666666666666666,
             "#000017"
            ],
            [
             0.7777777777777778,
             "#000018"
            ],
            [
             0.8888888888888888,
             "#000019"
            ],
            [
             1,
             "#000020"
            ]
           ],
           "sequentialminus": [
            [
             0,
             "#000011"
            ],
            [
             0.1111111111111111,
             "#000012"
            ],
            [
             0.2222222222222222,
             "#000013"
            ],
            [
             0.3333333333333333,
             "#000014"
            ],
            [
             0.4444444444444444,
             "#000015"
            ],
            [
             0.5555555555555556,
             "#000016"
            ],
            [
             0.6666666666666666,
             "#000017"
            ],
            [
             0.7777777777777778,
             "#000018"
            ],
            [
             0.8888888888888888,
             "#000019"
            ],
            [
             1,
             "#000020"
            ]
           ]
          },
          "colorway": [
           "#000001",
           "#000002",
           "#000003",
           "#000004",
           "#000005",
           "#000006",
           "#000007",
           "#000008",
           "#000009",
           "#000010"
          ]
         }
        },
        "title": {
         "text": "Outcome Distribution"
        },
        "xaxis": {
         "anchor": "y",
         "domain": [
          0,
          1
         ],
         "title": {
          "text": "Outcome"
         }
        },
        "yaxis": {
         "anchor": "x",
         "domain": [
          0,
          1
         ],
         "title": {
          "text": "Count"
         }
        }
       }
      },
      "text/html": [
       "<div>                            <div id=\"ba819ff7-878f-479e-82da-5d56613d4b7a\" class=\"plotly-graph-div\" style=\"height:525px; width:100%;\"></div>            <script type=\"text/javascript\">                require([\"plotly\"], function(Plotly) {                    window.PLOTLYENV=window.PLOTLYENV || {};                                    if (document.getElementById(\"ba819ff7-878f-479e-82da-5d56613d4b7a\")) {                    Plotly.newPlot(                        \"ba819ff7-878f-479e-82da-5d56613d4b7a\",                        [{\"alignmentgroup\":\"True\",\"hovertemplate\":\"x=%{x}\\u003cbr\\u003ey=%{y}\\u003cbr\\u003ecolor=%{marker.color}\\u003cextra\\u003e\\u003c\\u002fextra\\u003e\",\"legendgroup\":\"\",\"marker\":{\"color\":[0,1],\"coloraxis\":\"coloraxis\",\"pattern\":{\"shape\":\"\"}},\"name\":\"\",\"offsetgroup\":\"\",\"orientation\":\"v\",\"showlegend\":false,\"textposition\":\"auto\",\"x\":[0,1],\"xaxis\":\"x\",\"y\":[500,268],\"yaxis\":\"y\",\"type\":\"bar\"}],                        {\"template\":{\"data\":{\"candlestick\":[{\"decreasing\":{\"line\":{\"color\":\"#000033\"}},\"increasing\":{\"line\":{\"color\":\"#000032\"}},\"type\":\"candlestick\"}],\"contourcarpet\":[{\"colorscale\":[[0.0,\"#000011\"],[0.1111111111111111,\"#000012\"],[0.2222222222222222,\"#000013\"],[0.3333333333333333,\"#000014\"],[0.4444444444444444,\"#000015\"],[0.5555555555555556,\"#000016\"],[0.6666666666666666,\"#000017\"],[0.7777777777777778,\"#000018\"],[0.8888888888888888,\"#000019\"],[1.0,\"#000020\"]],\"type\":\"contourcarpet\"}],\"contour\":[{\"colorscale\":[[0.0,\"#000011\"],[0.1111111111111111,\"#000012\"],[0.2222222222222222,\"#000013\"],[0.3333333333333333,\"#000014\"],[0.4444444444444444,\"#000015\"],[0.5555555555555556,\"#000016\"],[0.6666666666666666,\"#000017\"],[0.7777777777777778,\"#000018\"],[0.8888888888888888,\"#000019\"],[1.0,\"#000020\"]],\"type\":\"contour\"}],\"heatmap\":[{\"colorscale\":[[0.0,\"#000011\"],[0.1111111111111111,\"#000012\"],[0.2222222222222222,\"#000013\"],[0.3333333333333333,\"#000014\"],[0.4444444444444444,\"#000015\"],[0.5555555555555556,\"#000016\"],[0.6666666666666666,\"#000017\"],[0.7777777777777778,\"#000018\"],[0.8888888888888888,\"#000019\"],[1.0,\"#000020\"]],\"type\":\"heatmap\"}],\"histogram2d\":[{\"colorscale\":[[0.0,\"#000011\"],[0.1111111111111111,\"#000012\"],[0.2222222222222222,\"#000013\"],[0.3333333333333333,\"#000014\"],[0.4444444444444444,\"#000015\"],[0.5555555555555556,\"#000016\"],[0.6666666666666666,\"#000017\"],[0.7777777777777778,\"#000018\"],[0.8888888888888888,\"#000019\"],[1.0,\"#000020\"]],\"type\":\"histogram2d\"}],\"icicle\":[{\"textfont\":{\"color\":\"white\"},\"type\":\"icicle\"}],\"sankey\":[{\"textfont\":{\"color\":\"#000036\"},\"type\":\"sankey\"}],\"scatter\":[{\"marker\":{\"line\":{\"width\":0}},\"type\":\"scatter\"}],\"table\":[{\"cells\":{\"fill\":{\"color\":\"#000038\"},\"font\":{\"color\":\"#000037\"},\"line\":{\"color\":\"#000039\"}},\"header\":{\"fill\":{\"color\":\"#000040\"},\"font\":{\"color\":\"#000036\"},\"line\":{\"color\":\"#000039\"}},\"type\":\"table\"}],\"waterfall\":[{\"connector\":{\"line\":{\"color\":\"#000036\",\"width\":2}},\"decreasing\":{\"marker\":{\"color\":\"#000033\"}},\"increasing\":{\"marker\":{\"color\":\"#000032\"}},\"totals\":{\"marker\":{\"color\":\"#000034\"}},\"type\":\"waterfall\"}]},\"layout\":{\"coloraxis\":{\"colorscale\":[[0.0,\"#000011\"],[0.1111111111111111,\"#000012\"],[0.2222222222222222,\"#000013\"],[0.3333333333333333,\"#000014\"],[0.4444444444444444,\"#000015\"],[0.5555555555555556,\"#000016\"],[0.6666666666666666,\"#000017\"],[0.7777777777777778,\"#000018\"],[0.8888888888888888,\"#000019\"],[1.0,\"#000020\"]]},\"colorscale\":{\"diverging\":[[0.0,\"#000021\"],[0.1,\"#000022\"],[0.2,\"#000023\"],[0.3,\"#000024\"],[0.4,\"#000025\"],[0.5,\"#000026\"],[0.6,\"#000027\"],[0.7,\"#000028\"],[0.8,\"#000029\"],[0.9,\"#000030\"],[1.0,\"#000031\"]],\"sequential\":[[0.0,\"#000011\"],[0.1111111111111111,\"#000012\"],[0.2222222222222222,\"#000013\"],[0.3333333333333333,\"#000014\"],[0.4444444444444444,\"#000015\"],[0.5555555555555556,\"#000016\"],[0.6666666666666666,\"#000017\"],[0.7777777777777778,\"#000018\"],[0.8888888888888888,\"#000019\"],[1.0,\"#000020\"]],\"sequentialminus\":[[0.0,\"#000011\"],[0.1111111111111111,\"#000012\"],[0.2222222222222222,\"#000013\"],[0.3333333333333333,\"#000014\"],[0.4444444444444444,\"#000015\"],[0.5555555555555556,\"#000016\"],[0.6666666666666666,\"#000017\"],[0.7777777777777778,\"#000018\"],[0.8888888888888888,\"#000019\"],[1.0,\"#000020\"]]},\"colorway\":[\"#000001\",\"#000002\",\"#000003\",\"#000004\",\"#000005\",\"#000006\",\"#000007\",\"#000008\",\"#000009\",\"#000010\"]}},\"xaxis\":{\"anchor\":\"y\",\"domain\":[0.0,1.0],\"title\":{\"text\":\"Outcome\"}},\"yaxis\":{\"anchor\":\"x\",\"domain\":[0.0,1.0],\"title\":{\"text\":\"Count\"}},\"coloraxis\":{\"colorbar\":{\"title\":{\"text\":\"color\"}},\"colorscale\":[[0.0,\"#000011\"],[0.1111111111111111,\"#000012\"],[0.2222222222222222,\"#000013\"],[0.3333333333333333,\"#000014\"],[0.4444444444444444,\"#000015\"],[0.5555555555555556,\"#000016\"],[0.6666666666666666,\"#000017\"],[0.7777777777777778,\"#000018\"],[0.8888888888888888,\"#000019\"],[1.0,\"#000020\"]]},\"legend\":{\"tracegroupgap\":0},\"margin\":{\"t\":60},\"barmode\":\"relative\",\"title\":{\"text\":\"Outcome Distribution\"}},                        {\"responsive\": true}                    ).then(function(){\n",
       "                            \n",
       "var gd = document.getElementById('ba819ff7-878f-479e-82da-5d56613d4b7a');\n",
       "var x = new MutationObserver(function (mutations, observer) {{\n",
       "        var display = window.getComputedStyle(gd).display;\n",
       "        if (!display || display === 'none') {{\n",
       "            console.log([gd, 'removed!']);\n",
       "            Plotly.purge(gd);\n",
       "            observer.disconnect();\n",
       "        }}\n",
       "}});\n",
       "\n",
       "// Listen for the removal of the full notebook cells\n",
       "var notebookContainer = gd.closest('#notebook-container');\n",
       "if (notebookContainer) {{\n",
       "    x.observe(notebookContainer, {childList: true});\n",
       "}}\n",
       "\n",
       "// Listen for the clearing of the current output cell\n",
       "var outputEl = gd.closest('.output');\n",
       "if (outputEl) {{\n",
       "    x.observe(outputEl, {childList: true});\n",
       "}}\n",
       "\n",
       "                        })                };                });            </script>        </div>"
      ]
     },
     "metadata": {},
     "output_type": "display_data"
    }
   ],
   "source": [
    "# Count Plot for Age\n",
    "\n",
    "fig = px.bar(x = df['Outcome'].value_counts().index, y = df['Outcome'].value_counts(),\n",
    "             color = df['Outcome'].value_counts().index)\n",
    "\n",
    "fig.update_layout(title='Outcome Distribution',\n",
    "                   xaxis_title='Outcome',\n",
    "                   yaxis_title='Count')\n",
    "fig.show()"
   ]
  },
  {
   "cell_type": "code",
   "execution_count": 48,
   "id": "fc968fc8",
   "metadata": {},
   "outputs": [
    {
     "data": {
      "application/vnd.plotly.v1+json": {
       "config": {
        "plotlyServerURL": "https://plot.ly"
       },
       "data": [
        {
         "alignmentgroup": "True",
         "hovertemplate": "Outcome=%{marker.color}<br>count=%{y}<extra></extra>",
         "legendgroup": "",
         "marker": {
          "color": [
           0,
           1
          ],
          "coloraxis": "coloraxis",
          "pattern": {
           "shape": ""
          }
         },
         "name": "",
         "offsetgroup": "",
         "orientation": "v",
         "showlegend": false,
         "textposition": "auto",
         "type": "bar",
         "x": [
          0,
          1
         ],
         "xaxis": "x",
         "y": [
          500,
          268
         ],
         "yaxis": "y"
        }
       ],
       "layout": {
        "barmode": "relative",
        "coloraxis": {
         "colorbar": {
          "title": {
           "text": "Outcome"
          }
         },
         "colorscale": [
          [
           0,
           "#000011"
          ],
          [
           0.1111111111111111,
           "#000012"
          ],
          [
           0.2222222222222222,
           "#000013"
          ],
          [
           0.3333333333333333,
           "#000014"
          ],
          [
           0.4444444444444444,
           "#000015"
          ],
          [
           0.5555555555555556,
           "#000016"
          ],
          [
           0.6666666666666666,
           "#000017"
          ],
          [
           0.7777777777777778,
           "#000018"
          ],
          [
           0.8888888888888888,
           "#000019"
          ],
          [
           1,
           "#000020"
          ]
         ]
        },
        "legend": {
         "tracegroupgap": 0
        },
        "margin": {
         "t": 60
        },
        "template": {
         "data": {
          "candlestick": [
           {
            "decreasing": {
             "line": {
              "color": "#000033"
             }
            },
            "increasing": {
             "line": {
              "color": "#000032"
             }
            },
            "type": "candlestick"
           }
          ],
          "contour": [
           {
            "colorscale": [
             [
              0,
              "#000011"
             ],
             [
              0.1111111111111111,
              "#000012"
             ],
             [
              0.2222222222222222,
              "#000013"
             ],
             [
              0.3333333333333333,
              "#000014"
             ],
             [
              0.4444444444444444,
              "#000015"
             ],
             [
              0.5555555555555556,
              "#000016"
             ],
             [
              0.6666666666666666,
              "#000017"
             ],
             [
              0.7777777777777778,
              "#000018"
             ],
             [
              0.8888888888888888,
              "#000019"
             ],
             [
              1,
              "#000020"
             ]
            ],
            "type": "contour"
           }
          ],
          "contourcarpet": [
           {
            "colorscale": [
             [
              0,
              "#000011"
             ],
             [
              0.1111111111111111,
              "#000012"
             ],
             [
              0.2222222222222222,
              "#000013"
             ],
             [
              0.3333333333333333,
              "#000014"
             ],
             [
              0.4444444444444444,
              "#000015"
             ],
             [
              0.5555555555555556,
              "#000016"
             ],
             [
              0.6666666666666666,
              "#000017"
             ],
             [
              0.7777777777777778,
              "#000018"
             ],
             [
              0.8888888888888888,
              "#000019"
             ],
             [
              1,
              "#000020"
             ]
            ],
            "type": "contourcarpet"
           }
          ],
          "heatmap": [
           {
            "colorscale": [
             [
              0,
              "#000011"
             ],
             [
              0.1111111111111111,
              "#000012"
             ],
             [
              0.2222222222222222,
              "#000013"
             ],
             [
              0.3333333333333333,
              "#000014"
             ],
             [
              0.4444444444444444,
              "#000015"
             ],
             [
              0.5555555555555556,
              "#000016"
             ],
             [
              0.6666666666666666,
              "#000017"
             ],
             [
              0.7777777777777778,
              "#000018"
             ],
             [
              0.8888888888888888,
              "#000019"
             ],
             [
              1,
              "#000020"
             ]
            ],
            "type": "heatmap"
           }
          ],
          "histogram2d": [
           {
            "colorscale": [
             [
              0,
              "#000011"
             ],
             [
              0.1111111111111111,
              "#000012"
             ],
             [
              0.2222222222222222,
              "#000013"
             ],
             [
              0.3333333333333333,
              "#000014"
             ],
             [
              0.4444444444444444,
              "#000015"
             ],
             [
              0.5555555555555556,
              "#000016"
             ],
             [
              0.6666666666666666,
              "#000017"
             ],
             [
              0.7777777777777778,
              "#000018"
             ],
             [
              0.8888888888888888,
              "#000019"
             ],
             [
              1,
              "#000020"
             ]
            ],
            "type": "histogram2d"
           }
          ],
          "icicle": [
           {
            "textfont": {
             "color": "white"
            },
            "type": "icicle"
           }
          ],
          "sankey": [
           {
            "textfont": {
             "color": "#000036"
            },
            "type": "sankey"
           }
          ],
          "scatter": [
           {
            "marker": {
             "line": {
              "width": 0
             }
            },
            "type": "scatter"
           }
          ],
          "table": [
           {
            "cells": {
             "fill": {
              "color": "#000038"
             },
             "font": {
              "color": "#000037"
             },
             "line": {
              "color": "#000039"
             }
            },
            "header": {
             "fill": {
              "color": "#000040"
             },
             "font": {
              "color": "#000036"
             },
             "line": {
              "color": "#000039"
             }
            },
            "type": "table"
           }
          ],
          "waterfall": [
           {
            "connector": {
             "line": {
              "color": "#000036",
              "width": 2
             }
            },
            "decreasing": {
             "marker": {
              "color": "#000033"
             }
            },
            "increasing": {
             "marker": {
              "color": "#000032"
             }
            },
            "totals": {
             "marker": {
              "color": "#000034"
             }
            },
            "type": "waterfall"
           }
          ]
         },
         "layout": {
          "coloraxis": {
           "colorscale": [
            [
             0,
             "#000011"
            ],
            [
             0.1111111111111111,
             "#000012"
            ],
            [
             0.2222222222222222,
             "#000013"
            ],
            [
             0.3333333333333333,
             "#000014"
            ],
            [
             0.4444444444444444,
             "#000015"
            ],
            [
             0.5555555555555556,
             "#000016"
            ],
            [
             0.6666666666666666,
             "#000017"
            ],
            [
             0.7777777777777778,
             "#000018"
            ],
            [
             0.8888888888888888,
             "#000019"
            ],
            [
             1,
             "#000020"
            ]
           ]
          },
          "colorscale": {
           "diverging": [
            [
             0,
             "#000021"
            ],
            [
             0.1,
             "#000022"
            ],
            [
             0.2,
             "#000023"
            ],
            [
             0.3,
             "#000024"
            ],
            [
             0.4,
             "#000025"
            ],
            [
             0.5,
             "#000026"
            ],
            [
             0.6,
             "#000027"
            ],
            [
             0.7,
             "#000028"
            ],
            [
             0.8,
             "#000029"
            ],
            [
             0.9,
             "#000030"
            ],
            [
             1,
             "#000031"
            ]
           ],
           "sequential": [
            [
             0,
             "#000011"
            ],
            [
             0.1111111111111111,
             "#000012"
            ],
            [
             0.2222222222222222,
             "#000013"
            ],
            [
             0.3333333333333333,
             "#000014"
            ],
            [
             0.4444444444444444,
             "#000015"
            ],
            [
             0.5555555555555556,
             "#000016"
            ],
            [
             0.6666666666666666,
             "#000017"
            ],
            [
             0.7777777777777778,
             "#000018"
            ],
            [
             0.8888888888888888,
             "#000019"
            ],
            [
             1,
             "#000020"
            ]
           ],
           "sequentialminus": [
            [
             0,
             "#000011"
            ],
            [
             0.1111111111111111,
             "#000012"
            ],
            [
             0.2222222222222222,
             "#000013"
            ],
            [
             0.3333333333333333,
             "#000014"
            ],
            [
             0.4444444444444444,
             "#000015"
            ],
            [
             0.5555555555555556,
             "#000016"
            ],
            [
             0.6666666666666666,
             "#000017"
            ],
            [
             0.7777777777777778,
             "#000018"
            ],
            [
             0.8888888888888888,
             "#000019"
            ],
            [
             1,
             "#000020"
            ]
           ]
          },
          "colorway": [
           "#000001",
           "#000002",
           "#000003",
           "#000004",
           "#000005",
           "#000006",
           "#000007",
           "#000008",
           "#000009",
           "#000010"
          ]
         }
        },
        "xaxis": {
         "anchor": "y",
         "domain": [
          0,
          1
         ],
         "title": {
          "text": "Outcome"
         }
        },
        "yaxis": {
         "anchor": "x",
         "domain": [
          0,
          1
         ],
         "title": {
          "text": "count"
         }
        }
       }
      },
      "text/html": [
       "<div>                            <div id=\"5dbffe95-eb3a-45c4-af0d-f01017ed02f7\" class=\"plotly-graph-div\" style=\"height:525px; width:100%;\"></div>            <script type=\"text/javascript\">                require([\"plotly\"], function(Plotly) {                    window.PLOTLYENV=window.PLOTLYENV || {};                                    if (document.getElementById(\"5dbffe95-eb3a-45c4-af0d-f01017ed02f7\")) {                    Plotly.newPlot(                        \"5dbffe95-eb3a-45c4-af0d-f01017ed02f7\",                        [{\"alignmentgroup\":\"True\",\"hovertemplate\":\"Outcome=%{marker.color}\\u003cbr\\u003ecount=%{y}\\u003cextra\\u003e\\u003c\\u002fextra\\u003e\",\"legendgroup\":\"\",\"marker\":{\"color\":[0,1],\"coloraxis\":\"coloraxis\",\"pattern\":{\"shape\":\"\"}},\"name\":\"\",\"offsetgroup\":\"\",\"orientation\":\"v\",\"showlegend\":false,\"textposition\":\"auto\",\"x\":[0,1],\"xaxis\":\"x\",\"y\":[500,268],\"yaxis\":\"y\",\"type\":\"bar\"}],                        {\"template\":{\"data\":{\"candlestick\":[{\"decreasing\":{\"line\":{\"color\":\"#000033\"}},\"increasing\":{\"line\":{\"color\":\"#000032\"}},\"type\":\"candlestick\"}],\"contourcarpet\":[{\"colorscale\":[[0.0,\"#000011\"],[0.1111111111111111,\"#000012\"],[0.2222222222222222,\"#000013\"],[0.3333333333333333,\"#000014\"],[0.4444444444444444,\"#000015\"],[0.5555555555555556,\"#000016\"],[0.6666666666666666,\"#000017\"],[0.7777777777777778,\"#000018\"],[0.8888888888888888,\"#000019\"],[1.0,\"#000020\"]],\"type\":\"contourcarpet\"}],\"contour\":[{\"colorscale\":[[0.0,\"#000011\"],[0.1111111111111111,\"#000012\"],[0.2222222222222222,\"#000013\"],[0.3333333333333333,\"#000014\"],[0.4444444444444444,\"#000015\"],[0.5555555555555556,\"#000016\"],[0.6666666666666666,\"#000017\"],[0.7777777777777778,\"#000018\"],[0.8888888888888888,\"#000019\"],[1.0,\"#000020\"]],\"type\":\"contour\"}],\"heatmap\":[{\"colorscale\":[[0.0,\"#000011\"],[0.1111111111111111,\"#000012\"],[0.2222222222222222,\"#000013\"],[0.3333333333333333,\"#000014\"],[0.4444444444444444,\"#000015\"],[0.5555555555555556,\"#000016\"],[0.6666666666666666,\"#000017\"],[0.7777777777777778,\"#000018\"],[0.8888888888888888,\"#000019\"],[1.0,\"#000020\"]],\"type\":\"heatmap\"}],\"histogram2d\":[{\"colorscale\":[[0.0,\"#000011\"],[0.1111111111111111,\"#000012\"],[0.2222222222222222,\"#000013\"],[0.3333333333333333,\"#000014\"],[0.4444444444444444,\"#000015\"],[0.5555555555555556,\"#000016\"],[0.6666666666666666,\"#000017\"],[0.7777777777777778,\"#000018\"],[0.8888888888888888,\"#000019\"],[1.0,\"#000020\"]],\"type\":\"histogram2d\"}],\"icicle\":[{\"textfont\":{\"color\":\"white\"},\"type\":\"icicle\"}],\"sankey\":[{\"textfont\":{\"color\":\"#000036\"},\"type\":\"sankey\"}],\"scatter\":[{\"marker\":{\"line\":{\"width\":0}},\"type\":\"scatter\"}],\"table\":[{\"cells\":{\"fill\":{\"color\":\"#000038\"},\"font\":{\"color\":\"#000037\"},\"line\":{\"color\":\"#000039\"}},\"header\":{\"fill\":{\"color\":\"#000040\"},\"font\":{\"color\":\"#000036\"},\"line\":{\"color\":\"#000039\"}},\"type\":\"table\"}],\"waterfall\":[{\"connector\":{\"line\":{\"color\":\"#000036\",\"width\":2}},\"decreasing\":{\"marker\":{\"color\":\"#000033\"}},\"increasing\":{\"marker\":{\"color\":\"#000032\"}},\"totals\":{\"marker\":{\"color\":\"#000034\"}},\"type\":\"waterfall\"}]},\"layout\":{\"coloraxis\":{\"colorscale\":[[0.0,\"#000011\"],[0.1111111111111111,\"#000012\"],[0.2222222222222222,\"#000013\"],[0.3333333333333333,\"#000014\"],[0.4444444444444444,\"#000015\"],[0.5555555555555556,\"#000016\"],[0.6666666666666666,\"#000017\"],[0.7777777777777778,\"#000018\"],[0.8888888888888888,\"#000019\"],[1.0,\"#000020\"]]},\"colorscale\":{\"diverging\":[[0.0,\"#000021\"],[0.1,\"#000022\"],[0.2,\"#000023\"],[0.3,\"#000024\"],[0.4,\"#000025\"],[0.5,\"#000026\"],[0.6,\"#000027\"],[0.7,\"#000028\"],[0.8,\"#000029\"],[0.9,\"#000030\"],[1.0,\"#000031\"]],\"sequential\":[[0.0,\"#000011\"],[0.1111111111111111,\"#000012\"],[0.2222222222222222,\"#000013\"],[0.3333333333333333,\"#000014\"],[0.4444444444444444,\"#000015\"],[0.5555555555555556,\"#000016\"],[0.6666666666666666,\"#000017\"],[0.7777777777777778,\"#000018\"],[0.8888888888888888,\"#000019\"],[1.0,\"#000020\"]],\"sequentialminus\":[[0.0,\"#000011\"],[0.1111111111111111,\"#000012\"],[0.2222222222222222,\"#000013\"],[0.3333333333333333,\"#000014\"],[0.4444444444444444,\"#000015\"],[0.5555555555555556,\"#000016\"],[0.6666666666666666,\"#000017\"],[0.7777777777777778,\"#000018\"],[0.8888888888888888,\"#000019\"],[1.0,\"#000020\"]]},\"colorway\":[\"#000001\",\"#000002\",\"#000003\",\"#000004\",\"#000005\",\"#000006\",\"#000007\",\"#000008\",\"#000009\",\"#000010\"]}},\"xaxis\":{\"anchor\":\"y\",\"domain\":[0.0,1.0],\"title\":{\"text\":\"Outcome\"}},\"yaxis\":{\"anchor\":\"x\",\"domain\":[0.0,1.0],\"title\":{\"text\":\"count\"}},\"coloraxis\":{\"colorbar\":{\"title\":{\"text\":\"Outcome\"}},\"colorscale\":[[0.0,\"#000011\"],[0.1111111111111111,\"#000012\"],[0.2222222222222222,\"#000013\"],[0.3333333333333333,\"#000014\"],[0.4444444444444444,\"#000015\"],[0.5555555555555556,\"#000016\"],[0.6666666666666666,\"#000017\"],[0.7777777777777778,\"#000018\"],[0.8888888888888888,\"#000019\"],[1.0,\"#000020\"]]},\"legend\":{\"tracegroupgap\":0},\"margin\":{\"t\":60},\"barmode\":\"relative\"},                        {\"responsive\": true}                    ).then(function(){\n",
       "                            \n",
       "var gd = document.getElementById('5dbffe95-eb3a-45c4-af0d-f01017ed02f7');\n",
       "var x = new MutationObserver(function (mutations, observer) {{\n",
       "        var display = window.getComputedStyle(gd).display;\n",
       "        if (!display || display === 'none') {{\n",
       "            console.log([gd, 'removed!']);\n",
       "            Plotly.purge(gd);\n",
       "            observer.disconnect();\n",
       "        }}\n",
       "}});\n",
       "\n",
       "// Listen for the removal of the full notebook cells\n",
       "var notebookContainer = gd.closest('#notebook-container');\n",
       "if (notebookContainer) {{\n",
       "    x.observe(notebookContainer, {childList: true});\n",
       "}}\n",
       "\n",
       "// Listen for the clearing of the current output cell\n",
       "var outputEl = gd.closest('.output');\n",
       "if (outputEl) {{\n",
       "    x.observe(outputEl, {childList: true});\n",
       "}}\n",
       "\n",
       "                        })                };                });            </script>        </div>"
      ]
     },
     "metadata": {},
     "output_type": "display_data"
    }
   ],
   "source": [
    "tmp = df['Outcome'].value_counts()\n",
    "tmp = tmp.reset_index()\n",
    "tmp.columns = ['Outcome','count']\n",
    "fig = px.bar(tmp, x=\"Outcome\", y=\"count\", color='Outcome')\n",
    "fig.show()"
   ]
  },
  {
   "cell_type": "code",
   "execution_count": 49,
   "id": "1c551523",
   "metadata": {},
   "outputs": [
    {
     "data": {
      "application/vnd.plotly.v1+json": {
       "config": {
        "linkText": "Export to plot.ly",
        "plotlyServerURL": "https://plot.ly",
        "showLink": false
       },
       "data": [
        {
         "autobinx": false,
         "histnorm": "probability density",
         "legendgroup": "diabetic",
         "marker": {
          "color": "#FFD700"
         },
         "name": "diabetic",
         "opacity": 0.7,
         "type": "histogram",
         "x": [
          0,
          0,
          168,
          88,
          543,
          0,
          0,
          846,
          175,
          0,
          230,
          0,
          96,
          0,
          0,
          146,
          115,
          0,
          245,
          0,
          0,
          207,
          240,
          0,
          0,
          300,
          304,
          0,
          0,
          0,
          90,
          0,
          0,
          0,
          110,
          0,
          220,
          0,
          36,
          135,
          495,
          175,
          0,
          0,
          100,
          0,
          99,
          145,
          0,
          168,
          0,
          225,
          0,
          155,
          0,
          0,
          114,
          0,
          156,
          0,
          130,
          130,
          130,
          0,
          0,
          495,
          58,
          114,
          160,
          0,
          0,
          210,
          48,
          99,
          318,
          280,
          0,
          0,
          130,
          175,
          271,
          129,
          0,
          0,
          478,
          0,
          0,
          0,
          370,
          0,
          192,
          0,
          0,
          0,
          176,
          0,
          258,
          0,
          150,
          0,
          0,
          0,
          0,
          0,
          0,
          0,
          0,
          0,
          220,
          74,
          182,
          194,
          360,
          184,
          0,
          135,
          0,
          132,
          180,
          205,
          96,
          0,
          0,
          0,
          0,
          0,
          29,
          156,
          120,
          0,
          0,
          171,
          0,
          0,
          0,
          167,
          0,
          249,
          325,
          0,
          0,
          140,
          465,
          325,
          0,
          0,
          0,
          285,
          0,
          0,
          0,
          0,
          0,
          88,
          0,
          0,
          0,
          579,
          167,
          474,
          0,
          115,
          210,
          277,
          180,
          180,
          0,
          0,
          0,
          0,
          14,
          64,
          0,
          0,
          237,
          0,
          191,
          328,
          0,
          250,
          122,
          145,
          0,
          90,
          0,
          105,
          165,
          0,
          0,
          155,
          215,
          190,
          0,
          225,
          207,
          0,
          274,
          165,
          0,
          0,
          0,
          600,
          0,
          156,
          0,
          0,
          185,
          0,
          126,
          0,
          293,
          194,
          321,
          144,
          0,
          0,
          0,
          0,
          91,
          0,
          144,
          159,
          130,
          540,
          70,
          0,
          231,
          130,
          0,
          0,
          0,
          0,
          0,
          0,
          0,
          0,
          180,
          0,
          125,
          480,
          125,
          0,
          0,
          0,
          0,
          160,
          0,
          392,
          185,
          0,
          127,
          79,
          0,
          120,
          0,
          150,
          0,
          0,
          200,
          0,
          0,
          510,
          0,
          110,
          0,
          0,
          0,
          0
         ],
         "xaxis": "x",
         "xbins": {
          "end": 846,
          "size": 0,
          "start": 0
         },
         "yaxis": "y"
        },
        {
         "autobinx": false,
         "histnorm": "probability density",
         "legendgroup": "healthy",
         "marker": {
          "color": "#7EC0EE"
         },
         "name": "healthy",
         "opacity": 0.7,
         "type": "histogram",
         "x": [
          0,
          94,
          0,
          0,
          0,
          0,
          83,
          235,
          0,
          140,
          110,
          0,
          0,
          54,
          0,
          0,
          192,
          0,
          70,
          0,
          0,
          0,
          0,
          0,
          0,
          82,
          36,
          23,
          342,
          0,
          110,
          0,
          142,
          0,
          0,
          128,
          0,
          0,
          38,
          100,
          140,
          270,
          0,
          0,
          0,
          0,
          0,
          0,
          0,
          71,
          0,
          125,
          0,
          71,
          0,
          0,
          176,
          48,
          64,
          228,
          0,
          76,
          64,
          0,
          0,
          40,
          0,
          152,
          0,
          140,
          18,
          37,
          0,
          0,
          0,
          51,
          0,
          100,
          0,
          135,
          94,
          0,
          49,
          140,
          50,
          92,
          0,
          325,
          0,
          0,
          63,
          284,
          0,
          0,
          119,
          0,
          0,
          204,
          0,
          485,
          94,
          135,
          53,
          0,
          105,
          285,
          0,
          0,
          0,
          0,
          78,
          0,
          48,
          55,
          0,
          0,
          0,
          92,
          23,
          0,
          0,
          0,
          94,
          0,
          0,
          0,
          0,
          0,
          44,
          190,
          0,
          87,
          0,
          0,
          0,
          120,
          0,
          190,
          56,
          32,
          0,
          744,
          53,
          37,
          0,
          45,
          0,
          0,
          88,
          194,
          0,
          680,
          402,
          0,
          0,
          0,
          55,
          0,
          0,
          0,
          375,
          130,
          0,
          0,
          67,
          0,
          0,
          56,
          0,
          45,
          0,
          57,
          116,
          0,
          278,
          122,
          155,
          135,
          545,
          49,
          75,
          40,
          0,
          120,
          215,
          0,
          42,
          0,
          105,
          148,
          0,
          148,
          85,
          94,
          64,
          140,
          231,
          0,
          168,
          0,
          68,
          0,
          52,
          0,
          58,
          255,
          0,
          105,
          73,
          0,
          0,
          0,
          108,
          83,
          0,
          74,
          0,
          0,
          0,
          43,
          0,
          54,
          0,
          0,
          293,
          83,
          0,
          66,
          89,
          66,
          94,
          158,
          84,
          75,
          72,
          82,
          0,
          182,
          59,
          110,
          50,
          81,
          196,
          415,
          87,
          275,
          115,
          0,
          0,
          0,
          165,
          0,
          0,
          176,
          310,
          61,
          0,
          0,
          170,
          76,
          78,
          0,
          0,
          145,
          0,
          85,
          60,
          0,
          0,
          0,
          0,
          0,
          0,
          50,
          120,
          70,
          92,
          63,
          95,
          210,
          0,
          105,
          0,
          71,
          60,
          56,
          0,
          49,
          0,
          0,
          105,
          36,
          100,
          140,
          0,
          0,
          0,
          0,
          0,
          0,
          110,
          75,
          0,
          0,
          49,
          125,
          480,
          265,
          0,
          0,
          66,
          0,
          0,
          0,
          0,
          0,
          76,
          193,
          71,
          0,
          79,
          0,
          0,
          170,
          76,
          0,
          210,
          0,
          0,
          86,
          0,
          0,
          326,
          66,
          130,
          0,
          0,
          0,
          82,
          105,
          188,
          0,
          106,
          0,
          65,
          0,
          56,
          0,
          0,
          210,
          56,
          76,
          166,
          67,
          0,
          0,
          106,
          0,
          44,
          115,
          215,
          0,
          0,
          0,
          0,
          77,
          54,
          0,
          88,
          18,
          126,
          126,
          0,
          0,
          44,
          120,
          330,
          63,
          130,
          0,
          0,
          0,
          0,
          0,
          0,
          0,
          140,
          115,
          230,
          0,
          25,
          120,
          0,
          0,
          0,
          0,
          41,
          272,
          182,
          158,
          0,
          0,
          0,
          15,
          160,
          0,
          0,
          115,
          0,
          54,
          0,
          0,
          0,
          0,
          90,
          0,
          183,
          0,
          0,
          66,
          46,
          105,
          0,
          0,
          152,
          440,
          0,
          100,
          106,
          77,
          0,
          135,
          90,
          200,
          0,
          0,
          132,
          190,
          100,
          168,
          0,
          49,
          240,
          0,
          0,
          265,
          45,
          105,
          0,
          205,
          0,
          0,
          180,
          0,
          95,
          0,
          0,
          155,
          0,
          200,
          0,
          100,
          0,
          335,
          387,
          22,
          291,
          0,
          0,
          178,
          0,
          200,
          105,
          0,
          0,
          180,
          0,
          0,
          0,
          165,
          0,
          0,
          120,
          0,
          160,
          94,
          116,
          140,
          105,
          57,
          74,
          0,
          0,
          0,
          16,
          0,
          180,
          0,
          112,
          0
         ],
         "xaxis": "x",
         "xbins": {
          "end": 744,
          "size": 0,
          "start": 0
         },
         "yaxis": "y"
        },
        {
         "legendgroup": "diabetic",
         "marker": {
          "color": "#FFD700"
         },
         "mode": "lines",
         "name": "diabetic",
         "showlegend": false,
         "type": "scatter",
         "x": [
          0,
          1.692,
          3.384,
          5.076,
          6.768,
          8.46,
          10.152,
          11.844,
          13.536,
          15.228,
          16.92,
          18.612,
          20.304,
          21.996,
          23.688,
          25.38,
          27.072,
          28.764,
          30.456,
          32.148,
          33.84,
          35.532,
          37.224,
          38.916,
          40.608,
          42.3,
          43.992,
          45.684,
          47.376,
          49.068,
          50.76,
          52.452,
          54.144,
          55.836,
          57.528,
          59.22,
          60.912,
          62.604,
          64.296,
          65.988,
          67.68,
          69.372,
          71.064,
          72.756,
          74.448,
          76.14,
          77.832,
          79.524,
          81.216,
          82.908,
          84.6,
          86.292,
          87.984,
          89.676,
          91.368,
          93.06,
          94.752,
          96.444,
          98.136,
          99.828,
          101.52,
          103.212,
          104.904,
          106.596,
          108.288,
          109.98,
          111.672,
          113.364,
          115.056,
          116.748,
          118.44,
          120.132,
          121.824,
          123.516,
          125.208,
          126.9,
          128.592,
          130.284,
          131.976,
          133.668,
          135.36,
          137.052,
          138.744,
          140.436,
          142.128,
          143.82,
          145.512,
          147.204,
          148.896,
          150.588,
          152.28,
          153.972,
          155.664,
          157.356,
          159.048,
          160.74,
          162.432,
          164.124,
          165.816,
          167.508,
          169.2,
          170.892,
          172.584,
          174.276,
          175.968,
          177.66,
          179.352,
          181.044,
          182.736,
          184.428,
          186.12,
          187.812,
          189.504,
          191.196,
          192.888,
          194.58,
          196.272,
          197.964,
          199.656,
          201.348,
          203.04,
          204.732,
          206.424,
          208.116,
          209.808,
          211.5,
          213.192,
          214.884,
          216.576,
          218.268,
          219.96,
          221.652,
          223.344,
          225.036,
          226.728,
          228.42,
          230.112,
          231.804,
          233.496,
          235.188,
          236.88,
          238.572,
          240.264,
          241.956,
          243.648,
          245.34,
          247.032,
          248.724,
          250.416,
          252.108,
          253.8,
          255.492,
          257.184,
          258.876,
          260.568,
          262.26,
          263.952,
          265.644,
          267.336,
          269.028,
          270.72,
          272.412,
          274.104,
          275.796,
          277.488,
          279.18,
          280.872,
          282.564,
          284.256,
          285.948,
          287.64,
          289.332,
          291.024,
          292.716,
          294.408,
          296.1,
          297.792,
          299.484,
          301.176,
          302.868,
          304.56,
          306.252,
          307.944,
          309.636,
          311.328,
          313.02,
          314.712,
          316.404,
          318.096,
          319.788,
          321.48,
          323.172,
          324.864,
          326.556,
          328.248,
          329.94,
          331.632,
          333.324,
          335.016,
          336.708,
          338.4,
          340.092,
          341.784,
          343.476,
          345.168,
          346.86,
          348.552,
          350.244,
          351.936,
          353.628,
          355.32,
          357.012,
          358.704,
          360.396,
          362.088,
          363.78,
          365.472,
          367.164,
          368.856,
          370.548,
          372.24,
          373.932,
          375.624,
          377.316,
          379.008,
          380.7,
          382.392,
          384.084,
          385.776,
          387.468,
          389.16,
          390.852,
          392.544,
          394.236,
          395.928,
          397.62,
          399.312,
          401.004,
          402.696,
          404.388,
          406.08,
          407.772,
          409.464,
          411.156,
          412.848,
          414.54,
          416.232,
          417.924,
          419.616,
          421.308,
          423,
          424.692,
          426.384,
          428.076,
          429.768,
          431.46,
          433.152,
          434.844,
          436.536,
          438.228,
          439.92,
          441.612,
          443.304,
          444.996,
          446.688,
          448.38,
          450.072,
          451.764,
          453.456,
          455.148,
          456.84,
          458.532,
          460.224,
          461.916,
          463.608,
          465.3,
          466.992,
          468.684,
          470.376,
          472.068,
          473.76,
          475.452,
          477.144,
          478.836,
          480.528,
          482.22,
          483.912,
          485.604,
          487.296,
          488.988,
          490.68,
          492.372,
          494.064,
          495.756,
          497.448,
          499.14,
          500.832,
          502.524,
          504.216,
          505.908,
          507.6,
          509.292,
          510.984,
          512.676,
          514.368,
          516.06,
          517.752,
          519.444,
          521.136,
          522.828,
          524.52,
          526.212,
          527.904,
          529.596,
          531.288,
          532.98,
          534.672,
          536.364,
          538.056,
          539.748,
          541.44,
          543.132,
          544.824,
          546.516,
          548.208,
          549.9,
          551.592,
          553.284,
          554.976,
          556.668,
          558.36,
          560.052,
          561.744,
          563.436,
          565.128,
          566.82,
          568.512,
          570.204,
          571.896,
          573.588,
          575.28,
          576.972,
          578.664,
          580.356,
          582.048,
          583.74,
          585.432,
          587.124,
          588.816,
          590.508,
          592.2,
          593.892,
          595.584,
          597.276,
          598.968,
          600.66,
          602.352,
          604.044,
          605.736,
          607.428,
          609.12,
          610.812,
          612.504,
          614.196,
          615.888,
          617.58,
          619.272,
          620.964,
          622.656,
          624.348,
          626.04,
          627.732,
          629.424,
          631.116,
          632.808,
          634.5,
          636.192,
          637.884,
          639.576,
          641.268,
          642.96,
          644.652,
          646.344,
          648.036,
          649.728,
          651.42,
          653.112,
          654.804,
          656.496,
          658.188,
          659.88,
          661.572,
          663.264,
          664.956,
          666.648,
          668.34,
          670.032,
          671.724,
          673.416,
          675.108,
          676.8,
          678.492,
          680.184,
          681.876,
          683.568,
          685.26,
          686.952,
          688.644,
          690.336,
          692.028,
          693.72,
          695.412,
          697.104,
          698.796,
          700.488,
          702.18,
          703.872,
          705.564,
          707.256,
          708.948,
          710.64,
          712.332,
          714.024,
          715.716,
          717.408,
          719.1,
          720.792,
          722.484,
          724.176,
          725.868,
          727.56,
          729.252,
          730.944,
          732.636,
          734.328,
          736.02,
          737.712,
          739.404,
          741.096,
          742.788,
          744.48,
          746.172,
          747.864,
          749.556,
          751.248,
          752.94,
          754.632,
          756.324,
          758.016,
          759.708,
          761.4,
          763.092,
          764.784,
          766.476,
          768.168,
          769.86,
          771.552,
          773.244,
          774.936,
          776.628,
          778.32,
          780.012,
          781.704,
          783.396,
          785.088,
          786.78,
          788.472,
          790.164,
          791.856,
          793.548,
          795.24,
          796.932,
          798.624,
          800.316,
          802.008,
          803.7,
          805.392,
          807.084,
          808.776,
          810.468,
          812.16,
          813.852,
          815.544,
          817.236,
          818.928,
          820.62,
          822.312,
          824.004,
          825.696,
          827.388,
          829.08,
          830.772,
          832.464,
          834.156,
          835.848,
          837.54,
          839.232,
          840.924,
          842.616,
          844.308
         ],
         "xaxis": "x",
         "y": [
          0.004748572549864572,
          0.00475645650762777,
          0.004758465550038619,
          0.004754649023507449,
          0.004745082211393617,
          0.004729865851917906,
          0.004709125477707012,
          0.004683010582978292,
          0.004651693626008812,
          0.004615368876074553,
          0.004574251115476922,
          0.004528574208576527,
          0.004478589550913993,
          0.0044245644125024694,
          0.004366780190213901,
          0.004305530584845688,
          0.004241119718938967,
          0.004173860211720753,
          0.004104071227661728,
          0.004032076515078126,
          0.003958202450968033,
          0.0038827761078626473,
          0.003806123357904422,
          0.0037285670286434963,
          0.0036504251241872765,
          0.0035720091243579763,
          0.003493622373424892,
          0.0034155585687990864,
          0.0033381003588253623,
          0.0032615180574955493,
          0.0031860684825599926,
          0.003111993922142517,
          0.003039521233592204,
          0.0029688610769428078,
          0.002900207284019534,
          0.0028337363629428185,
          0.0027696071365480805,
          0.002707960512076391,
          0.0026489193784095945,
          0.002592588626129076,
          0.0025390552847813982,
          0.0024883887709394926,
          0.0024406412399619907,
          0.0023958480337747104,
          0.002354028216532784,
          0.0023151851896639156,
          0.002279307377545458,
          0.002246368974923722,
          0.002216330747140625,
          0.002189140874284365,
          0.002164735830520357,
          0.0021430412900803122,
          0.0021239730516815413,
          0.0021074379735085574,
          0.0020933349113053516,
          0.0020815556525911583,
          0.002071985840515816,
          0.0020645058814046306,
          0.0020589918305988567,
          0.0020553162517673315,
          0.0020533490454413992,
          0.0020529582430996803,
          0.002054010763697618,
          0.0020563731300898653,
          0.002059912143329121,
          0.0020644955133361617,
          0.0020699924449194087,
          0.002076274178575486,
          0.002083214485920967,
          0.0020906901199897166,
          0.00209858122097647,
          0.002106771678317136,
          0.0021151494502671393,
          0.0021236068423735287,
          0.00213204074643361,
          0.0021403528416946496,
          0.0021484497601773223,
          0.002156243218100677,
          0.0021636501154528045,
          0.0021705926057887528,
          0.0021769981383501402,
          0.0021827994745905774,
          0.00218793468116062,
          0.0021923471013579696,
          0.0021959853069852793,
          0.002198803032482237,
          0.0022007590931130273,
          0.002201817288895637,
          0.002201946295861048,
          0.0022011195461263556,
          0.0021993150981611813,
          0.002196515498521979,
          0.002192707636224221,
          0.0021878825908224413,
          0.002182035475170015,
          0.0021751652737384856,
          0.002167274677289222,
          0.0021583699146094227,
          0.0021484605819500715,
          0.0021375594707363017,
          0.002125682394060046,
          0.00211284801241151,
          0.0020990776590594077,
          0.002084395165450233,
          0.0020688266869627134,
          0.002052400529326921,
          0.0020351469759942588,
          0.0020170981167283966,
          0.001998287677673734,
          0.0019787508531495467,
          0.0019585241394119855,
          0.0019376451706234438,
          0.0019161525572675062,
          0.0018940857272487924,
          0.001871484769918018,
          0.0018483902832652239,
          0.001824843224525839,
          0.0018008847644458972,
          0.0017765561454538385,
          0.0017518985439860012,
          0.0017269529372110528,
          0.001701759974396106,
          0.0016763598531516046,
          0.0016507922007861081,
          0.001625095960993006,
          0.0015993092860810507,
          0.0015734694349480698,
          0.0015476126769835036,
          0.0015217742020693051,
          0.001495988036831667,
          0.0014702869672777237,
          0.0014447024679310398,
          0.001419264637559501,
          0.001394002141567388,
          0.0013689421611014004,
          0.0013441103488977598,
          0.0013195307918751691,
          0.001295225980455172,
          0.0012712167845694035,
          0.0012475224362907475,
          0.001224160519003453,
          0.0012011469630064378,
          0.0011784960474230252,
          0.0011562204082707448,
          0.00113433105252572,
          0.0011128373779979172,
          0.0010917471988164016,
          0.001071066776307009,
          0.001050800855029691,
          0.0010309527037279016,
          0.0010115241609288017,
          0.0009925156849202557,
          0.0009739264078185264,
          0.0009557541934297569,
          0.0009379956985978476,
          0.0009206464377223287,
          0.0009037008501213162,
          0.0008871523699071198,
          0.000870993498035757,
          0.0008552158761860756,
          0.0008398103621196421,
          0.0008247671061696536,
          0.0008100756285046335,
          0.0007957248968122692,
          0.0007817034040492445,
          0.0007679992459049364,
          0.0007546001976306997,
          0.0007414937898915375,
          0.0007286673833041795,
          0.000716108241334335,
          0.0007038036012364424,
          0.0006917407427320205,
          0.0006799070541369951,
          0.0006682900956648457,
          0.0006568776596506313,
          0.0006456578274611144,
          0.0006346190228779688,
          0.0006237500617645995,
          0.0006130401978521479,
          0.0006024791645065085,
          0.0005920572123658756,
          0.0005817651427666,
          0.0005715943369044574,
          0.0005615367807079115,
          0.0005515850854297266,
          0.0005417325039928218,
          0.0005319729431554485,
          0.0005223009715889597,
          0.0005127118239888329,
          0.0005032014013652523,
          0.0004937662676837954,
          0.00048440364304871324,
          0.0004751113936411603,
          0.0004658880186419372,
          0.000456732634382826,
          0.0004476449559821546,
          0.0004386252767286252,
          0.00042967444548280706,
          0.00042079384236763125,
          0.00041198535301797685,
          0.0004032513416549561,
          0.00039459462324276443,
          0.0003860184349753475,
          0.00037752640732650054,
          0.00036912253488083,
          0.0003608111471444105,
          0.00035259687951335955,
          0.00034448464455608867,
          0.0003364796037412917,
          0.00032858713971893844,
          0.0003208128292363101,
          0.00031316241674555703,
          0.0003056417887342404,
          0.00029825694878576604,
          0.000291013993353363,
          0.0002839190882094967,
          0.00027697844551273433,
          0.0002701983014165416,
          0.00026358489412948153,
          0.0002571444423241919,
          0.0002508831237835212,
          0.000244807054166473,
          0.00023892226577429052,
          0.00023323468619822703,
          0.00022775011673518145,
          0.00022247421046555678,
          0.0002174124498991476,
          0.00021257012410955153,
          0.0002079523052952173,
          0.00020356382472561286,
          0.00019940924805365764,
          0.00019549285000030218,
          0.00019181858844344004,
          0.00018839007797079486,
          0.00018521056298458546,
          0.00018228289047412063,
          0.00017960948260051219,
          0.00017719230926495417,
          0.00017503286085792147,
          0.00017313212141077675,
          0.00017149054239311233,
          0.00017010801741828,
          0.0001689838581355365,
          0.00016811677159971725,
          0.0001675048394179825,
          0.00016714549897772448,
          0.00016703552705993265,
          0.000167171026138064,
          0.00016754741365364702,
          0.000168159414546456,
          0.0001690010572991663,
          0.00017006567373406618,
          0.00017134590277283267,
          0.00017283369833984136,
          0.00017452034155527826,
          0.0001763964573268296,
          0.00017845203540838492,
          0.0001806764559514607,
          0.0001830585195304673,
          0.00018558648157705306,
          0.00018824809111215855,
          0.0001910306336176823,
          0.00019392097784343953,
          0.00019690562629998275,
          0.00019997076914445675,
          0.0002031023411255932,
          0.0002062860812157481,
          0.00020950759452311227,
          0.00021275241604636056,
          0.00021600607580749587,
          0.00021925416487687243,
          0.00022248240178770326,
          0.00022567669882598933,
          0.00022882322767598642,
          0.00023190848390113822,
          0.00023491934974590378,
          0.0002378431547550719,
          0.00024066773372384589,
          0.00024338148151405425,
          0.0002459734042990092,
          0.00024843316683148726,
          0.0002507511353656716,
          0.00025291841590419306,
          0.00025492688748520863,
          0.000256769230271142,
          0.000258438948249802,
          0.00025993038640941126,
          0.00026123874230106595,
          0.0002623600719546439,
          0.00026329129016658073,
          0.0002640301652296159,
          0.00026457530822497416,
          0.0002649261570459342,
          0.00026508295536778004,
          0.0002650467268222618,
          0.00026481924467444283,
          0.000264402997335779,
          0.00026380115007912787,
          0.0002630175033488361,
          0.00026205644808187427,
          0.00026092291847403556,
          0.0002596223426383854,
          0.0002581605916114212,
          0.0002565439271658154,
          0.00025477894888724595,
          0.0002528725409668443,
          0.0002508318191503977,
          0.00024866407827088034,
          0.0002463767407724714,
          0.00024397730661225123,
          0.0002414733049006392,
          0.00023887224761370886,
          0.00023618158568022103,
          0.00023340866771394018,
          0.0002305607016280009,
          0.00022764471933315916,
          0.00022466754468613716,
          0.00022163576481835505,
          0.00021855570493951306,
          0.00021543340667513756,
          0.00021227460996266014,
          0.00020908473849720158,
          0.00020586888868624656,
          0.00020263182204212997,
          0.00019937796091286733,
          0.0001961113874256344,
          0.00019283584549321516,
          0.00018955474571218957,
          0.0001862711729625707,
          0.00018298789650213922,
          0.00017970738233485077,
          0.0001764318076214716,
          0.00017316307689196694,
          0.00016990283981312173,
          0.00016665251026133402,
          0.00016341328644941112,
          0.00016018617185743146,
          0.00015697199672117185,
          0.00015377143983715498,
          0.00015058505045085504,
          0.00014741327000392305,
          0.0001442564535272457,
          0.0001411148904791227,
          0.00013798882484162496,
          0.0001348784743031572,
          0.00013178404837117758,
          0.00012870576527579042,
          0.00012564386754232746,
          0.00012259863612890595,
          0.00011957040304313729,
          0.00011655956237047017,
          0.0001135665796649517,
          0.00011059199967128977,
          0.0001076364523648763,
          0.0001047006573137112,
          0.00010178542638282793,
          0.0000988916648177212,
          0.00009602037075830218,
          0.00009317263324892358,
          0.00009034962882295283,
          0.00008755261675209952,
          0.00008478293306117624,
          0.00008204198341809873,
          0.00007933123501667014,
          0.00007665220757601258,
          0.00007400646358535856,
          0.00007139559792632132,
          0.00006882122700669301,
          0.00006628497754033105,
          0.00006378847510678334,
          0.00006133333262206229,
          0.0000589211388484212,
          0.0000565534470662426,
          0.000054231764025251834,
          0.00005195753928536534,
          0.00004973215504963936,
          0.00004755691658315127,
          0.00004543304330231593,
          0.00004336166060925868,
          0.00004134379253556074,
          0.00003938035524908314,
          0.00003747215146681232,
          0.00003561986580585951,
          0.00003382406109403755,
          0.000032085175650926355,
          0.00003040352154016283,
          0.000028779283783927283,
          0.000027212520521374145,
          0.00002570316408412441,
          0.000024251022954000712,
          0.000022855784560984326,
          0.00002151701887297483,
          0.00002023418272335682,
          0.00001900662481766611,
          0.000017833591356796427,
          0.00001671423221120691,
          0.000015647607578466533,
          0.000014632695055174919,
          0.000013668397053808333,
          0.00001275354849529881,
          0.000011886924709126131,
          0.000011067249474318305,
          0.000010293203136959893,
          0.000009563430742527243,
          0.000008876550124536846,
          0.000008231159894529943,
          0.000007625847282255261,
          0.0000070591957789708444,
          0.000006529792541000608,
          0.000006036235514975291,
          0.00000557714025049823,
          0.00000515114637024203,
          0.000004756923671642719,
          0.000004393177838367652,
          0.000004058655743542364,
          0.0000037521503302971547,
          0.0000034725050585011396,
          0.0000032186179095712945,
          0.000002989444943955378,
          0.000002784003408287411,
          0.000002601374391295621,
          0.000002440705029314934,
          0.0000023012102637273876,
          0.0000021821741538444713,
          0.0000020829507496762577,
          0.000002002964529732452,
          0.0000019417104095018047,
          0.0000018987533265937578,
          0.0000018737274087387752,
          0.0000018663347309709545,
          0.0000018763436684000993,
          0.000001903586851061704,
          0.0000019479587274537718,
          0.0000020094127435685835,
          0.000002087958144543715,
          0.000002183656406524191,
          0.0000022966173069787153,
          0.000002426994642573912,
          0.0000025749816048047246,
          0.0000027408058249224447,
          0.0000029247241013058795,
          0.000003127016824291152,
          0.0000033479821156082073,
          0.0000035879297019602775,
          0.000003847174544908904,
          0.000004126030252071072,
          0.000004424802297664324,
          0.000004743781083616924,
          0.000005083234875748115,
          0.000005443402652872966,
          0.000005824486910038735,
          0.0000062266464604030075,
          0.000006649989283449244,
          0.000007094565470243256,
          0.000007560360319192826,
          0.000008047287638218768,
          0.000008555183311306523,
          0.000009083799189020029,
          0.000009632797363660588,
          0.000010201744890279476,
          0.00001079010901465453,
          0.000011397252968564456,
          0.00001202243239120615,
          0.000012664792433358696,
          0.000013323365597892093,
          0.000013997070366425755,
          0.000014684710657371182,
          0.000015384976155247763,
          0.00001609644354507314,
          0.000016817578678826532,
          0.00001754673969352368,
          0.000018282181092377922,
          0.00001902205879193635,
          0.000019764436129047528,
          0.000020507290812140728,
          0.00002124852279167946,
          0.000021985963014902215,
          0.00002271738302020689,
          0.000023440505316891276,
          0.000024153014486563625,
          0.000024852568933504842,
          0.000025536813202738574,
          0.000026203390776658587,
          0.00002684995725390796,
          0.000027474193807906052,
          0.000028073820817090922,
          0.000028646611554672903,
          0.000029190405822567506,
          0.000029703123412260978,
          0.000030182777274705713,
          0.00003062748628199063,
          0.00003103548746549316,
          0.000031405147618502825,
          0.000031734974155885195,
          0.0000320236251292002,
          0.00003226991830273865,
          0.00003247283920412855,
          0.000032631548072391975,
          0.00003274538563650626,
          0.000032813877668514355
         ],
         "yaxis": "y"
        },
        {
         "legendgroup": "healthy",
         "marker": {
          "color": "#7EC0EE"
         },
         "mode": "lines",
         "name": "healthy",
         "showlegend": false,
         "type": "scatter",
         "x": [
          0,
          1.488,
          2.976,
          4.464,
          5.952,
          7.44,
          8.928,
          10.416,
          11.904,
          13.392,
          14.88,
          16.368,
          17.856,
          19.344,
          20.832,
          22.32,
          23.808,
          25.296,
          26.784,
          28.272,
          29.76,
          31.248,
          32.736,
          34.224,
          35.712,
          37.2,
          38.688,
          40.176,
          41.664,
          43.152,
          44.64,
          46.128,
          47.616,
          49.104,
          50.592,
          52.08,
          53.568,
          55.056,
          56.544,
          58.032,
          59.52,
          61.008,
          62.496,
          63.984,
          65.472,
          66.96,
          68.448,
          69.936,
          71.424,
          72.912,
          74.4,
          75.888,
          77.376,
          78.864,
          80.352,
          81.84,
          83.328,
          84.816,
          86.304,
          87.792,
          89.28,
          90.768,
          92.256,
          93.744,
          95.232,
          96.72,
          98.208,
          99.696,
          101.184,
          102.672,
          104.16,
          105.648,
          107.136,
          108.624,
          110.112,
          111.6,
          113.088,
          114.576,
          116.064,
          117.552,
          119.04,
          120.528,
          122.016,
          123.504,
          124.992,
          126.48,
          127.968,
          129.456,
          130.944,
          132.432,
          133.92,
          135.408,
          136.896,
          138.384,
          139.872,
          141.36,
          142.848,
          144.336,
          145.824,
          147.312,
          148.8,
          150.288,
          151.776,
          153.264,
          154.752,
          156.24,
          157.728,
          159.216,
          160.704,
          162.192,
          163.68,
          165.168,
          166.656,
          168.144,
          169.632,
          171.12,
          172.608,
          174.096,
          175.584,
          177.072,
          178.56,
          180.048,
          181.536,
          183.024,
          184.512,
          186,
          187.488,
          188.976,
          190.464,
          191.952,
          193.44,
          194.928,
          196.416,
          197.904,
          199.392,
          200.88,
          202.368,
          203.856,
          205.344,
          206.832,
          208.32,
          209.808,
          211.296,
          212.784,
          214.272,
          215.76,
          217.248,
          218.736,
          220.224,
          221.712,
          223.2,
          224.688,
          226.176,
          227.664,
          229.152,
          230.64,
          232.128,
          233.616,
          235.104,
          236.592,
          238.08,
          239.568,
          241.056,
          242.544,
          244.032,
          245.52,
          247.008,
          248.496,
          249.984,
          251.472,
          252.96,
          254.448,
          255.936,
          257.424,
          258.912,
          260.4,
          261.888,
          263.376,
          264.864,
          266.352,
          267.84,
          269.328,
          270.816,
          272.304,
          273.792,
          275.28,
          276.768,
          278.256,
          279.744,
          281.232,
          282.72,
          284.208,
          285.696,
          287.184,
          288.672,
          290.16,
          291.648,
          293.136,
          294.624,
          296.112,
          297.6,
          299.088,
          300.576,
          302.064,
          303.552,
          305.04,
          306.528,
          308.016,
          309.504,
          310.992,
          312.48,
          313.968,
          315.456,
          316.944,
          318.432,
          319.92,
          321.408,
          322.896,
          324.384,
          325.872,
          327.36,
          328.848,
          330.336,
          331.824,
          333.312,
          334.8,
          336.288,
          337.776,
          339.264,
          340.752,
          342.24,
          343.728,
          345.216,
          346.704,
          348.192,
          349.68,
          351.168,
          352.656,
          354.144,
          355.632,
          357.12,
          358.608,
          360.096,
          361.584,
          363.072,
          364.56,
          366.048,
          367.536,
          369.024,
          370.512,
          372,
          373.488,
          374.976,
          376.464,
          377.952,
          379.44,
          380.928,
          382.416,
          383.904,
          385.392,
          386.88,
          388.368,
          389.856,
          391.344,
          392.832,
          394.32,
          395.808,
          397.296,
          398.784,
          400.272,
          401.76,
          403.248,
          404.736,
          406.224,
          407.712,
          409.2,
          410.688,
          412.176,
          413.664,
          415.152,
          416.64,
          418.128,
          419.616,
          421.104,
          422.592,
          424.08,
          425.568,
          427.056,
          428.544,
          430.032,
          431.52,
          433.008,
          434.496,
          435.984,
          437.472,
          438.96,
          440.448,
          441.936,
          443.424,
          444.912,
          446.4,
          447.888,
          449.376,
          450.864,
          452.352,
          453.84,
          455.328,
          456.816,
          458.304,
          459.792,
          461.28,
          462.768,
          464.256,
          465.744,
          467.232,
          468.72,
          470.208,
          471.696,
          473.184,
          474.672,
          476.16,
          477.648,
          479.136,
          480.624,
          482.112,
          483.6,
          485.088,
          486.576,
          488.064,
          489.552,
          491.04,
          492.528,
          494.016,
          495.504,
          496.992,
          498.48,
          499.968,
          501.456,
          502.944,
          504.432,
          505.92,
          507.408,
          508.896,
          510.384,
          511.872,
          513.36,
          514.848,
          516.336,
          517.824,
          519.312,
          520.8,
          522.288,
          523.776,
          525.264,
          526.752,
          528.24,
          529.728,
          531.216,
          532.704,
          534.192,
          535.68,
          537.168,
          538.656,
          540.144,
          541.632,
          543.12,
          544.608,
          546.096,
          547.584,
          549.072,
          550.56,
          552.048,
          553.536,
          555.024,
          556.512,
          558,
          559.488,
          560.976,
          562.464,
          563.952,
          565.44,
          566.928,
          568.416,
          569.904,
          571.392,
          572.88,
          574.368,
          575.856,
          577.344,
          578.832,
          580.32,
          581.808,
          583.296,
          584.784,
          586.272,
          587.76,
          589.248,
          590.736,
          592.224,
          593.712,
          595.2,
          596.688,
          598.176,
          599.664,
          601.152,
          602.64,
          604.128,
          605.616,
          607.104,
          608.592,
          610.08,
          611.568,
          613.056,
          614.544,
          616.032,
          617.52,
          619.008,
          620.496,
          621.984,
          623.472,
          624.96,
          626.448,
          627.936,
          629.424,
          630.912,
          632.4,
          633.888,
          635.376,
          636.864,
          638.352,
          639.84,
          641.328,
          642.816,
          644.304,
          645.792,
          647.28,
          648.768,
          650.256,
          651.744,
          653.232,
          654.72,
          656.208,
          657.696,
          659.184,
          660.672,
          662.16,
          663.648,
          665.136,
          666.624,
          668.112,
          669.6,
          671.088,
          672.576,
          674.064,
          675.552,
          677.04,
          678.528,
          680.016,
          681.504,
          682.992,
          684.48,
          685.968,
          687.456,
          688.944,
          690.432,
          691.92,
          693.408,
          694.896,
          696.384,
          697.872,
          699.36,
          700.848,
          702.336,
          703.824,
          705.312,
          706.8,
          708.288,
          709.776,
          711.264,
          712.752,
          714.24,
          715.728,
          717.216,
          718.704,
          720.192,
          721.68,
          723.168,
          724.656,
          726.144,
          727.632,
          729.12,
          730.608,
          732.096,
          733.584,
          735.072,
          736.56,
          738.048,
          739.536,
          741.024,
          742.512
         ],
         "xaxis": "x",
         "y": [
          0.0071748731632725665,
          0.0072096841300084745,
          0.007228813601489551,
          0.007232485034373522,
          0.007221053969935232,
          0.007195002556536603,
          0.007154932310747456,
          0.007101555252864411,
          0.007035683583022643,
          0.006958218090619306,
          0.00687013551176229,
          0.006772475066435376,
          0.006666324418702128,
          0.0065528053093529175,
          0.006433059110911374,
          0.0063082325499565,
          0.006179463831559287,
          0.006047869385648509,
          0.0059145314358397035,
          0.005780486568270649,
          0.0056467154519859244,
          0.005514133834135899,
          0.005383584903475307,
          0.005255833085147591,
          0.00513155929928219,
          0.0050113576862552784,
          0.00489573377322549,
          0.004785104030379298,
          0.004679796741701091,
          0.004580054094454728,
          0.004486035374238234,
          0.004397821138662917,
          0.0043154182325213526,
          0.00423876550074832,
          0.004167740052456792,
          0.004102163929668586,
          0.004041811037807978,
          0.003986414201271617,
          0.003935672216064646,
          0.003889256782208432,
          0.003846819210954032,
          0.0038079968153578556,
          0.00377241890706572,
          0.0037397123368045184,
          0.0037095065307205712,
          0.0036814379889823137,
          0.0036551542266814742,
          0.0036303171497613276,
          0.003606605870266688,
          0.003583718975481787,
          0.003561376274396298,
          0.003539320052344755,
          0.0035173158705863344,
          0.00349515295204679,
          0.003472644197492931,
          0.0034496258781302955,
          0.003425957051126187,
          0.0034015187439827258,
          0.003376212952165868,
          0.003349961492082498,
          0.003322704748543524,
          0.003294400352403299,
          0.0032650218202732164,
          0.0032345571842046323,
          0.0032030076351458395,
          0.0031703861999157184,
          0.0031367164674935923,
          0.0031020313766867967,
          0.0030663720737673958,
          0.0030297868455161875,
          0.0029923301303145717,
          0.0029540616075007017,
          0.0029150453631667625,
          0.0028753491289171635,
          0.002835043588819604,
          0.002794201748846796,
          0.0027528983624966947,
          0.0027112094059653603,
          0.002669211596196027,
          0.002626981945304231,
          0.0025845973452468625,
          0.0025421341771264725,
          0.0024996679401679905,
          0.002457272896139477,
          0.0024150217257810683,
          0.0023729851946322684,
          0.002331231826477519,
          0.0022898275834481296,
          0.0022488355525999734,
          0.002208315639521375,
          0.002168324270194909,
          0.0021289141029361366,
          0.0020901337527465145,
          0.002052027530846555,
          0.002014635202490179,
          0.001977991766400194,
          0.0019421272593075267,
          0.0019070665891221647,
          0.0018728294002122764,
          0.0018394299741235805,
          0.0018068771688363164,
          0.001775174399336216,
          0.0017443196618753458,
          0.0017143056038258627,
          0.0016851196404904915,
          0.0016567441196401148,
          0.0016291565339083152,
          0.0016023297804991829,
          0.0015762324669674724,
          0.0015508292611241818,
          0.001526081282418035,
          0.0015019465314580268,
          0.0014783803536879126,
          0.0014553359326134028,
          0.0014327648074304088,
          0.001410617409419354,
          0.001388843611067436,
          0.0013673932815677257,
          0.0013462168421283008,
          0.0013252658144127403,
          0.0013044933554279394,
          0.001283854772279776,
          0.001263308010428405,
          0.0012428141093919903,
          0.0012223376202633925,
          0.001201846979912494,
          0.0011813148373365898,
          0.0011607183282825785,
          0.0011400392949840008,
          0.001119264448619651,
          0.00109838547289439,
          0.0010773990679512767,
          0.0010563069346329113,
          0.0010351156999044975,
          0.00101383678501698,
          0.0009924862187146038,
          0.0009710843984647581,
          0.0009496558033001766,
          0.0009282286624066451,
          0.0009068345840572777,
          0.0008855081498831646,
          0.0008642864797783695,
          0.0008432087729639676,
          0.0008223158308834149,
          0.0008016495676725236,
          0.0007812525139465047,
          0.0007611673195791185,
          0.0007414362610209214,
          0.0007221007585216101,
          0.0007032009083919249,
          0.0006847750351702041,
          0.0006668592682529822,
          0.0006494871472141954,
          0.0006326892596776437,
          0.0006164929152265877,
          0.0006009218584355705,
          0.0005859960236952175,
          0.0005717313340718324,
          0.0005581395460014473,
          0.0005452281411625176,
          0.0005330002664032809,
          0.0005214547221188016,
          0.0005105859989796784,
          0.0005003843624102058,
          0.0004908359837002705,
          0.00048192311611514586,
          0.00047362431384454775,
          0.000465914691111742,
          0.0004587662182514721,
          0.0004521480510693957,
          0.0004460268893241129,
          0.00044036735973508866,
          0.0004351324185259359,
          0.0004302837681729652,
          0.0004257822827540992,
          0.0004215884360931539,
          0.00041766272677841643,
          0.0004139660941103984,
          0.000410460319108126,
          0.0004071084048808174,
          0.00040387493095463725,
          0.00040072637653199846,
          0.0003976314081508266,
          0.00039456112779734755,
          0.00039148927819988546,
          0.00038839240278147423,
          0.00038524995856206045,
          0.00038204438116053575,
          0.000378761101934973,
          0.0003753885181967247,
          0.00037191791832026324,
          0.00036834336442505386,
          0.00036466153610787593,
          0.00036087153943412673,
          0.0003569746860365244,
          0.00035297424770286065,
          0.0003488751922471256,
          0.0003446839067396253,
          0.00034040791431366583,
          0.000336055590765161,
          0.0003316358870164377,
          0.0003271580632301759,
          0.0003226314399407629,
          0.0003180651710292061,
          0.00031346804271802314,
          0.0003088483020212108,
          0.0003042135172708267,
          0.000299570472477251,
          0.00029492509638742926,
          0.00029028242620768524,
          0.0002856466050783553,
          0.00028102091154922677,
          0.00027640781852897805,
          0.00027180907848805695,
          0.0002672258310997224,
          0.0002626587290225651,
          0.00025810807717055467,
          0.00025357398059088214,
          0.00024905649597917125,
          0.0002445557819058184,
          0.0002400722430023536,
          0.0002356066636552964,
          0.00023116032716621808,
          0.00022673511684688662,
          0.00022233359611130974,
          0.00021795906528400673,
          0.00021361559354645613,
          0.00020930802517101516,
          0.00020504195992322431,
          0.00020082370822920178,
          0.00019666022238570109,
          0.00019255900571882604,
          0.00018852800215777315,
          0.00018457546916915852,
          0.00018070983738497208,
          0.00017693956054549005,
          0.00017327295956298276,
          0.00016971806459141283,
          0.00016628245896300602,
          0.00016297312872904973,
          0.0001597963213264819,
          0.0001567574165930815,
          0.0001538608129835473,
          0.0001511098314091907,
          0.0001485066386491315,
          0.000146052191775205,
          0.000143746204510825,
          0.00014158713592011664,
          0.0001395722013113986,
          0.00013769740475115134,
          0.00013595759213226396,
          0.0001343465233332798,
          0.00013285696165147185,
          0.0001314807783978856,
          0.00013020907031100035,
          0.0001290322872794877,
          0.00012794036776383406,
          0.00012692287926976658,
          0.0001259691612502398,
          0.00012506846789259128,
          0.00012421010837752636,
          0.00012338358237011022,
          0.00012257870871250462,
          0.00012178574552596216,
          0.00012099550018760675,
          0.0001201994279178934,
          0.00011938971798978983,
          0.00011855936684358145,
          0.00011770223765539694,
          0.00011681310615750502,
          0.00011588769273948798,
          0.00011492268106788087,
          0.00011391572364510549,
          0.00011286543488488458,
          0.00011177137241012369,
          0.00011063400738075327,
          0.00010945468473434041,
          0.00010823557427324605,
          0.00010697961356118516,
          0.00010569044360219363,
          0.00010437233826951201,
          0.00010303012843426253,
          0.00010166912171756485,
          0.000100295018758376,
          0.00009891382685608145,
          0.00009753177181460612,
          0.00009615520878598009,
          0.00009479053288779061,
          0.00009344409035203881,
          0.00009212209095323038,
          0.00009083052246098514,
          0.00008957506786632806,
          0.00008836102613972395,
          0.00008719323729089306,
          0.00008607601251300411,
          0.00008501307020413723,
          0.00008400747866378719,
          0.0000830616062583775,
          0.00008217707983402146,
          0.00008135475212402362,
          0.00008059467885012875,
          0.0000798961061480366,
          0.00007925746885758048,
          0.00007867640010532942,
          0.00007814975247216975,
          0.00007767363088151253,
          0.00007724343716695841,
          0.00007685392608427786,
          0.00007649927232506967,
          0.0000761731478729222,
          0.0000758688088225006,
          0.00007557919056347685,
          0.00007529701002076607,
          0.0000750148734464809,
          0.00007472538808371858,
          0.00007442127587386157,
          0.00007409548726316753,
          0.00007374131308604159,
          0.00007335249246565941,
          0.0000729233146806366,
          0.00007244871300114326,
          0.00007192434859987441,
          0.000071346682791899,
          0.00007071303605054841,
          0.00007002163248075177,
          0.00006927162870190515,
          0.00006846312639363724,
          0.0000675971680828838,
          0.00006667571609187405,
          0.00006570161491573645,
          0.00006467853764689123,
          0.00006361091740252107,
          0.00006250386503270089,
          0.0000613630746820844,
          0.0000601947190399286,
          0.0000590053363350422,
          0.000057801711308398255,
          0.00005659075252225612,
          0.00005537936843761116,
          0.000054174344709955506,
          0.000052982225116406265,
          0.00005180919843640996,
          0.00005066099346596516,
          0.00004954278415544038,
          0.00004845910662855469,
          0.00004741378957091318,
          0.0000464098991774669,
          0.0000454496995268362,
          0.00004453462891449855,
          0.000043665292334485045,
          0.000042841469958583326,
          0.0000420621411309968,
          0.000041325523082489326,
          0.000040629123278160304,
          0.000039969804053349404,
          0.00003934385796805823,
          0.00003874709212602901,
          0.0000381749195634765,
          0.00003762245571656907,
          0.000037084617927068474,
          0.00003655622594193033,
          0.00003603210140387162,
          0.00003550716441365574,
          0.000034976525367884205,
          0.000034435570434349074,
          0.000033880039215699245,
          0.000033306093365951264,
          0.000032710375157446494,
          0.00003209005524218536,
          0.00003144286910490042,
          0.000030767141959680344,
          0.000030061802091527768,
          0.000029326382883391035,
          0.00002856101399287018,
          0.0000277664023464824,
          0.000026943803799248196,
          0.000026094986460368585,
          0.000025222186809600134,
          0.000024328059822142667,
          0.000023415624381766642,
          0.000022488205292660698,
          0.0000215493732009705,
          0.000020602883708795628,
          0.000019652616908719974,
          0.00001870251848847577,
          0.000017756543456238535,
          0.00001681860342076045,
          0.000015892518230752598,
          0.000014981972638363862,
          0.000014090478506043002,
          0.000013221342928134009,
          0.000012377642491707703,
          0.00001156220375852437,
          0.000010777589914508703,
          0.000010026093407130497,
          0.00000930973427667134,
          0.000008630263786103199,
          0.0000079891728673854,
          0.000007387704830127105,
          0.000006826871722113311,
          0.0000063074736901136975,
          0.0000058301206633453315,
          0.000005395255670305873,
          0.000005003179101594942,
          0.000004654073245769924,
          0.0000043480264511113866,
          0.000004085056302187134,
          0.000003865131245079648,
          0.000003688190147846749,
          0.0000035541593420452895,
          0.0000034629667558316046,
          0.0000034145528182143485,
          0.0000034088778864962217,
          0.0000034459260239019325,
          0.0000035257050310093586,
          0.000003648242712089191,
          0.0000038135794350518937,
          0.000004021757120643957,
          0.000004272804872059619,
          0.00000456672152943409,
          0.0000049034555039084435,
          0.0000052828823121842585,
          0.0000057047802937380355,
          0.000006168805048082205,
          0.000006674463177540742,
          0.000007221085960793449,
          0.000007807803612778533,
          0.00000843352080627311,
          0.000009096894138515048,
          0.000009796312221591225,
          0.0000105298790571693,
          0.000011295401323844512,
          0.000012090380158531414,
          0.00001291200795184527,
          0.000013757170601539759,
          0.00001462245557838845,
          0.000015504166056424913,
          0.00001639834124557055,
          0.000017300782941189814,
          0.000018207088174176325,
          0.00001911268770934113,
          0.000020012890001959928,
          0.000020902930085445385,
          0.000021778022730488723,
          0.000022633419091039556,
          0.00002346446593851214,
          0.000024266666485914267,
          0.0000250357417212628,
          0.000025767691107495653,
          0.000026458851466520778,
          0.00002710595285002899,
          0.000027706170210639967,
          0.00002825716972467193,
          0.000028757148682472553,
          0.00002920486795331498,
          0.000029599676148126284,
          0.000029941524742907658,
          0.000030230973586081465,
          0.000030469186391045887,
          0.00003065791600727431,
          0.00003079947946527577,
          0.00003089672299819713,
          0.000030952977451131486,
          0.00003097200469351807,
          0.0000309579358456022,
          0.000030915202312126034,
          0.00003084846078084537,
          0.00003076251348608609,
          0.00003066222515480144,
          0.0000305524381414672,
          0.000030437887316291714,
          0.00003032311629696015,
          0.00003021239660655578,
          0.000030109651299258533,
          0.000030018384521534896,
          0.000029941618371193104,
          0.00002988183828199895,
          0.00002984094800033098,
          0.000029820235036013254,
          0.000029820347265951403,
          0.000029841281150909467,
          0.000029882381797439756,
          0.000029942354863585984,
          0.000030019290073610123,
          0.00003011069587873267,
          0.000030213544582692265,
          0.00003032432704755982,
          0.000030439115911073645,
          0.00003055363608574165,
          0.00003066334117549055,
          0.00003076349434052023,
          0.00003084925206735129,
          0.000030915749260211395,
          0.000030958184062505584,
          0.00003097190084299454,
          0.00003095246983953334,
          0.00003089576204212674,
          0.00003079801801425953,
          0.0000306559094939531,
          0.00003046659278020806
         ],
         "yaxis": "y"
        },
        {
         "legendgroup": "diabetic",
         "marker": {
          "color": "#FFD700",
          "symbol": "line-ns-open"
         },
         "mode": "markers",
         "name": "diabetic",
         "showlegend": false,
         "type": "scatter",
         "x": [
          0,
          0,
          168,
          88,
          543,
          0,
          0,
          846,
          175,
          0,
          230,
          0,
          96,
          0,
          0,
          146,
          115,
          0,
          245,
          0,
          0,
          207,
          240,
          0,
          0,
          300,
          304,
          0,
          0,
          0,
          90,
          0,
          0,
          0,
          110,
          0,
          220,
          0,
          36,
          135,
          495,
          175,
          0,
          0,
          100,
          0,
          99,
          145,
          0,
          168,
          0,
          225,
          0,
          155,
          0,
          0,
          114,
          0,
          156,
          0,
          130,
          130,
          130,
          0,
          0,
          495,
          58,
          114,
          160,
          0,
          0,
          210,
          48,
          99,
          318,
          280,
          0,
          0,
          130,
          175,
          271,
          129,
          0,
          0,
          478,
          0,
          0,
          0,
          370,
          0,
          192,
          0,
          0,
          0,
          176,
          0,
          258,
          0,
          150,
          0,
          0,
          0,
          0,
          0,
          0,
          0,
          0,
          0,
          220,
          74,
          182,
          194,
          360,
          184,
          0,
          135,
          0,
          132,
          180,
          205,
          96,
          0,
          0,
          0,
          0,
          0,
          29,
          156,
          120,
          0,
          0,
          171,
          0,
          0,
          0,
          167,
          0,
          249,
          325,
          0,
          0,
          140,
          465,
          325,
          0,
          0,
          0,
          285,
          0,
          0,
          0,
          0,
          0,
          88,
          0,
          0,
          0,
          579,
          167,
          474,
          0,
          115,
          210,
          277,
          180,
          180,
          0,
          0,
          0,
          0,
          14,
          64,
          0,
          0,
          237,
          0,
          191,
          328,
          0,
          250,
          122,
          145,
          0,
          90,
          0,
          105,
          165,
          0,
          0,
          155,
          215,
          190,
          0,
          225,
          207,
          0,
          274,
          165,
          0,
          0,
          0,
          600,
          0,
          156,
          0,
          0,
          185,
          0,
          126,
          0,
          293,
          194,
          321,
          144,
          0,
          0,
          0,
          0,
          91,
          0,
          144,
          159,
          130,
          540,
          70,
          0,
          231,
          130,
          0,
          0,
          0,
          0,
          0,
          0,
          0,
          0,
          180,
          0,
          125,
          480,
          125,
          0,
          0,
          0,
          0,
          160,
          0,
          392,
          185,
          0,
          127,
          79,
          0,
          120,
          0,
          150,
          0,
          0,
          200,
          0,
          0,
          510,
          0,
          110,
          0,
          0,
          0,
          0
         ],
         "xaxis": "x",
         "y": [
          "diabetic",
          "diabetic",
          "diabetic",
          "diabetic",
          "diabetic",
          "diabetic",
          "diabetic",
          "diabetic",
          "diabetic",
          "diabetic",
          "diabetic",
          "diabetic",
          "diabetic",
          "diabetic",
          "diabetic",
          "diabetic",
          "diabetic",
          "diabetic",
          "diabetic",
          "diabetic",
          "diabetic",
          "diabetic",
          "diabetic",
          "diabetic",
          "diabetic",
          "diabetic",
          "diabetic",
          "diabetic",
          "diabetic",
          "diabetic",
          "diabetic",
          "diabetic",
          "diabetic",
          "diabetic",
          "diabetic",
          "diabetic",
          "diabetic",
          "diabetic",
          "diabetic",
          "diabetic",
          "diabetic",
          "diabetic",
          "diabetic",
          "diabetic",
          "diabetic",
          "diabetic",
          "diabetic",
          "diabetic",
          "diabetic",
          "diabetic",
          "diabetic",
          "diabetic",
          "diabetic",
          "diabetic",
          "diabetic",
          "diabetic",
          "diabetic",
          "diabetic",
          "diabetic",
          "diabetic",
          "diabetic",
          "diabetic",
          "diabetic",
          "diabetic",
          "diabetic",
          "diabetic",
          "diabetic",
          "diabetic",
          "diabetic",
          "diabetic",
          "diabetic",
          "diabetic",
          "diabetic",
          "diabetic",
          "diabetic",
          "diabetic",
          "diabetic",
          "diabetic",
          "diabetic",
          "diabetic",
          "diabetic",
          "diabetic",
          "diabetic",
          "diabetic",
          "diabetic",
          "diabetic",
          "diabetic",
          "diabetic",
          "diabetic",
          "diabetic",
          "diabetic",
          "diabetic",
          "diabetic",
          "diabetic",
          "diabetic",
          "diabetic",
          "diabetic",
          "diabetic",
          "diabetic",
          "diabetic",
          "diabetic",
          "diabetic",
          "diabetic",
          "diabetic",
          "diabetic",
          "diabetic",
          "diabetic",
          "diabetic",
          "diabetic",
          "diabetic",
          "diabetic",
          "diabetic",
          "diabetic",
          "diabetic",
          "diabetic",
          "diabetic",
          "diabetic",
          "diabetic",
          "diabetic",
          "diabetic",
          "diabetic",
          "diabetic",
          "diabetic",
          "diabetic",
          "diabetic",
          "diabetic",
          "diabetic",
          "diabetic",
          "diabetic",
          "diabetic",
          "diabetic",
          "diabetic",
          "diabetic",
          "diabetic",
          "diabetic",
          "diabetic",
          "diabetic",
          "diabetic",
          "diabetic",
          "diabetic",
          "diabetic",
          "diabetic",
          "diabetic",
          "diabetic",
          "diabetic",
          "diabetic",
          "diabetic",
          "diabetic",
          "diabetic",
          "diabetic",
          "diabetic",
          "diabetic",
          "diabetic",
          "diabetic",
          "diabetic",
          "diabetic",
          "diabetic",
          "diabetic",
          "diabetic",
          "diabetic",
          "diabetic",
          "diabetic",
          "diabetic",
          "diabetic",
          "diabetic",
          "diabetic",
          "diabetic",
          "diabetic",
          "diabetic",
          "diabetic",
          "diabetic",
          "diabetic",
          "diabetic",
          "diabetic",
          "diabetic",
          "diabetic",
          "diabetic",
          "diabetic",
          "diabetic",
          "diabetic",
          "diabetic",
          "diabetic",
          "diabetic",
          "diabetic",
          "diabetic",
          "diabetic",
          "diabetic",
          "diabetic",
          "diabetic",
          "diabetic",
          "diabetic",
          "diabetic",
          "diabetic",
          "diabetic",
          "diabetic",
          "diabetic",
          "diabetic",
          "diabetic",
          "diabetic",
          "diabetic",
          "diabetic",
          "diabetic",
          "diabetic",
          "diabetic",
          "diabetic",
          "diabetic",
          "diabetic",
          "diabetic",
          "diabetic",
          "diabetic",
          "diabetic",
          "diabetic",
          "diabetic",
          "diabetic",
          "diabetic",
          "diabetic",
          "diabetic",
          "diabetic",
          "diabetic",
          "diabetic",
          "diabetic",
          "diabetic",
          "diabetic",
          "diabetic",
          "diabetic",
          "diabetic",
          "diabetic",
          "diabetic",
          "diabetic",
          "diabetic",
          "diabetic",
          "diabetic",
          "diabetic",
          "diabetic",
          "diabetic",
          "diabetic",
          "diabetic",
          "diabetic",
          "diabetic",
          "diabetic",
          "diabetic",
          "diabetic",
          "diabetic",
          "diabetic",
          "diabetic",
          "diabetic",
          "diabetic",
          "diabetic",
          "diabetic",
          "diabetic",
          "diabetic",
          "diabetic",
          "diabetic",
          "diabetic",
          "diabetic",
          "diabetic",
          "diabetic",
          "diabetic",
          "diabetic",
          "diabetic",
          "diabetic",
          "diabetic",
          "diabetic",
          "diabetic",
          "diabetic",
          "diabetic",
          "diabetic",
          "diabetic"
         ],
         "yaxis": "y2"
        },
        {
         "legendgroup": "healthy",
         "marker": {
          "color": "#7EC0EE",
          "symbol": "line-ns-open"
         },
         "mode": "markers",
         "name": "healthy",
         "showlegend": false,
         "type": "scatter",
         "x": [
          0,
          94,
          0,
          0,
          0,
          0,
          83,
          235,
          0,
          140,
          110,
          0,
          0,
          54,
          0,
          0,
          192,
          0,
          70,
          0,
          0,
          0,
          0,
          0,
          0,
          82,
          36,
          23,
          342,
          0,
          110,
          0,
          142,
          0,
          0,
          128,
          0,
          0,
          38,
          100,
          140,
          270,
          0,
          0,
          0,
          0,
          0,
          0,
          0,
          71,
          0,
          125,
          0,
          71,
          0,
          0,
          176,
          48,
          64,
          228,
          0,
          76,
          64,
          0,
          0,
          40,
          0,
          152,
          0,
          140,
          18,
          37,
          0,
          0,
          0,
          51,
          0,
          100,
          0,
          135,
          94,
          0,
          49,
          140,
          50,
          92,
          0,
          325,
          0,
          0,
          63,
          284,
          0,
          0,
          119,
          0,
          0,
          204,
          0,
          485,
          94,
          135,
          53,
          0,
          105,
          285,
          0,
          0,
          0,
          0,
          78,
          0,
          48,
          55,
          0,
          0,
          0,
          92,
          23,
          0,
          0,
          0,
          94,
          0,
          0,
          0,
          0,
          0,
          44,
          190,
          0,
          87,
          0,
          0,
          0,
          120,
          0,
          190,
          56,
          32,
          0,
          744,
          53,
          37,
          0,
          45,
          0,
          0,
          88,
          194,
          0,
          680,
          402,
          0,
          0,
          0,
          55,
          0,
          0,
          0,
          375,
          130,
          0,
          0,
          67,
          0,
          0,
          56,
          0,
          45,
          0,
          57,
          116,
          0,
          278,
          122,
          155,
          135,
          545,
          49,
          75,
          40,
          0,
          120,
          215,
          0,
          42,
          0,
          105,
          148,
          0,
          148,
          85,
          94,
          64,
          140,
          231,
          0,
          168,
          0,
          68,
          0,
          52,
          0,
          58,
          255,
          0,
          105,
          73,
          0,
          0,
          0,
          108,
          83,
          0,
          74,
          0,
          0,
          0,
          43,
          0,
          54,
          0,
          0,
          293,
          83,
          0,
          66,
          89,
          66,
          94,
          158,
          84,
          75,
          72,
          82,
          0,
          182,
          59,
          110,
          50,
          81,
          196,
          415,
          87,
          275,
          115,
          0,
          0,
          0,
          165,
          0,
          0,
          176,
          310,
          61,
          0,
          0,
          170,
          76,
          78,
          0,
          0,
          145,
          0,
          85,
          60,
          0,
          0,
          0,
          0,
          0,
          0,
          50,
          120,
          70,
          92,
          63,
          95,
          210,
          0,
          105,
          0,
          71,
          60,
          56,
          0,
          49,
          0,
          0,
          105,
          36,
          100,
          140,
          0,
          0,
          0,
          0,
          0,
          0,
          110,
          75,
          0,
          0,
          49,
          125,
          480,
          265,
          0,
          0,
          66,
          0,
          0,
          0,
          0,
          0,
          76,
          193,
          71,
          0,
          79,
          0,
          0,
          170,
          76,
          0,
          210,
          0,
          0,
          86,
          0,
          0,
          326,
          66,
          130,
          0,
          0,
          0,
          82,
          105,
          188,
          0,
          106,
          0,
          65,
          0,
          56,
          0,
          0,
          210,
          56,
          76,
          166,
          67,
          0,
          0,
          106,
          0,
          44,
          115,
          215,
          0,
          0,
          0,
          0,
          77,
          54,
          0,
          88,
          18,
          126,
          126,
          0,
          0,
          44,
          120,
          330,
          63,
          130,
          0,
          0,
          0,
          0,
          0,
          0,
          0,
          140,
          115,
          230,
          0,
          25,
          120,
          0,
          0,
          0,
          0,
          41,
          272,
          182,
          158,
          0,
          0,
          0,
          15,
          160,
          0,
          0,
          115,
          0,
          54,
          0,
          0,
          0,
          0,
          90,
          0,
          183,
          0,
          0,
          66,
          46,
          105,
          0,
          0,
          152,
          440,
          0,
          100,
          106,
          77,
          0,
          135,
          90,
          200,
          0,
          0,
          132,
          190,
          100,
          168,
          0,
          49,
          240,
          0,
          0,
          265,
          45,
          105,
          0,
          205,
          0,
          0,
          180,
          0,
          95,
          0,
          0,
          155,
          0,
          200,
          0,
          100,
          0,
          335,
          387,
          22,
          291,
          0,
          0,
          178,
          0,
          200,
          105,
          0,
          0,
          180,
          0,
          0,
          0,
          165,
          0,
          0,
          120,
          0,
          160,
          94,
          116,
          140,
          105,
          57,
          74,
          0,
          0,
          0,
          16,
          0,
          180,
          0,
          112,
          0
         ],
         "xaxis": "x",
         "y": [
          "healthy",
          "healthy",
          "healthy",
          "healthy",
          "healthy",
          "healthy",
          "healthy",
          "healthy",
          "healthy",
          "healthy",
          "healthy",
          "healthy",
          "healthy",
          "healthy",
          "healthy",
          "healthy",
          "healthy",
          "healthy",
          "healthy",
          "healthy",
          "healthy",
          "healthy",
          "healthy",
          "healthy",
          "healthy",
          "healthy",
          "healthy",
          "healthy",
          "healthy",
          "healthy",
          "healthy",
          "healthy",
          "healthy",
          "healthy",
          "healthy",
          "healthy",
          "healthy",
          "healthy",
          "healthy",
          "healthy",
          "healthy",
          "healthy",
          "healthy",
          "healthy",
          "healthy",
          "healthy",
          "healthy",
          "healthy",
          "healthy",
          "healthy",
          "healthy",
          "healthy",
          "healthy",
          "healthy",
          "healthy",
          "healthy",
          "healthy",
          "healthy",
          "healthy",
          "healthy",
          "healthy",
          "healthy",
          "healthy",
          "healthy",
          "healthy",
          "healthy",
          "healthy",
          "healthy",
          "healthy",
          "healthy",
          "healthy",
          "healthy",
          "healthy",
          "healthy",
          "healthy",
          "healthy",
          "healthy",
          "healthy",
          "healthy",
          "healthy",
          "healthy",
          "healthy",
          "healthy",
          "healthy",
          "healthy",
          "healthy",
          "healthy",
          "healthy",
          "healthy",
          "healthy",
          "healthy",
          "healthy",
          "healthy",
          "healthy",
          "healthy",
          "healthy",
          "healthy",
          "healthy",
          "healthy",
          "healthy",
          "healthy",
          "healthy",
          "healthy",
          "healthy",
          "healthy",
          "healthy",
          "healthy",
          "healthy",
          "healthy",
          "healthy",
          "healthy",
          "healthy",
          "healthy",
          "healthy",
          "healthy",
          "healthy",
          "healthy",
          "healthy",
          "healthy",
          "healthy",
          "healthy",
          "healthy",
          "healthy",
          "healthy",
          "healthy",
          "healthy",
          "healthy",
          "healthy",
          "healthy",
          "healthy",
          "healthy",
          "healthy",
          "healthy",
          "healthy",
          "healthy",
          "healthy",
          "healthy",
          "healthy",
          "healthy",
          "healthy",
          "healthy",
          "healthy",
          "healthy",
          "healthy",
          "healthy",
          "healthy",
          "healthy",
          "healthy",
          "healthy",
          "healthy",
          "healthy",
          "healthy",
          "healthy",
          "healthy",
          "healthy",
          "healthy",
          "healthy",
          "healthy",
          "healthy",
          "healthy",
          "healthy",
          "healthy",
          "healthy",
          "healthy",
          "healthy",
          "healthy",
          "healthy",
          "healthy",
          "healthy",
          "healthy",
          "healthy",
          "healthy",
          "healthy",
          "healthy",
          "healthy",
          "healthy",
          "healthy",
          "healthy",
          "healthy",
          "healthy",
          "healthy",
          "healthy",
          "healthy",
          "healthy",
          "healthy",
          "healthy",
          "healthy",
          "healthy",
          "healthy",
          "healthy",
          "healthy",
          "healthy",
          "healthy",
          "healthy",
          "healthy",
          "healthy",
          "healthy",
          "healthy",
          "healthy",
          "healthy",
          "healthy",
          "healthy",
          "healthy",
          "healthy",
          "healthy",
          "healthy",
          "healthy",
          "healthy",
          "healthy",
          "healthy",
          "healthy",
          "healthy",
          "healthy",
          "healthy",
          "healthy",
          "healthy",
          "healthy",
          "healthy",
          "healthy",
          "healthy",
          "healthy",
          "healthy",
          "healthy",
          "healthy",
          "healthy",
          "healthy",
          "healthy",
          "healthy",
          "healthy",
          "healthy",
          "healthy",
          "healthy",
          "healthy",
          "healthy",
          "healthy",
          "healthy",
          "healthy",
          "healthy",
          "healthy",
          "healthy",
          "healthy",
          "healthy",
          "healthy",
          "healthy",
          "healthy",
          "healthy",
          "healthy",
          "healthy",
          "healthy",
          "healthy",
          "healthy",
          "healthy",
          "healthy",
          "healthy",
          "healthy",
          "healthy",
          "healthy",
          "healthy",
          "healthy",
          "healthy",
          "healthy",
          "healthy",
          "healthy",
          "healthy",
          "healthy",
          "healthy",
          "healthy",
          "healthy",
          "healthy",
          "healthy",
          "healthy",
          "healthy",
          "healthy",
          "healthy",
          "healthy",
          "healthy",
          "healthy",
          "healthy",
          "healthy",
          "healthy",
          "healthy",
          "healthy",
          "healthy",
          "healthy",
          "healthy",
          "healthy",
          "healthy",
          "healthy",
          "healthy",
          "healthy",
          "healthy",
          "healthy",
          "healthy",
          "healthy",
          "healthy",
          "healthy",
          "healthy",
          "healthy",
          "healthy",
          "healthy",
          "healthy",
          "healthy",
          "healthy",
          "healthy",
          "healthy",
          "healthy",
          "healthy",
          "healthy",
          "healthy",
          "healthy",
          "healthy",
          "healthy",
          "healthy",
          "healthy",
          "healthy",
          "healthy",
          "healthy",
          "healthy",
          "healthy",
          "healthy",
          "healthy",
          "healthy",
          "healthy",
          "healthy",
          "healthy",
          "healthy",
          "healthy",
          "healthy",
          "healthy",
          "healthy",
          "healthy",
          "healthy",
          "healthy",
          "healthy",
          "healthy",
          "healthy",
          "healthy",
          "healthy",
          "healthy",
          "healthy",
          "healthy",
          "healthy",
          "healthy",
          "healthy",
          "healthy",
          "healthy",
          "healthy",
          "healthy",
          "healthy",
          "healthy",
          "healthy",
          "healthy",
          "healthy",
          "healthy",
          "healthy",
          "healthy",
          "healthy",
          "healthy",
          "healthy",
          "healthy",
          "healthy",
          "healthy",
          "healthy",
          "healthy",
          "healthy",
          "healthy",
          "healthy",
          "healthy",
          "healthy",
          "healthy",
          "healthy",
          "healthy",
          "healthy",
          "healthy",
          "healthy",
          "healthy",
          "healthy",
          "healthy",
          "healthy",
          "healthy",
          "healthy",
          "healthy",
          "healthy",
          "healthy",
          "healthy",
          "healthy",
          "healthy",
          "healthy",
          "healthy",
          "healthy",
          "healthy",
          "healthy",
          "healthy",
          "healthy",
          "healthy",
          "healthy",
          "healthy",
          "healthy",
          "healthy",
          "healthy",
          "healthy",
          "healthy",
          "healthy",
          "healthy",
          "healthy",
          "healthy",
          "healthy",
          "healthy",
          "healthy",
          "healthy",
          "healthy",
          "healthy",
          "healthy",
          "healthy",
          "healthy",
          "healthy",
          "healthy",
          "healthy",
          "healthy",
          "healthy",
          "healthy",
          "healthy",
          "healthy",
          "healthy",
          "healthy",
          "healthy",
          "healthy",
          "healthy",
          "healthy",
          "healthy",
          "healthy",
          "healthy",
          "healthy",
          "healthy",
          "healthy",
          "healthy",
          "healthy",
          "healthy",
          "healthy",
          "healthy",
          "healthy",
          "healthy",
          "healthy",
          "healthy",
          "healthy",
          "healthy",
          "healthy",
          "healthy",
          "healthy",
          "healthy",
          "healthy",
          "healthy",
          "healthy",
          "healthy",
          "healthy",
          "healthy",
          "healthy",
          "healthy",
          "healthy",
          "healthy",
          "healthy",
          "healthy",
          "healthy",
          "healthy",
          "healthy",
          "healthy",
          "healthy",
          "healthy",
          "healthy",
          "healthy",
          "healthy",
          "healthy",
          "healthy",
          "healthy",
          "healthy",
          "healthy",
          "healthy",
          "healthy",
          "healthy",
          "healthy",
          "healthy",
          "healthy",
          "healthy",
          "healthy",
          "healthy",
          "healthy",
          "healthy",
          "healthy",
          "healthy",
          "healthy",
          "healthy",
          "healthy",
          "healthy",
          "healthy",
          "healthy",
          "healthy",
          "healthy",
          "healthy",
          "healthy",
          "healthy"
         ],
         "yaxis": "y2"
        }
       ],
       "layout": {
        "barmode": "overlay",
        "hovermode": "closest",
        "legend": {
         "traceorder": "reversed"
        },
        "template": {
         "data": {
          "candlestick": [
           {
            "decreasing": {
             "line": {
              "color": "#000033"
             }
            },
            "increasing": {
             "line": {
              "color": "#000032"
             }
            },
            "type": "candlestick"
           }
          ],
          "contour": [
           {
            "colorscale": [
             [
              0,
              "#000011"
             ],
             [
              0.1111111111111111,
              "#000012"
             ],
             [
              0.2222222222222222,
              "#000013"
             ],
             [
              0.3333333333333333,
              "#000014"
             ],
             [
              0.4444444444444444,
              "#000015"
             ],
             [
              0.5555555555555556,
              "#000016"
             ],
             [
              0.6666666666666666,
              "#000017"
             ],
             [
              0.7777777777777778,
              "#000018"
             ],
             [
              0.8888888888888888,
              "#000019"
             ],
             [
              1,
              "#000020"
             ]
            ],
            "type": "contour"
           }
          ],
          "contourcarpet": [
           {
            "colorscale": [
             [
              0,
              "#000011"
             ],
             [
              0.1111111111111111,
              "#000012"
             ],
             [
              0.2222222222222222,
              "#000013"
             ],
             [
              0.3333333333333333,
              "#000014"
             ],
             [
              0.4444444444444444,
              "#000015"
             ],
             [
              0.5555555555555556,
              "#000016"
             ],
             [
              0.6666666666666666,
              "#000017"
             ],
             [
              0.7777777777777778,
              "#000018"
             ],
             [
              0.8888888888888888,
              "#000019"
             ],
             [
              1,
              "#000020"
             ]
            ],
            "type": "contourcarpet"
           }
          ],
          "heatmap": [
           {
            "colorscale": [
             [
              0,
              "#000011"
             ],
             [
              0.1111111111111111,
              "#000012"
             ],
             [
              0.2222222222222222,
              "#000013"
             ],
             [
              0.3333333333333333,
              "#000014"
             ],
             [
              0.4444444444444444,
              "#000015"
             ],
             [
              0.5555555555555556,
              "#000016"
             ],
             [
              0.6666666666666666,
              "#000017"
             ],
             [
              0.7777777777777778,
              "#000018"
             ],
             [
              0.8888888888888888,
              "#000019"
             ],
             [
              1,
              "#000020"
             ]
            ],
            "type": "heatmap"
           }
          ],
          "histogram2d": [
           {
            "colorscale": [
             [
              0,
              "#000011"
             ],
             [
              0.1111111111111111,
              "#000012"
             ],
             [
              0.2222222222222222,
              "#000013"
             ],
             [
              0.3333333333333333,
              "#000014"
             ],
             [
              0.4444444444444444,
              "#000015"
             ],
             [
              0.5555555555555556,
              "#000016"
             ],
             [
              0.6666666666666666,
              "#000017"
             ],
             [
              0.7777777777777778,
              "#000018"
             ],
             [
              0.8888888888888888,
              "#000019"
             ],
             [
              1,
              "#000020"
             ]
            ],
            "type": "histogram2d"
           }
          ],
          "icicle": [
           {
            "textfont": {
             "color": "white"
            },
            "type": "icicle"
           }
          ],
          "sankey": [
           {
            "textfont": {
             "color": "#000036"
            },
            "type": "sankey"
           }
          ],
          "scatter": [
           {
            "marker": {
             "line": {
              "width": 0
             }
            },
            "type": "scatter"
           }
          ],
          "table": [
           {
            "cells": {
             "fill": {
              "color": "#000038"
             },
             "font": {
              "color": "#000037"
             },
             "line": {
              "color": "#000039"
             }
            },
            "header": {
             "fill": {
              "color": "#000040"
             },
             "font": {
              "color": "#000036"
             },
             "line": {
              "color": "#000039"
             }
            },
            "type": "table"
           }
          ],
          "waterfall": [
           {
            "connector": {
             "line": {
              "color": "#000036",
              "width": 2
             }
            },
            "decreasing": {
             "marker": {
              "color": "#000033"
             }
            },
            "increasing": {
             "marker": {
              "color": "#000032"
             }
            },
            "totals": {
             "marker": {
              "color": "#000034"
             }
            },
            "type": "waterfall"
           }
          ]
         },
         "layout": {
          "coloraxis": {
           "colorscale": [
            [
             0,
             "#000011"
            ],
            [
             0.1111111111111111,
             "#000012"
            ],
            [
             0.2222222222222222,
             "#000013"
            ],
            [
             0.3333333333333333,
             "#000014"
            ],
            [
             0.4444444444444444,
             "#000015"
            ],
            [
             0.5555555555555556,
             "#000016"
            ],
            [
             0.6666666666666666,
             "#000017"
            ],
            [
             0.7777777777777778,
             "#000018"
            ],
            [
             0.8888888888888888,
             "#000019"
            ],
            [
             1,
             "#000020"
            ]
           ]
          },
          "colorscale": {
           "diverging": [
            [
             0,
             "#000021"
            ],
            [
             0.1,
             "#000022"
            ],
            [
             0.2,
             "#000023"
            ],
            [
             0.3,
             "#000024"
            ],
            [
             0.4,
             "#000025"
            ],
            [
             0.5,
             "#000026"
            ],
            [
             0.6,
             "#000027"
            ],
            [
             0.7,
             "#000028"
            ],
            [
             0.8,
             "#000029"
            ],
            [
             0.9,
             "#000030"
            ],
            [
             1,
             "#000031"
            ]
           ],
           "sequential": [
            [
             0,
             "#000011"
            ],
            [
             0.1111111111111111,
             "#000012"
            ],
            [
             0.2222222222222222,
             "#000013"
            ],
            [
             0.3333333333333333,
             "#000014"
            ],
            [
             0.4444444444444444,
             "#000015"
            ],
            [
             0.5555555555555556,
             "#000016"
            ],
            [
             0.6666666666666666,
             "#000017"
            ],
            [
             0.7777777777777778,
             "#000018"
            ],
            [
             0.8888888888888888,
             "#000019"
            ],
            [
             1,
             "#000020"
            ]
           ],
           "sequentialminus": [
            [
             0,
             "#000011"
            ],
            [
             0.1111111111111111,
             "#000012"
            ],
            [
             0.2222222222222222,
             "#000013"
            ],
            [
             0.3333333333333333,
             "#000014"
            ],
            [
             0.4444444444444444,
             "#000015"
            ],
            [
             0.5555555555555556,
             "#000016"
            ],
            [
             0.6666666666666666,
             "#000017"
            ],
            [
             0.7777777777777778,
             "#000018"
            ],
            [
             0.8888888888888888,
             "#000019"
            ],
            [
             1,
             "#000020"
            ]
           ]
          },
          "colorway": [
           "#000001",
           "#000002",
           "#000003",
           "#000004",
           "#000005",
           "#000006",
           "#000007",
           "#000008",
           "#000009",
           "#000010"
          ]
         }
        },
        "title": {
         "text": "Insulin"
        },
        "xaxis": {
         "anchor": "y2",
         "domain": [
          0,
          1
         ],
         "zeroline": false
        },
        "yaxis": {
         "anchor": "free",
         "domain": [
          0.35,
          1
         ],
         "position": 0
        },
        "yaxis2": {
         "anchor": "x",
         "domain": [
          0,
          0.25
         ],
         "dtick": 1,
         "showticklabels": false
        }
       }
      },
      "text/html": [
       "<div>                            <div id=\"ddad4e71-ee7a-4224-af29-5b271896f3f1\" class=\"plotly-graph-div\" style=\"height:525px; width:100%;\"></div>            <script type=\"text/javascript\">                require([\"plotly\"], function(Plotly) {                    window.PLOTLYENV=window.PLOTLYENV || {};                                    if (document.getElementById(\"ddad4e71-ee7a-4224-af29-5b271896f3f1\")) {                    Plotly.newPlot(                        \"ddad4e71-ee7a-4224-af29-5b271896f3f1\",                        [{\"autobinx\":false,\"histnorm\":\"probability density\",\"legendgroup\":\"diabetic\",\"marker\":{\"color\":\"#FFD700\"},\"name\":\"diabetic\",\"opacity\":0.7,\"x\":[0,0,168,88,543,0,0,846,175,0,230,0,96,0,0,146,115,0,245,0,0,207,240,0,0,300,304,0,0,0,90,0,0,0,110,0,220,0,36,135,495,175,0,0,100,0,99,145,0,168,0,225,0,155,0,0,114,0,156,0,130,130,130,0,0,495,58,114,160,0,0,210,48,99,318,280,0,0,130,175,271,129,0,0,478,0,0,0,370,0,192,0,0,0,176,0,258,0,150,0,0,0,0,0,0,0,0,0,220,74,182,194,360,184,0,135,0,132,180,205,96,0,0,0,0,0,29,156,120,0,0,171,0,0,0,167,0,249,325,0,0,140,465,325,0,0,0,285,0,0,0,0,0,88,0,0,0,579,167,474,0,115,210,277,180,180,0,0,0,0,14,64,0,0,237,0,191,328,0,250,122,145,0,90,0,105,165,0,0,155,215,190,0,225,207,0,274,165,0,0,0,600,0,156,0,0,185,0,126,0,293,194,321,144,0,0,0,0,91,0,144,159,130,540,70,0,231,130,0,0,0,0,0,0,0,0,180,0,125,480,125,0,0,0,0,160,0,392,185,0,127,79,0,120,0,150,0,0,200,0,0,510,0,110,0,0,0,0],\"xaxis\":\"x\",\"xbins\":{\"end\":846.0,\"size\":0,\"start\":0.0},\"yaxis\":\"y\",\"type\":\"histogram\"},{\"autobinx\":false,\"histnorm\":\"probability density\",\"legendgroup\":\"healthy\",\"marker\":{\"color\":\"#7EC0EE\"},\"name\":\"healthy\",\"opacity\":0.7,\"x\":[0,94,0,0,0,0,83,235,0,140,110,0,0,54,0,0,192,0,70,0,0,0,0,0,0,82,36,23,342,0,110,0,142,0,0,128,0,0,38,100,140,270,0,0,0,0,0,0,0,71,0,125,0,71,0,0,176,48,64,228,0,76,64,0,0,40,0,152,0,140,18,37,0,0,0,51,0,100,0,135,94,0,49,140,50,92,0,325,0,0,63,284,0,0,119,0,0,204,0,485,94,135,53,0,105,285,0,0,0,0,78,0,48,55,0,0,0,92,23,0,0,0,94,0,0,0,0,0,44,190,0,87,0,0,0,120,0,190,56,32,0,744,53,37,0,45,0,0,88,194,0,680,402,0,0,0,55,0,0,0,375,130,0,0,67,0,0,56,0,45,0,57,116,0,278,122,155,135,545,49,75,40,0,120,215,0,42,0,105,148,0,148,85,94,64,140,231,0,168,0,68,0,52,0,58,255,0,105,73,0,0,0,108,83,0,74,0,0,0,43,0,54,0,0,293,83,0,66,89,66,94,158,84,75,72,82,0,182,59,110,50,81,196,415,87,275,115,0,0,0,165,0,0,176,310,61,0,0,170,76,78,0,0,145,0,85,60,0,0,0,0,0,0,50,120,70,92,63,95,210,0,105,0,71,60,56,0,49,0,0,105,36,100,140,0,0,0,0,0,0,110,75,0,0,49,125,480,265,0,0,66,0,0,0,0,0,76,193,71,0,79,0,0,170,76,0,210,0,0,86,0,0,326,66,130,0,0,0,82,105,188,0,106,0,65,0,56,0,0,210,56,76,166,67,0,0,106,0,44,115,215,0,0,0,0,77,54,0,88,18,126,126,0,0,44,120,330,63,130,0,0,0,0,0,0,0,140,115,230,0,25,120,0,0,0,0,41,272,182,158,0,0,0,15,160,0,0,115,0,54,0,0,0,0,90,0,183,0,0,66,46,105,0,0,152,440,0,100,106,77,0,135,90,200,0,0,132,190,100,168,0,49,240,0,0,265,45,105,0,205,0,0,180,0,95,0,0,155,0,200,0,100,0,335,387,22,291,0,0,178,0,200,105,0,0,180,0,0,0,165,0,0,120,0,160,94,116,140,105,57,74,0,0,0,16,0,180,0,112,0],\"xaxis\":\"x\",\"xbins\":{\"end\":744.0,\"size\":0,\"start\":0.0},\"yaxis\":\"y\",\"type\":\"histogram\"},{\"legendgroup\":\"diabetic\",\"marker\":{\"color\":\"#FFD700\"},\"mode\":\"lines\",\"name\":\"diabetic\",\"showlegend\":false,\"x\":[0.0,1.692,3.384,5.076,6.768,8.46,10.152,11.844,13.536,15.228,16.92,18.612,20.304,21.996,23.688,25.38,27.072,28.764,30.456,32.148,33.84,35.532,37.224,38.916,40.608,42.3,43.992,45.684,47.376,49.068,50.76,52.452,54.144,55.836,57.528,59.22,60.912,62.604,64.296,65.988,67.68,69.372,71.064,72.756,74.448,76.14,77.832,79.524,81.216,82.908,84.6,86.292,87.984,89.676,91.368,93.06,94.752,96.444,98.136,99.828,101.52,103.212,104.904,106.596,108.288,109.98,111.672,113.364,115.056,116.748,118.44,120.132,121.824,123.516,125.208,126.9,128.592,130.284,131.976,133.668,135.36,137.052,138.744,140.436,142.128,143.82,145.512,147.204,148.896,150.588,152.28,153.972,155.664,157.356,159.048,160.74,162.432,164.124,165.816,167.508,169.2,170.892,172.584,174.276,175.968,177.66,179.352,181.044,182.736,184.428,186.12,187.812,189.504,191.196,192.888,194.58,196.272,197.964,199.656,201.348,203.04,204.732,206.424,208.116,209.808,211.5,213.192,214.884,216.576,218.268,219.96,221.652,223.344,225.036,226.728,228.42,230.112,231.804,233.496,235.188,236.88,238.572,240.264,241.956,243.648,245.34,247.032,248.724,250.416,252.108,253.8,255.492,257.184,258.876,260.568,262.26,263.952,265.644,267.336,269.028,270.72,272.412,274.104,275.796,277.488,279.18,280.872,282.564,284.256,285.948,287.64,289.332,291.024,292.716,294.408,296.1,297.792,299.484,301.176,302.868,304.56,306.252,307.944,309.636,311.328,313.02,314.712,316.404,318.096,319.788,321.48,323.172,324.864,326.556,328.248,329.94,331.632,333.324,335.016,336.708,338.4,340.092,341.784,343.476,345.168,346.86,348.552,350.244,351.936,353.628,355.32,357.012,358.704,360.396,362.088,363.78,365.472,367.164,368.856,370.548,372.24,373.932,375.624,377.316,379.008,380.7,382.392,384.084,385.776,387.468,389.16,390.852,392.544,394.236,395.928,397.62,399.312,401.004,402.696,404.388,406.08,407.772,409.464,411.156,412.848,414.54,416.232,417.924,419.616,421.308,423.0,424.692,426.384,428.076,429.768,431.46,433.152,434.844,436.536,438.228,439.92,441.612,443.304,444.996,446.688,448.38,450.072,451.764,453.456,455.148,456.84,458.532,460.224,461.916,463.608,465.3,466.992,468.684,470.376,472.068,473.76,475.452,477.144,478.836,480.528,482.22,483.912,485.604,487.296,488.988,490.68,492.372,494.064,495.756,497.448,499.14,500.832,502.524,504.216,505.908,507.6,509.292,510.984,512.676,514.368,516.06,517.752,519.444,521.136,522.828,524.52,526.212,527.904,529.596,531.288,532.98,534.672,536.364,538.056,539.748,541.44,543.132,544.824,546.516,548.208,549.9,551.592,553.284,554.976,556.668,558.36,560.052,561.744,563.436,565.128,566.82,568.512,570.204,571.896,573.588,575.28,576.972,578.664,580.356,582.048,583.74,585.432,587.124,588.816,590.508,592.2,593.892,595.584,597.276,598.968,600.66,602.352,604.044,605.736,607.428,609.12,610.812,612.504,614.196,615.888,617.58,619.272,620.964,622.656,624.348,626.04,627.732,629.424,631.116,632.808,634.5,636.192,637.884,639.576,641.268,642.96,644.652,646.344,648.036,649.728,651.42,653.112,654.804,656.496,658.188,659.88,661.572,663.264,664.956,666.648,668.34,670.032,671.724,673.416,675.108,676.8,678.492,680.184,681.876,683.568,685.26,686.952,688.644,690.336,692.028,693.72,695.412,697.104,698.796,700.488,702.18,703.872,705.564,707.256,708.948,710.64,712.332,714.024,715.716,717.408,719.1,720.792,722.484,724.176,725.868,727.56,729.252,730.944,732.636,734.328,736.02,737.712,739.404,741.096,742.788,744.48,746.172,747.864,749.556,751.248,752.94,754.632,756.324,758.016,759.708,761.4,763.092,764.784,766.476,768.168,769.86,771.552,773.244,774.936,776.628,778.32,780.012,781.704,783.396,785.088,786.78,788.472,790.164,791.856,793.548,795.24,796.932,798.624,800.316,802.008,803.7,805.392,807.084,808.776,810.468,812.16,813.852,815.544,817.236,818.928,820.62,822.312,824.004,825.696,827.388,829.08,830.772,832.464,834.156,835.848,837.54,839.232,840.924,842.616,844.308],\"xaxis\":\"x\",\"y\":[0.004748572549864572,0.00475645650762777,0.004758465550038619,0.004754649023507449,0.004745082211393617,0.004729865851917906,0.004709125477707012,0.004683010582978292,0.004651693626008812,0.004615368876074553,0.004574251115476922,0.004528574208576527,0.004478589550913993,0.0044245644125024694,0.004366780190213901,0.004305530584845688,0.004241119718938967,0.004173860211720753,0.004104071227661728,0.004032076515078126,0.003958202450968033,0.0038827761078626473,0.003806123357904422,0.0037285670286434963,0.0036504251241872765,0.0035720091243579763,0.003493622373424892,0.0034155585687990864,0.0033381003588253623,0.0032615180574955493,0.0031860684825599926,0.003111993922142517,0.003039521233592204,0.0029688610769428078,0.002900207284019534,0.0028337363629428185,0.0027696071365480805,0.002707960512076391,0.0026489193784095945,0.002592588626129076,0.0025390552847813982,0.0024883887709394926,0.0024406412399619907,0.0023958480337747104,0.002354028216532784,0.0023151851896639156,0.002279307377545458,0.002246368974923722,0.002216330747140625,0.002189140874284365,0.002164735830520357,0.0021430412900803122,0.0021239730516815413,0.0021074379735085574,0.0020933349113053516,0.0020815556525911583,0.002071985840515816,0.0020645058814046306,0.0020589918305988567,0.0020553162517673315,0.0020533490454413992,0.0020529582430996803,0.002054010763697618,0.0020563731300898653,0.002059912143329121,0.0020644955133361617,0.0020699924449194087,0.002076274178575486,0.002083214485920967,0.0020906901199897166,0.00209858122097647,0.002106771678317136,0.0021151494502671393,0.0021236068423735287,0.00213204074643361,0.0021403528416946496,0.0021484497601773223,0.002156243218100677,0.0021636501154528045,0.0021705926057887528,0.0021769981383501402,0.0021827994745905774,0.00218793468116062,0.0021923471013579696,0.0021959853069852793,0.002198803032482237,0.0022007590931130273,0.002201817288895637,0.002201946295861048,0.0022011195461263556,0.0021993150981611813,0.002196515498521979,0.002192707636224221,0.0021878825908224413,0.002182035475170015,0.0021751652737384856,0.002167274677289222,0.0021583699146094227,0.0021484605819500715,0.0021375594707363017,0.002125682394060046,0.00211284801241151,0.0020990776590594077,0.002084395165450233,0.0020688266869627134,0.002052400529326921,0.0020351469759942588,0.0020170981167283966,0.001998287677673734,0.0019787508531495467,0.0019585241394119855,0.0019376451706234438,0.0019161525572675062,0.0018940857272487924,0.001871484769918018,0.0018483902832652239,0.001824843224525839,0.0018008847644458972,0.0017765561454538385,0.0017518985439860012,0.0017269529372110528,0.001701759974396106,0.0016763598531516046,0.0016507922007861081,0.001625095960993006,0.0015993092860810507,0.0015734694349480698,0.0015476126769835036,0.0015217742020693051,0.001495988036831667,0.0014702869672777237,0.0014447024679310398,0.001419264637559501,0.001394002141567388,0.0013689421611014004,0.0013441103488977598,0.0013195307918751691,0.001295225980455172,0.0012712167845694035,0.0012475224362907475,0.001224160519003453,0.0012011469630064378,0.0011784960474230252,0.0011562204082707448,0.00113433105252572,0.0011128373779979172,0.0010917471988164016,0.001071066776307009,0.001050800855029691,0.0010309527037279016,0.0010115241609288017,0.0009925156849202557,0.0009739264078185264,0.0009557541934297569,0.0009379956985978476,0.0009206464377223287,0.0009037008501213162,0.0008871523699071198,0.000870993498035757,0.0008552158761860756,0.0008398103621196421,0.0008247671061696536,0.0008100756285046335,0.0007957248968122692,0.0007817034040492445,0.0007679992459049364,0.0007546001976306997,0.0007414937898915375,0.0007286673833041795,0.000716108241334335,0.0007038036012364424,0.0006917407427320205,0.0006799070541369951,0.0006682900956648457,0.0006568776596506313,0.0006456578274611144,0.0006346190228779688,0.0006237500617645995,0.0006130401978521479,0.0006024791645065085,0.0005920572123658756,0.0005817651427666,0.0005715943369044574,0.0005615367807079115,0.0005515850854297266,0.0005417325039928218,0.0005319729431554485,0.0005223009715889597,0.0005127118239888329,0.0005032014013652523,0.0004937662676837954,0.00048440364304871324,0.0004751113936411603,0.0004658880186419372,0.000456732634382826,0.0004476449559821546,0.0004386252767286252,0.00042967444548280706,0.00042079384236763125,0.00041198535301797685,0.0004032513416549561,0.00039459462324276443,0.0003860184349753475,0.00037752640732650054,0.00036912253488083,0.0003608111471444105,0.00035259687951335955,0.00034448464455608867,0.0003364796037412917,0.00032858713971893844,0.0003208128292363101,0.00031316241674555703,0.0003056417887342404,0.00029825694878576604,0.000291013993353363,0.0002839190882094967,0.00027697844551273433,0.0002701983014165416,0.00026358489412948153,0.0002571444423241919,0.0002508831237835212,0.000244807054166473,0.00023892226577429052,0.00023323468619822703,0.00022775011673518145,0.00022247421046555678,0.0002174124498991476,0.00021257012410955153,0.0002079523052952173,0.00020356382472561286,0.00019940924805365764,0.00019549285000030218,0.00019181858844344004,0.00018839007797079486,0.00018521056298458546,0.00018228289047412063,0.00017960948260051219,0.00017719230926495417,0.00017503286085792147,0.00017313212141077675,0.00017149054239311233,0.00017010801741828,0.0001689838581355365,0.00016811677159971725,0.0001675048394179825,0.00016714549897772448,0.00016703552705993265,0.000167171026138064,0.00016754741365364702,0.000168159414546456,0.0001690010572991663,0.00017006567373406618,0.00017134590277283267,0.00017283369833984136,0.00017452034155527826,0.0001763964573268296,0.00017845203540838492,0.0001806764559514607,0.0001830585195304673,0.00018558648157705306,0.00018824809111215855,0.0001910306336176823,0.00019392097784343953,0.00019690562629998275,0.00019997076914445675,0.0002031023411255932,0.0002062860812157481,0.00020950759452311227,0.00021275241604636056,0.00021600607580749587,0.00021925416487687243,0.00022248240178770326,0.00022567669882598933,0.00022882322767598642,0.00023190848390113822,0.00023491934974590378,0.0002378431547550719,0.00024066773372384589,0.00024338148151405425,0.0002459734042990092,0.00024843316683148726,0.0002507511353656716,0.00025291841590419306,0.00025492688748520863,0.000256769230271142,0.000258438948249802,0.00025993038640941126,0.00026123874230106595,0.0002623600719546439,0.00026329129016658073,0.0002640301652296159,0.00026457530822497416,0.0002649261570459342,0.00026508295536778004,0.0002650467268222618,0.00026481924467444283,0.000264402997335779,0.00026380115007912787,0.0002630175033488361,0.00026205644808187427,0.00026092291847403556,0.0002596223426383854,0.0002581605916114212,0.0002565439271658154,0.00025477894888724595,0.0002528725409668443,0.0002508318191503977,0.00024866407827088034,0.0002463767407724714,0.00024397730661225123,0.0002414733049006392,0.00023887224761370886,0.00023618158568022103,0.00023340866771394018,0.0002305607016280009,0.00022764471933315916,0.00022466754468613716,0.00022163576481835505,0.00021855570493951306,0.00021543340667513756,0.00021227460996266014,0.00020908473849720158,0.00020586888868624656,0.00020263182204212997,0.00019937796091286733,0.0001961113874256344,0.00019283584549321516,0.00018955474571218957,0.0001862711729625707,0.00018298789650213922,0.00017970738233485077,0.0001764318076214716,0.00017316307689196694,0.00016990283981312173,0.00016665251026133402,0.00016341328644941112,0.00016018617185743146,0.00015697199672117185,0.00015377143983715498,0.00015058505045085504,0.00014741327000392305,0.0001442564535272457,0.0001411148904791227,0.00013798882484162496,0.0001348784743031572,0.00013178404837117758,0.00012870576527579042,0.00012564386754232746,0.00012259863612890595,0.00011957040304313729,0.00011655956237047017,0.0001135665796649517,0.00011059199967128977,0.0001076364523648763,0.0001047006573137112,0.00010178542638282793,0.0000988916648177212,0.00009602037075830218,0.00009317263324892358,0.00009034962882295283,0.00008755261675209952,0.00008478293306117624,0.00008204198341809873,0.00007933123501667014,0.00007665220757601258,0.00007400646358535856,0.00007139559792632132,0.00006882122700669301,0.00006628497754033105,0.00006378847510678334,0.00006133333262206229,0.0000589211388484212,0.0000565534470662426,0.000054231764025251834,0.00005195753928536534,0.00004973215504963936,0.00004755691658315127,0.00004543304330231593,0.00004336166060925868,0.00004134379253556074,0.00003938035524908314,0.00003747215146681232,0.00003561986580585951,0.00003382406109403755,0.000032085175650926355,0.00003040352154016283,0.000028779283783927283,0.000027212520521374145,0.00002570316408412441,0.000024251022954000712,0.000022855784560984326,0.00002151701887297483,0.00002023418272335682,0.00001900662481766611,0.000017833591356796427,0.00001671423221120691,0.000015647607578466533,0.000014632695055174919,0.000013668397053808333,0.00001275354849529881,0.000011886924709126131,0.000011067249474318305,0.000010293203136959893,9.563430742527243e-6,8.876550124536846e-6,8.231159894529943e-6,7.625847282255261e-6,7.0591957789708444e-6,6.529792541000608e-6,6.036235514975291e-6,5.57714025049823e-6,5.15114637024203e-6,4.756923671642719e-6,4.393177838367652e-6,4.058655743542364e-6,3.7521503302971547e-6,3.4725050585011396e-6,3.2186179095712945e-6,2.989444943955378e-6,2.784003408287411e-6,2.601374391295621e-6,2.440705029314934e-6,2.3012102637273876e-6,2.1821741538444713e-6,2.0829507496762577e-6,2.002964529732452e-6,1.9417104095018047e-6,1.8987533265937578e-6,1.8737274087387752e-6,1.8663347309709545e-6,1.8763436684000993e-6,1.903586851061704e-6,1.9479587274537718e-6,2.0094127435685835e-6,2.087958144543715e-6,2.183656406524191e-6,2.2966173069787153e-6,2.426994642573912e-6,2.5749816048047246e-6,2.7408058249224447e-6,2.9247241013058795e-6,3.127016824291152e-6,3.3479821156082073e-6,3.5879297019602775e-6,3.847174544908904e-6,4.126030252071072e-6,4.424802297664324e-6,4.743781083616924e-6,5.083234875748115e-6,5.443402652872966e-6,5.824486910038735e-6,6.2266464604030075e-6,6.649989283449244e-6,7.094565470243256e-6,7.560360319192826e-6,8.047287638218768e-6,8.555183311306523e-6,9.083799189020029e-6,9.632797363660588e-6,0.000010201744890279476,0.00001079010901465453,0.000011397252968564456,0.00001202243239120615,0.000012664792433358696,0.000013323365597892093,0.000013997070366425755,0.000014684710657371182,0.000015384976155247763,0.00001609644354507314,0.000016817578678826532,0.00001754673969352368,0.000018282181092377922,0.00001902205879193635,0.000019764436129047528,0.000020507290812140728,0.00002124852279167946,0.000021985963014902215,0.00002271738302020689,0.000023440505316891276,0.000024153014486563625,0.000024852568933504842,0.000025536813202738574,0.000026203390776658587,0.00002684995725390796,0.000027474193807906052,0.000028073820817090922,0.000028646611554672903,0.000029190405822567506,0.000029703123412260978,0.000030182777274705713,0.00003062748628199063,0.00003103548746549316,0.000031405147618502825,0.000031734974155885195,0.0000320236251292002,0.00003226991830273865,0.00003247283920412855,0.000032631548072391975,0.00003274538563650626,0.000032813877668514355],\"yaxis\":\"y\",\"type\":\"scatter\"},{\"legendgroup\":\"healthy\",\"marker\":{\"color\":\"#7EC0EE\"},\"mode\":\"lines\",\"name\":\"healthy\",\"showlegend\":false,\"x\":[0.0,1.488,2.976,4.464,5.952,7.44,8.928,10.416,11.904,13.392,14.88,16.368,17.856,19.344,20.832,22.32,23.808,25.296,26.784,28.272,29.76,31.248,32.736,34.224,35.712,37.2,38.688,40.176,41.664,43.152,44.64,46.128,47.616,49.104,50.592,52.08,53.568,55.056,56.544,58.032,59.52,61.008,62.496,63.984,65.472,66.96,68.448,69.936,71.424,72.912,74.4,75.888,77.376,78.864,80.352,81.84,83.328,84.816,86.304,87.792,89.28,90.768,92.256,93.744,95.232,96.72,98.208,99.696,101.184,102.672,104.16,105.648,107.136,108.624,110.112,111.6,113.088,114.576,116.064,117.552,119.04,120.528,122.016,123.504,124.992,126.48,127.968,129.456,130.944,132.432,133.92,135.408,136.896,138.384,139.872,141.36,142.848,144.336,145.824,147.312,148.8,150.288,151.776,153.264,154.752,156.24,157.728,159.216,160.704,162.192,163.68,165.168,166.656,168.144,169.632,171.12,172.608,174.096,175.584,177.072,178.56,180.048,181.536,183.024,184.512,186.0,187.488,188.976,190.464,191.952,193.44,194.928,196.416,197.904,199.392,200.88,202.368,203.856,205.344,206.832,208.32,209.808,211.296,212.784,214.272,215.76,217.248,218.736,220.224,221.712,223.2,224.688,226.176,227.664,229.152,230.64,232.128,233.616,235.104,236.592,238.08,239.568,241.056,242.544,244.032,245.52,247.008,248.496,249.984,251.472,252.96,254.448,255.936,257.424,258.912,260.4,261.888,263.376,264.864,266.352,267.84,269.328,270.816,272.304,273.792,275.28,276.768,278.256,279.744,281.232,282.72,284.208,285.696,287.184,288.672,290.16,291.648,293.136,294.624,296.112,297.6,299.088,300.576,302.064,303.552,305.04,306.528,308.016,309.504,310.992,312.48,313.968,315.456,316.944,318.432,319.92,321.408,322.896,324.384,325.872,327.36,328.848,330.336,331.824,333.312,334.8,336.288,337.776,339.264,340.752,342.24,343.728,345.216,346.704,348.192,349.68,351.168,352.656,354.144,355.632,357.12,358.608,360.096,361.584,363.072,364.56,366.048,367.536,369.024,370.512,372.0,373.488,374.976,376.464,377.952,379.44,380.928,382.416,383.904,385.392,386.88,388.368,389.856,391.344,392.832,394.32,395.808,397.296,398.784,400.272,401.76,403.248,404.736,406.224,407.712,409.2,410.688,412.176,413.664,415.152,416.64,418.128,419.616,421.104,422.592,424.08,425.568,427.056,428.544,430.032,431.52,433.008,434.496,435.984,437.472,438.96,440.448,441.936,443.424,444.912,446.4,447.888,449.376,450.864,452.352,453.84,455.328,456.816,458.304,459.792,461.28,462.768,464.256,465.744,467.232,468.72,470.208,471.696,473.184,474.672,476.16,477.648,479.136,480.624,482.112,483.6,485.088,486.576,488.064,489.552,491.04,492.528,494.016,495.504,496.992,498.48,499.968,501.456,502.944,504.432,505.92,507.408,508.896,510.384,511.872,513.36,514.848,516.336,517.824,519.312,520.8,522.288,523.776,525.264,526.752,528.24,529.728,531.216,532.704,534.192,535.68,537.168,538.656,540.144,541.632,543.12,544.608,546.096,547.584,549.072,550.56,552.048,553.536,555.024,556.512,558.0,559.488,560.976,562.464,563.952,565.44,566.928,568.416,569.904,571.392,572.88,574.368,575.856,577.344,578.832,580.32,581.808,583.296,584.784,586.272,587.76,589.248,590.736,592.224,593.712,595.2,596.688,598.176,599.664,601.152,602.64,604.128,605.616,607.104,608.592,610.08,611.568,613.056,614.544,616.032,617.52,619.008,620.496,621.984,623.472,624.96,626.448,627.936,629.424,630.912,632.4,633.888,635.376,636.864,638.352,639.84,641.328,642.816,644.304,645.792,647.28,648.768,650.256,651.744,653.232,654.72,656.208,657.696,659.184,660.672,662.16,663.648,665.136,666.624,668.112,669.6,671.088,672.576,674.064,675.552,677.04,678.528,680.016,681.504,682.992,684.48,685.968,687.456,688.944,690.432,691.92,693.408,694.896,696.384,697.872,699.36,700.848,702.336,703.824,705.312,706.8,708.288,709.776,711.264,712.752,714.24,715.728,717.216,718.704,720.192,721.68,723.168,724.656,726.144,727.632,729.12,730.608,732.096,733.584,735.072,736.56,738.048,739.536,741.024,742.512],\"xaxis\":\"x\",\"y\":[0.0071748731632725665,0.0072096841300084745,0.007228813601489551,0.007232485034373522,0.007221053969935232,0.007195002556536603,0.007154932310747456,0.007101555252864411,0.007035683583022643,0.006958218090619306,0.00687013551176229,0.006772475066435376,0.006666324418702128,0.0065528053093529175,0.006433059110911374,0.0063082325499565,0.006179463831559287,0.006047869385648509,0.0059145314358397035,0.005780486568270649,0.0056467154519859244,0.005514133834135899,0.005383584903475307,0.005255833085147591,0.00513155929928219,0.0050113576862552784,0.00489573377322549,0.004785104030379298,0.004679796741701091,0.004580054094454728,0.004486035374238234,0.004397821138662917,0.0043154182325213526,0.00423876550074832,0.004167740052456792,0.004102163929668586,0.004041811037807978,0.003986414201271617,0.003935672216064646,0.003889256782208432,0.003846819210954032,0.0038079968153578556,0.00377241890706572,0.0037397123368045184,0.0037095065307205712,0.0036814379889823137,0.0036551542266814742,0.0036303171497613276,0.003606605870266688,0.003583718975481787,0.003561376274396298,0.003539320052344755,0.0035173158705863344,0.00349515295204679,0.003472644197492931,0.0034496258781302955,0.003425957051126187,0.0034015187439827258,0.003376212952165868,0.003349961492082498,0.003322704748543524,0.003294400352403299,0.0032650218202732164,0.0032345571842046323,0.0032030076351458395,0.0031703861999157184,0.0031367164674935923,0.0031020313766867967,0.0030663720737673958,0.0030297868455161875,0.0029923301303145717,0.0029540616075007017,0.0029150453631667625,0.0028753491289171635,0.002835043588819604,0.002794201748846796,0.0027528983624966947,0.0027112094059653603,0.002669211596196027,0.002626981945304231,0.0025845973452468625,0.0025421341771264725,0.0024996679401679905,0.002457272896139477,0.0024150217257810683,0.0023729851946322684,0.002331231826477519,0.0022898275834481296,0.0022488355525999734,0.002208315639521375,0.002168324270194909,0.0021289141029361366,0.0020901337527465145,0.002052027530846555,0.002014635202490179,0.001977991766400194,0.0019421272593075267,0.0019070665891221647,0.0018728294002122764,0.0018394299741235805,0.0018068771688363164,0.001775174399336216,0.0017443196618753458,0.0017143056038258627,0.0016851196404904915,0.0016567441196401148,0.0016291565339083152,0.0016023297804991829,0.0015762324669674724,0.0015508292611241818,0.001526081282418035,0.0015019465314580268,0.0014783803536879126,0.0014553359326134028,0.0014327648074304088,0.001410617409419354,0.001388843611067436,0.0013673932815677257,0.0013462168421283008,0.0013252658144127403,0.0013044933554279394,0.001283854772279776,0.001263308010428405,0.0012428141093919903,0.0012223376202633925,0.001201846979912494,0.0011813148373365898,0.0011607183282825785,0.0011400392949840008,0.001119264448619651,0.00109838547289439,0.0010773990679512767,0.0010563069346329113,0.0010351156999044975,0.00101383678501698,0.0009924862187146038,0.0009710843984647581,0.0009496558033001766,0.0009282286624066451,0.0009068345840572777,0.0008855081498831646,0.0008642864797783695,0.0008432087729639676,0.0008223158308834149,0.0008016495676725236,0.0007812525139465047,0.0007611673195791185,0.0007414362610209214,0.0007221007585216101,0.0007032009083919249,0.0006847750351702041,0.0006668592682529822,0.0006494871472141954,0.0006326892596776437,0.0006164929152265877,0.0006009218584355705,0.0005859960236952175,0.0005717313340718324,0.0005581395460014473,0.0005452281411625176,0.0005330002664032809,0.0005214547221188016,0.0005105859989796784,0.0005003843624102058,0.0004908359837002705,0.00048192311611514586,0.00047362431384454775,0.000465914691111742,0.0004587662182514721,0.0004521480510693957,0.0004460268893241129,0.00044036735973508866,0.0004351324185259359,0.0004302837681729652,0.0004257822827540992,0.0004215884360931539,0.00041766272677841643,0.0004139660941103984,0.000410460319108126,0.0004071084048808174,0.00040387493095463725,0.00040072637653199846,0.0003976314081508266,0.00039456112779734755,0.00039148927819988546,0.00038839240278147423,0.00038524995856206045,0.00038204438116053575,0.000378761101934973,0.0003753885181967247,0.00037191791832026324,0.00036834336442505386,0.00036466153610787593,0.00036087153943412673,0.0003569746860365244,0.00035297424770286065,0.0003488751922471256,0.0003446839067396253,0.00034040791431366583,0.000336055590765161,0.0003316358870164377,0.0003271580632301759,0.0003226314399407629,0.0003180651710292061,0.00031346804271802314,0.0003088483020212108,0.0003042135172708267,0.000299570472477251,0.00029492509638742926,0.00029028242620768524,0.0002856466050783553,0.00028102091154922677,0.00027640781852897805,0.00027180907848805695,0.0002672258310997224,0.0002626587290225651,0.00025810807717055467,0.00025357398059088214,0.00024905649597917125,0.0002445557819058184,0.0002400722430023536,0.0002356066636552964,0.00023116032716621808,0.00022673511684688662,0.00022233359611130974,0.00021795906528400673,0.00021361559354645613,0.00020930802517101516,0.00020504195992322431,0.00020082370822920178,0.00019666022238570109,0.00019255900571882604,0.00018852800215777315,0.00018457546916915852,0.00018070983738497208,0.00017693956054549005,0.00017327295956298276,0.00016971806459141283,0.00016628245896300602,0.00016297312872904973,0.0001597963213264819,0.0001567574165930815,0.0001538608129835473,0.0001511098314091907,0.0001485066386491315,0.000146052191775205,0.000143746204510825,0.00014158713592011664,0.0001395722013113986,0.00013769740475115134,0.00013595759213226396,0.0001343465233332798,0.00013285696165147185,0.0001314807783978856,0.00013020907031100035,0.0001290322872794877,0.00012794036776383406,0.00012692287926976658,0.0001259691612502398,0.00012506846789259128,0.00012421010837752636,0.00012338358237011022,0.00012257870871250462,0.00012178574552596216,0.00012099550018760675,0.0001201994279178934,0.00011938971798978983,0.00011855936684358145,0.00011770223765539694,0.00011681310615750502,0.00011588769273948798,0.00011492268106788087,0.00011391572364510549,0.00011286543488488458,0.00011177137241012369,0.00011063400738075327,0.00010945468473434041,0.00010823557427324605,0.00010697961356118516,0.00010569044360219363,0.00010437233826951201,0.00010303012843426253,0.00010166912171756485,0.000100295018758376,0.00009891382685608145,0.00009753177181460612,0.00009615520878598009,0.00009479053288779061,0.00009344409035203881,0.00009212209095323038,0.00009083052246098514,0.00008957506786632806,0.00008836102613972395,0.00008719323729089306,0.00008607601251300411,0.00008501307020413723,0.00008400747866378719,0.0000830616062583775,0.00008217707983402146,0.00008135475212402362,0.00008059467885012875,0.0000798961061480366,0.00007925746885758048,0.00007867640010532942,0.00007814975247216975,0.00007767363088151253,0.00007724343716695841,0.00007685392608427786,0.00007649927232506967,0.0000761731478729222,0.0000758688088225006,0.00007557919056347685,0.00007529701002076607,0.0000750148734464809,0.00007472538808371858,0.00007442127587386157,0.00007409548726316753,0.00007374131308604159,0.00007335249246565941,0.0000729233146806366,0.00007244871300114326,0.00007192434859987441,0.000071346682791899,0.00007071303605054841,0.00007002163248075177,0.00006927162870190515,0.00006846312639363724,0.0000675971680828838,0.00006667571609187405,0.00006570161491573645,0.00006467853764689123,0.00006361091740252107,0.00006250386503270089,0.0000613630746820844,0.0000601947190399286,0.0000590053363350422,0.000057801711308398255,0.00005659075252225612,0.00005537936843761116,0.000054174344709955506,0.000052982225116406265,0.00005180919843640996,0.00005066099346596516,0.00004954278415544038,0.00004845910662855469,0.00004741378957091318,0.0000464098991774669,0.0000454496995268362,0.00004453462891449855,0.000043665292334485045,0.000042841469958583326,0.0000420621411309968,0.000041325523082489326,0.000040629123278160304,0.000039969804053349404,0.00003934385796805823,0.00003874709212602901,0.0000381749195634765,0.00003762245571656907,0.000037084617927068474,0.00003655622594193033,0.00003603210140387162,0.00003550716441365574,0.000034976525367884205,0.000034435570434349074,0.000033880039215699245,0.000033306093365951264,0.000032710375157446494,0.00003209005524218536,0.00003144286910490042,0.000030767141959680344,0.000030061802091527768,0.000029326382883391035,0.00002856101399287018,0.0000277664023464824,0.000026943803799248196,0.000026094986460368585,0.000025222186809600134,0.000024328059822142667,0.000023415624381766642,0.000022488205292660698,0.0000215493732009705,0.000020602883708795628,0.000019652616908719974,0.00001870251848847577,0.000017756543456238535,0.00001681860342076045,0.000015892518230752598,0.000014981972638363862,0.000014090478506043002,0.000013221342928134009,0.000012377642491707703,0.00001156220375852437,0.000010777589914508703,0.000010026093407130497,9.30973427667134e-6,8.630263786103199e-6,7.9891728673854e-6,7.387704830127105e-6,6.826871722113311e-6,6.3074736901136975e-6,5.8301206633453315e-6,5.395255670305873e-6,5.003179101594942e-6,4.654073245769924e-6,4.3480264511113866e-6,4.085056302187134e-6,3.865131245079648e-6,3.688190147846749e-6,3.5541593420452895e-6,3.4629667558316046e-6,3.4145528182143485e-6,3.4088778864962217e-6,3.4459260239019325e-6,3.5257050310093586e-6,3.648242712089191e-6,3.8135794350518937e-6,4.021757120643957e-6,4.272804872059619e-6,4.56672152943409e-6,4.9034555039084435e-6,5.2828823121842585e-6,5.7047802937380355e-6,6.168805048082205e-6,6.674463177540742e-6,7.221085960793449e-6,7.807803612778533e-6,8.43352080627311e-6,9.096894138515048e-6,9.796312221591225e-6,0.0000105298790571693,0.000011295401323844512,0.000012090380158531414,0.00001291200795184527,0.000013757170601539759,0.00001462245557838845,0.000015504166056424913,0.00001639834124557055,0.000017300782941189814,0.000018207088174176325,0.00001911268770934113,0.000020012890001959928,0.000020902930085445385,0.000021778022730488723,0.000022633419091039556,0.00002346446593851214,0.000024266666485914267,0.0000250357417212628,0.000025767691107495653,0.000026458851466520778,0.00002710595285002899,0.000027706170210639967,0.00002825716972467193,0.000028757148682472553,0.00002920486795331498,0.000029599676148126284,0.000029941524742907658,0.000030230973586081465,0.000030469186391045887,0.00003065791600727431,0.00003079947946527577,0.00003089672299819713,0.000030952977451131486,0.00003097200469351807,0.0000309579358456022,0.000030915202312126034,0.00003084846078084537,0.00003076251348608609,0.00003066222515480144,0.0000305524381414672,0.000030437887316291714,0.00003032311629696015,0.00003021239660655578,0.000030109651299258533,0.000030018384521534896,0.000029941618371193104,0.00002988183828199895,0.00002984094800033098,0.000029820235036013254,0.000029820347265951403,0.000029841281150909467,0.000029882381797439756,0.000029942354863585984,0.000030019290073610123,0.00003011069587873267,0.000030213544582692265,0.00003032432704755982,0.000030439115911073645,0.00003055363608574165,0.00003066334117549055,0.00003076349434052023,0.00003084925206735129,0.000030915749260211395,0.000030958184062505584,0.00003097190084299454,0.00003095246983953334,0.00003089576204212674,0.00003079801801425953,0.0000306559094939531,0.00003046659278020806],\"yaxis\":\"y\",\"type\":\"scatter\"},{\"legendgroup\":\"diabetic\",\"marker\":{\"color\":\"#FFD700\",\"symbol\":\"line-ns-open\"},\"mode\":\"markers\",\"name\":\"diabetic\",\"showlegend\":false,\"x\":[0,0,168,88,543,0,0,846,175,0,230,0,96,0,0,146,115,0,245,0,0,207,240,0,0,300,304,0,0,0,90,0,0,0,110,0,220,0,36,135,495,175,0,0,100,0,99,145,0,168,0,225,0,155,0,0,114,0,156,0,130,130,130,0,0,495,58,114,160,0,0,210,48,99,318,280,0,0,130,175,271,129,0,0,478,0,0,0,370,0,192,0,0,0,176,0,258,0,150,0,0,0,0,0,0,0,0,0,220,74,182,194,360,184,0,135,0,132,180,205,96,0,0,0,0,0,29,156,120,0,0,171,0,0,0,167,0,249,325,0,0,140,465,325,0,0,0,285,0,0,0,0,0,88,0,0,0,579,167,474,0,115,210,277,180,180,0,0,0,0,14,64,0,0,237,0,191,328,0,250,122,145,0,90,0,105,165,0,0,155,215,190,0,225,207,0,274,165,0,0,0,600,0,156,0,0,185,0,126,0,293,194,321,144,0,0,0,0,91,0,144,159,130,540,70,0,231,130,0,0,0,0,0,0,0,0,180,0,125,480,125,0,0,0,0,160,0,392,185,0,127,79,0,120,0,150,0,0,200,0,0,510,0,110,0,0,0,0],\"xaxis\":\"x\",\"y\":[\"diabetic\",\"diabetic\",\"diabetic\",\"diabetic\",\"diabetic\",\"diabetic\",\"diabetic\",\"diabetic\",\"diabetic\",\"diabetic\",\"diabetic\",\"diabetic\",\"diabetic\",\"diabetic\",\"diabetic\",\"diabetic\",\"diabetic\",\"diabetic\",\"diabetic\",\"diabetic\",\"diabetic\",\"diabetic\",\"diabetic\",\"diabetic\",\"diabetic\",\"diabetic\",\"diabetic\",\"diabetic\",\"diabetic\",\"diabetic\",\"diabetic\",\"diabetic\",\"diabetic\",\"diabetic\",\"diabetic\",\"diabetic\",\"diabetic\",\"diabetic\",\"diabetic\",\"diabetic\",\"diabetic\",\"diabetic\",\"diabetic\",\"diabetic\",\"diabetic\",\"diabetic\",\"diabetic\",\"diabetic\",\"diabetic\",\"diabetic\",\"diabetic\",\"diabetic\",\"diabetic\",\"diabetic\",\"diabetic\",\"diabetic\",\"diabetic\",\"diabetic\",\"diabetic\",\"diabetic\",\"diabetic\",\"diabetic\",\"diabetic\",\"diabetic\",\"diabetic\",\"diabetic\",\"diabetic\",\"diabetic\",\"diabetic\",\"diabetic\",\"diabetic\",\"diabetic\",\"diabetic\",\"diabetic\",\"diabetic\",\"diabetic\",\"diabetic\",\"diabetic\",\"diabetic\",\"diabetic\",\"diabetic\",\"diabetic\",\"diabetic\",\"diabetic\",\"diabetic\",\"diabetic\",\"diabetic\",\"diabetic\",\"diabetic\",\"diabetic\",\"diabetic\",\"diabetic\",\"diabetic\",\"diabetic\",\"diabetic\",\"diabetic\",\"diabetic\",\"diabetic\",\"diabetic\",\"diabetic\",\"diabetic\",\"diabetic\",\"diabetic\",\"diabetic\",\"diabetic\",\"diabetic\",\"diabetic\",\"diabetic\",\"diabetic\",\"diabetic\",\"diabetic\",\"diabetic\",\"diabetic\",\"diabetic\",\"diabetic\",\"diabetic\",\"diabetic\",\"diabetic\",\"diabetic\",\"diabetic\",\"diabetic\",\"diabetic\",\"diabetic\",\"diabetic\",\"diabetic\",\"diabetic\",\"diabetic\",\"diabetic\",\"diabetic\",\"diabetic\",\"diabetic\",\"diabetic\",\"diabetic\",\"diabetic\",\"diabetic\",\"diabetic\",\"diabetic\",\"diabetic\",\"diabetic\",\"diabetic\",\"diabetic\",\"diabetic\",\"diabetic\",\"diabetic\",\"diabetic\",\"diabetic\",\"diabetic\",\"diabetic\",\"diabetic\",\"diabetic\",\"diabetic\",\"diabetic\",\"diabetic\",\"diabetic\",\"diabetic\",\"diabetic\",\"diabetic\",\"diabetic\",\"diabetic\",\"diabetic\",\"diabetic\",\"diabetic\",\"diabetic\",\"diabetic\",\"diabetic\",\"diabetic\",\"diabetic\",\"diabetic\",\"diabetic\",\"diabetic\",\"diabetic\",\"diabetic\",\"diabetic\",\"diabetic\",\"diabetic\",\"diabetic\",\"diabetic\",\"diabetic\",\"diabetic\",\"diabetic\",\"diabetic\",\"diabetic\",\"diabetic\",\"diabetic\",\"diabetic\",\"diabetic\",\"diabetic\",\"diabetic\",\"diabetic\",\"diabetic\",\"diabetic\",\"diabetic\",\"diabetic\",\"diabetic\",\"diabetic\",\"diabetic\",\"diabetic\",\"diabetic\",\"diabetic\",\"diabetic\",\"diabetic\",\"diabetic\",\"diabetic\",\"diabetic\",\"diabetic\",\"diabetic\",\"diabetic\",\"diabetic\",\"diabetic\",\"diabetic\",\"diabetic\",\"diabetic\",\"diabetic\",\"diabetic\",\"diabetic\",\"diabetic\",\"diabetic\",\"diabetic\",\"diabetic\",\"diabetic\",\"diabetic\",\"diabetic\",\"diabetic\",\"diabetic\",\"diabetic\",\"diabetic\",\"diabetic\",\"diabetic\",\"diabetic\",\"diabetic\",\"diabetic\",\"diabetic\",\"diabetic\",\"diabetic\",\"diabetic\",\"diabetic\",\"diabetic\",\"diabetic\",\"diabetic\",\"diabetic\",\"diabetic\",\"diabetic\",\"diabetic\",\"diabetic\",\"diabetic\",\"diabetic\",\"diabetic\",\"diabetic\",\"diabetic\",\"diabetic\",\"diabetic\",\"diabetic\",\"diabetic\",\"diabetic\",\"diabetic\",\"diabetic\",\"diabetic\",\"diabetic\",\"diabetic\",\"diabetic\",\"diabetic\",\"diabetic\",\"diabetic\",\"diabetic\",\"diabetic\",\"diabetic\",\"diabetic\",\"diabetic\"],\"yaxis\":\"y2\",\"type\":\"scatter\"},{\"legendgroup\":\"healthy\",\"marker\":{\"color\":\"#7EC0EE\",\"symbol\":\"line-ns-open\"},\"mode\":\"markers\",\"name\":\"healthy\",\"showlegend\":false,\"x\":[0,94,0,0,0,0,83,235,0,140,110,0,0,54,0,0,192,0,70,0,0,0,0,0,0,82,36,23,342,0,110,0,142,0,0,128,0,0,38,100,140,270,0,0,0,0,0,0,0,71,0,125,0,71,0,0,176,48,64,228,0,76,64,0,0,40,0,152,0,140,18,37,0,0,0,51,0,100,0,135,94,0,49,140,50,92,0,325,0,0,63,284,0,0,119,0,0,204,0,485,94,135,53,0,105,285,0,0,0,0,78,0,48,55,0,0,0,92,23,0,0,0,94,0,0,0,0,0,44,190,0,87,0,0,0,120,0,190,56,32,0,744,53,37,0,45,0,0,88,194,0,680,402,0,0,0,55,0,0,0,375,130,0,0,67,0,0,56,0,45,0,57,116,0,278,122,155,135,545,49,75,40,0,120,215,0,42,0,105,148,0,148,85,94,64,140,231,0,168,0,68,0,52,0,58,255,0,105,73,0,0,0,108,83,0,74,0,0,0,43,0,54,0,0,293,83,0,66,89,66,94,158,84,75,72,82,0,182,59,110,50,81,196,415,87,275,115,0,0,0,165,0,0,176,310,61,0,0,170,76,78,0,0,145,0,85,60,0,0,0,0,0,0,50,120,70,92,63,95,210,0,105,0,71,60,56,0,49,0,0,105,36,100,140,0,0,0,0,0,0,110,75,0,0,49,125,480,265,0,0,66,0,0,0,0,0,76,193,71,0,79,0,0,170,76,0,210,0,0,86,0,0,326,66,130,0,0,0,82,105,188,0,106,0,65,0,56,0,0,210,56,76,166,67,0,0,106,0,44,115,215,0,0,0,0,77,54,0,88,18,126,126,0,0,44,120,330,63,130,0,0,0,0,0,0,0,140,115,230,0,25,120,0,0,0,0,41,272,182,158,0,0,0,15,160,0,0,115,0,54,0,0,0,0,90,0,183,0,0,66,46,105,0,0,152,440,0,100,106,77,0,135,90,200,0,0,132,190,100,168,0,49,240,0,0,265,45,105,0,205,0,0,180,0,95,0,0,155,0,200,0,100,0,335,387,22,291,0,0,178,0,200,105,0,0,180,0,0,0,165,0,0,120,0,160,94,116,140,105,57,74,0,0,0,16,0,180,0,112,0],\"xaxis\":\"x\",\"y\":[\"healthy\",\"healthy\",\"healthy\",\"healthy\",\"healthy\",\"healthy\",\"healthy\",\"healthy\",\"healthy\",\"healthy\",\"healthy\",\"healthy\",\"healthy\",\"healthy\",\"healthy\",\"healthy\",\"healthy\",\"healthy\",\"healthy\",\"healthy\",\"healthy\",\"healthy\",\"healthy\",\"healthy\",\"healthy\",\"healthy\",\"healthy\",\"healthy\",\"healthy\",\"healthy\",\"healthy\",\"healthy\",\"healthy\",\"healthy\",\"healthy\",\"healthy\",\"healthy\",\"healthy\",\"healthy\",\"healthy\",\"healthy\",\"healthy\",\"healthy\",\"healthy\",\"healthy\",\"healthy\",\"healthy\",\"healthy\",\"healthy\",\"healthy\",\"healthy\",\"healthy\",\"healthy\",\"healthy\",\"healthy\",\"healthy\",\"healthy\",\"healthy\",\"healthy\",\"healthy\",\"healthy\",\"healthy\",\"healthy\",\"healthy\",\"healthy\",\"healthy\",\"healthy\",\"healthy\",\"healthy\",\"healthy\",\"healthy\",\"healthy\",\"healthy\",\"healthy\",\"healthy\",\"healthy\",\"healthy\",\"healthy\",\"healthy\",\"healthy\",\"healthy\",\"healthy\",\"healthy\",\"healthy\",\"healthy\",\"healthy\",\"healthy\",\"healthy\",\"healthy\",\"healthy\",\"healthy\",\"healthy\",\"healthy\",\"healthy\",\"healthy\",\"healthy\",\"healthy\",\"healthy\",\"healthy\",\"healthy\",\"healthy\",\"healthy\",\"healthy\",\"healthy\",\"healthy\",\"healthy\",\"healthy\",\"healthy\",\"healthy\",\"healthy\",\"healthy\",\"healthy\",\"healthy\",\"healthy\",\"healthy\",\"healthy\",\"healthy\",\"healthy\",\"healthy\",\"healthy\",\"healthy\",\"healthy\",\"healthy\",\"healthy\",\"healthy\",\"healthy\",\"healthy\",\"healthy\",\"healthy\",\"healthy\",\"healthy\",\"healthy\",\"healthy\",\"healthy\",\"healthy\",\"healthy\",\"healthy\",\"healthy\",\"healthy\",\"healthy\",\"healthy\",\"healthy\",\"healthy\",\"healthy\",\"healthy\",\"healthy\",\"healthy\",\"healthy\",\"healthy\",\"healthy\",\"healthy\",\"healthy\",\"healthy\",\"healthy\",\"healthy\",\"healthy\",\"healthy\",\"healthy\",\"healthy\",\"healthy\",\"healthy\",\"healthy\",\"healthy\",\"healthy\",\"healthy\",\"healthy\",\"healthy\",\"healthy\",\"healthy\",\"healthy\",\"healthy\",\"healthy\",\"healthy\",\"healthy\",\"healthy\",\"healthy\",\"healthy\",\"healthy\",\"healthy\",\"healthy\",\"healthy\",\"healthy\",\"healthy\",\"healthy\",\"healthy\",\"healthy\",\"healthy\",\"healthy\",\"healthy\",\"healthy\",\"healthy\",\"healthy\",\"healthy\",\"healthy\",\"healthy\",\"healthy\",\"healthy\",\"healthy\",\"healthy\",\"healthy\",\"healthy\",\"healthy\",\"healthy\",\"healthy\",\"healthy\",\"healthy\",\"healthy\",\"healthy\",\"healthy\",\"healthy\",\"healthy\",\"healthy\",\"healthy\",\"healthy\",\"healthy\",\"healthy\",\"healthy\",\"healthy\",\"healthy\",\"healthy\",\"healthy\",\"healthy\",\"healthy\",\"healthy\",\"healthy\",\"healthy\",\"healthy\",\"healthy\",\"healthy\",\"healthy\",\"healthy\",\"healthy\",\"healthy\",\"healthy\",\"healthy\",\"healthy\",\"healthy\",\"healthy\",\"healthy\",\"healthy\",\"healthy\",\"healthy\",\"healthy\",\"healthy\",\"healthy\",\"healthy\",\"healthy\",\"healthy\",\"healthy\",\"healthy\",\"healthy\",\"healthy\",\"healthy\",\"healthy\",\"healthy\",\"healthy\",\"healthy\",\"healthy\",\"healthy\",\"healthy\",\"healthy\",\"healthy\",\"healthy\",\"healthy\",\"healthy\",\"healthy\",\"healthy\",\"healthy\",\"healthy\",\"healthy\",\"healthy\",\"healthy\",\"healthy\",\"healthy\",\"healthy\",\"healthy\",\"healthy\",\"healthy\",\"healthy\",\"healthy\",\"healthy\",\"healthy\",\"healthy\",\"healthy\",\"healthy\",\"healthy\",\"healthy\",\"healthy\",\"healthy\",\"healthy\",\"healthy\",\"healthy\",\"healthy\",\"healthy\",\"healthy\",\"healthy\",\"healthy\",\"healthy\",\"healthy\",\"healthy\",\"healthy\",\"healthy\",\"healthy\",\"healthy\",\"healthy\",\"healthy\",\"healthy\",\"healthy\",\"healthy\",\"healthy\",\"healthy\",\"healthy\",\"healthy\",\"healthy\",\"healthy\",\"healthy\",\"healthy\",\"healthy\",\"healthy\",\"healthy\",\"healthy\",\"healthy\",\"healthy\",\"healthy\",\"healthy\",\"healthy\",\"healthy\",\"healthy\",\"healthy\",\"healthy\",\"healthy\",\"healthy\",\"healthy\",\"healthy\",\"healthy\",\"healthy\",\"healthy\",\"healthy\",\"healthy\",\"healthy\",\"healthy\",\"healthy\",\"healthy\",\"healthy\",\"healthy\",\"healthy\",\"healthy\",\"healthy\",\"healthy\",\"healthy\",\"healthy\",\"healthy\",\"healthy\",\"healthy\",\"healthy\",\"healthy\",\"healthy\",\"healthy\",\"healthy\",\"healthy\",\"healthy\",\"healthy\",\"healthy\",\"healthy\",\"healthy\",\"healthy\",\"healthy\",\"healthy\",\"healthy\",\"healthy\",\"healthy\",\"healthy\",\"healthy\",\"healthy\",\"healthy\",\"healthy\",\"healthy\",\"healthy\",\"healthy\",\"healthy\",\"healthy\",\"healthy\",\"healthy\",\"healthy\",\"healthy\",\"healthy\",\"healthy\",\"healthy\",\"healthy\",\"healthy\",\"healthy\",\"healthy\",\"healthy\",\"healthy\",\"healthy\",\"healthy\",\"healthy\",\"healthy\",\"healthy\",\"healthy\",\"healthy\",\"healthy\",\"healthy\",\"healthy\",\"healthy\",\"healthy\",\"healthy\",\"healthy\",\"healthy\",\"healthy\",\"healthy\",\"healthy\",\"healthy\",\"healthy\",\"healthy\",\"healthy\",\"healthy\",\"healthy\",\"healthy\",\"healthy\",\"healthy\",\"healthy\",\"healthy\",\"healthy\",\"healthy\",\"healthy\",\"healthy\",\"healthy\",\"healthy\",\"healthy\",\"healthy\",\"healthy\",\"healthy\",\"healthy\",\"healthy\",\"healthy\",\"healthy\",\"healthy\",\"healthy\",\"healthy\",\"healthy\",\"healthy\",\"healthy\",\"healthy\",\"healthy\",\"healthy\",\"healthy\",\"healthy\",\"healthy\",\"healthy\",\"healthy\",\"healthy\",\"healthy\",\"healthy\",\"healthy\",\"healthy\",\"healthy\",\"healthy\",\"healthy\",\"healthy\",\"healthy\",\"healthy\",\"healthy\",\"healthy\",\"healthy\",\"healthy\",\"healthy\",\"healthy\",\"healthy\",\"healthy\",\"healthy\",\"healthy\",\"healthy\",\"healthy\",\"healthy\",\"healthy\",\"healthy\",\"healthy\",\"healthy\",\"healthy\",\"healthy\",\"healthy\",\"healthy\",\"healthy\",\"healthy\",\"healthy\",\"healthy\",\"healthy\",\"healthy\",\"healthy\",\"healthy\",\"healthy\",\"healthy\",\"healthy\",\"healthy\",\"healthy\",\"healthy\",\"healthy\",\"healthy\",\"healthy\"],\"yaxis\":\"y2\",\"type\":\"scatter\"}],                        {\"barmode\":\"overlay\",\"hovermode\":\"closest\",\"legend\":{\"traceorder\":\"reversed\"},\"template\":{\"data\":{\"candlestick\":[{\"decreasing\":{\"line\":{\"color\":\"#000033\"}},\"increasing\":{\"line\":{\"color\":\"#000032\"}},\"type\":\"candlestick\"}],\"contourcarpet\":[{\"colorscale\":[[0.0,\"#000011\"],[0.1111111111111111,\"#000012\"],[0.2222222222222222,\"#000013\"],[0.3333333333333333,\"#000014\"],[0.4444444444444444,\"#000015\"],[0.5555555555555556,\"#000016\"],[0.6666666666666666,\"#000017\"],[0.7777777777777778,\"#000018\"],[0.8888888888888888,\"#000019\"],[1.0,\"#000020\"]],\"type\":\"contourcarpet\"}],\"contour\":[{\"colorscale\":[[0.0,\"#000011\"],[0.1111111111111111,\"#000012\"],[0.2222222222222222,\"#000013\"],[0.3333333333333333,\"#000014\"],[0.4444444444444444,\"#000015\"],[0.5555555555555556,\"#000016\"],[0.6666666666666666,\"#000017\"],[0.7777777777777778,\"#000018\"],[0.8888888888888888,\"#000019\"],[1.0,\"#000020\"]],\"type\":\"contour\"}],\"heatmap\":[{\"colorscale\":[[0.0,\"#000011\"],[0.1111111111111111,\"#000012\"],[0.2222222222222222,\"#000013\"],[0.3333333333333333,\"#000014\"],[0.4444444444444444,\"#000015\"],[0.5555555555555556,\"#000016\"],[0.6666666666666666,\"#000017\"],[0.7777777777777778,\"#000018\"],[0.8888888888888888,\"#000019\"],[1.0,\"#000020\"]],\"type\":\"heatmap\"}],\"histogram2d\":[{\"colorscale\":[[0.0,\"#000011\"],[0.1111111111111111,\"#000012\"],[0.2222222222222222,\"#000013\"],[0.3333333333333333,\"#000014\"],[0.4444444444444444,\"#000015\"],[0.5555555555555556,\"#000016\"],[0.6666666666666666,\"#000017\"],[0.7777777777777778,\"#000018\"],[0.8888888888888888,\"#000019\"],[1.0,\"#000020\"]],\"type\":\"histogram2d\"}],\"icicle\":[{\"textfont\":{\"color\":\"white\"},\"type\":\"icicle\"}],\"sankey\":[{\"textfont\":{\"color\":\"#000036\"},\"type\":\"sankey\"}],\"scatter\":[{\"marker\":{\"line\":{\"width\":0}},\"type\":\"scatter\"}],\"table\":[{\"cells\":{\"fill\":{\"color\":\"#000038\"},\"font\":{\"color\":\"#000037\"},\"line\":{\"color\":\"#000039\"}},\"header\":{\"fill\":{\"color\":\"#000040\"},\"font\":{\"color\":\"#000036\"},\"line\":{\"color\":\"#000039\"}},\"type\":\"table\"}],\"waterfall\":[{\"connector\":{\"line\":{\"color\":\"#000036\",\"width\":2}},\"decreasing\":{\"marker\":{\"color\":\"#000033\"}},\"increasing\":{\"marker\":{\"color\":\"#000032\"}},\"totals\":{\"marker\":{\"color\":\"#000034\"}},\"type\":\"waterfall\"}]},\"layout\":{\"coloraxis\":{\"colorscale\":[[0.0,\"#000011\"],[0.1111111111111111,\"#000012\"],[0.2222222222222222,\"#000013\"],[0.3333333333333333,\"#000014\"],[0.4444444444444444,\"#000015\"],[0.5555555555555556,\"#000016\"],[0.6666666666666666,\"#000017\"],[0.7777777777777778,\"#000018\"],[0.8888888888888888,\"#000019\"],[1.0,\"#000020\"]]},\"colorscale\":{\"diverging\":[[0.0,\"#000021\"],[0.1,\"#000022\"],[0.2,\"#000023\"],[0.3,\"#000024\"],[0.4,\"#000025\"],[0.5,\"#000026\"],[0.6,\"#000027\"],[0.7,\"#000028\"],[0.8,\"#000029\"],[0.9,\"#000030\"],[1.0,\"#000031\"]],\"sequential\":[[0.0,\"#000011\"],[0.1111111111111111,\"#000012\"],[0.2222222222222222,\"#000013\"],[0.3333333333333333,\"#000014\"],[0.4444444444444444,\"#000015\"],[0.5555555555555556,\"#000016\"],[0.6666666666666666,\"#000017\"],[0.7777777777777778,\"#000018\"],[0.8888888888888888,\"#000019\"],[1.0,\"#000020\"]],\"sequentialminus\":[[0.0,\"#000011\"],[0.1111111111111111,\"#000012\"],[0.2222222222222222,\"#000013\"],[0.3333333333333333,\"#000014\"],[0.4444444444444444,\"#000015\"],[0.5555555555555556,\"#000016\"],[0.6666666666666666,\"#000017\"],[0.7777777777777778,\"#000018\"],[0.8888888888888888,\"#000019\"],[1.0,\"#000020\"]]},\"colorway\":[\"#000001\",\"#000002\",\"#000003\",\"#000004\",\"#000005\",\"#000006\",\"#000007\",\"#000008\",\"#000009\",\"#000010\"]}},\"title\":{\"text\":\"Insulin\"},\"xaxis\":{\"anchor\":\"y2\",\"domain\":[0.0,1.0],\"zeroline\":false},\"yaxis\":{\"anchor\":\"free\",\"domain\":[0.35,1],\"position\":0.0},\"yaxis2\":{\"anchor\":\"x\",\"domain\":[0,0.25],\"dtick\":1,\"showticklabels\":false}},                        {\"responsive\": true}                    ).then(function(){\n",
       "                            \n",
       "var gd = document.getElementById('ddad4e71-ee7a-4224-af29-5b271896f3f1');\n",
       "var x = new MutationObserver(function (mutations, observer) {{\n",
       "        var display = window.getComputedStyle(gd).display;\n",
       "        if (!display || display === 'none') {{\n",
       "            console.log([gd, 'removed!']);\n",
       "            Plotly.purge(gd);\n",
       "            observer.disconnect();\n",
       "        }}\n",
       "}});\n",
       "\n",
       "// Listen for the removal of the full notebook cells\n",
       "var notebookContainer = gd.closest('#notebook-container');\n",
       "if (notebookContainer) {{\n",
       "    x.observe(notebookContainer, {childList: true});\n",
       "}}\n",
       "\n",
       "// Listen for the clearing of the current output cell\n",
       "var outputEl = gd.closest('.output');\n",
       "if (outputEl) {{\n",
       "    x.observe(outputEl, {childList: true});\n",
       "}}\n",
       "\n",
       "                        })                };                });            </script>        </div>"
      ]
     },
     "metadata": {},
     "output_type": "display_data"
    }
   ],
   "source": [
    "def plot_distribution(data_select, size_bin) :  \n",
    "    # 2 datasets\n",
    "    D = df[(df['Outcome'] != 0)]\n",
    "    H = df[(df['Outcome'] == 0)]\n",
    "    tmp1 = D[data_select]\n",
    "    tmp2 = H[data_select]\n",
    "    hist_data = [tmp1, tmp2]\n",
    "    \n",
    "    group_labels = ['diabetic', 'healthy']\n",
    "    colors = ['#FFD700', '#7EC0EE']\n",
    "\n",
    "    fig = ff.create_distplot(hist_data, group_labels, colors = colors, show_hist = True, bin_size = size_bin, curve_type='kde')\n",
    "    \n",
    "    fig['layout'].update(title = data_select)\n",
    "\n",
    "    py.iplot(fig, filename = 'Density plot')\n",
    "\n",
    "plot_distribution('Insulin', 0)\n",
    "    "
   ]
  },
  {
   "cell_type": "code",
   "execution_count": 50,
   "id": "82fd99b1",
   "metadata": {
    "scrolled": true
   },
   "outputs": [
    {
     "data": {
      "image/png": "[encoded data removed]",
      "text/plain": [
       "<Figure size 1200x1000 with 2 Axes>"
      ]
     },
     "metadata": {},
     "output_type": "display_data"
    }
   ],
   "source": [
    "plt.figure(figsize=(12,10))\n",
    "p=sns.heatmap(df.corr(), annot=True, cmap='copper')"
   ]
  },
  {
   "cell_type": "markdown",
   "id": "ea9004cf",
   "metadata": {},
   "source": [
    "# Scaling the data"
   ]
  },
  {
   "cell_type": "code",
   "execution_count": 51,
   "id": "067631d4",
   "metadata": {},
   "outputs": [
    {
     "name": "stdout",
     "output_type": "stream",
     "text": [
      "The Training Set: ((537, 8), (537,))\n",
      "The Test Set: ((231, 8), (231,))\n"
     ]
    }
   ],
   "source": [
    "#Identifying the Variables\n",
    "\n",
    "X = df.drop('Outcome', axis=1)\n",
    "X\n",
    "\n",
    "y= df['Outcome']\n",
    "y\n",
    "\n",
    "\n",
    "from sklearn.model_selection import train_test_split\n",
    "#Splitting the Dataset\n",
    "X_train , X_test, y_train, y_test = train_test_split(X, y, train_size=0.7, test_size=0.3, random_state=10)\n",
    "\n",
    "#Sizes of the Set \n",
    "print('The Training Set:', (X_train.shape, y_train.shape))\n",
    "print('The Test Set:', (X_test.shape, y_test.shape))"
   ]
  },
  {
   "cell_type": "code",
   "execution_count": 52,
   "id": "3c02dcd8",
   "metadata": {},
   "outputs": [
    {
     "data": {
      "text/plain": [
       "0    0.662942\n",
       "1    0.337058\n",
       "Name: Outcome, dtype: float64"
      ]
     },
     "execution_count": 52,
     "metadata": {},
     "output_type": "execute_result"
    }
   ],
   "source": [
    "#Checking if the Training data set is balanced \n",
    "pd.Series(y_train).value_counts(normalize=True)\n"
   ]
  },
  {
   "cell_type": "code",
   "execution_count": 53,
   "id": "2a0de5a2",
   "metadata": {},
   "outputs": [
    {
     "data": {
      "text/plain": [
       "0    0.623377\n",
       "1    0.376623\n",
       "Name: Outcome, dtype: float64"
      ]
     },
     "execution_count": 53,
     "metadata": {},
     "output_type": "execute_result"
    }
   ],
   "source": [
    "#Analysing the Testing Set\n",
    "pd.Series(y_test).value_counts(normalize=True)"
   ]
  },
  {
   "cell_type": "markdown",
   "id": "c48ece0d",
   "metadata": {},
   "source": [
    "# PREDICTIONS"
   ]
  },
  {
   "cell_type": "code",
   "execution_count": 54,
   "id": "1bc3bf2c",
   "metadata": {},
   "outputs": [],
   "source": [
    "from sklearn.preprocessing import StandardScaler\n",
    "scaler = StandardScaler()\n",
    "X_train = scaler.fit_transform(X_train)\n",
    "X_test = scaler.transform(X_test)"
   ]
  },
  {
   "cell_type": "code",
   "execution_count": 55,
   "id": "c704f7eb",
   "metadata": {},
   "outputs": [
    {
     "name": "stdout",
     "output_type": "stream",
     "text": [
      "[[-0.53788077 -0.98266127  1.07584045 ...  0.19662751 -0.51280558\n",
      "   0.74882677]\n",
      " [ 0.06137644  0.74886132  0.81461495 ... -0.39218237 -0.8218938\n",
      "  -0.52209603]\n",
      " [ 1.85914807 -0.31435431  0.03093844 ... -0.57138538 -0.96593491\n",
      "   0.57937039]\n",
      " ...\n",
      " [-0.23825217 -0.16246636  0.23991884 ... -0.72498795 -1.06796403\n",
      "  -0.77628059]\n",
      " [-0.83750938 -1.01303886 -2.05886558 ...  2.94867368  0.09936914\n",
      "  -0.60682422]\n",
      " [ 0.36100504 -0.77001815  0.23991884 ...  0.20942772  1.60279824\n",
      "   0.83355495]]\n"
     ]
    }
   ],
   "source": [
    "print(X_train)"
   ]
  },
  {
   "cell_type": "code",
   "execution_count": 83,
   "id": "e36c1a42",
   "metadata": {},
   "outputs": [
    {
     "data": {
      "text/plain": [
       "0.6883116883116883"
      ]
     },
     "execution_count": 83,
     "metadata": {},
     "output_type": "execute_result"
    }
   ],
   "source": [
    "from sklearn.neighbors import KNeighborsClassifier\n",
    "knn = KNeighborsClassifier(n_neighbors=5, metric='euclidean', p=2)\n",
    "knn.fit(X_train,y_train)\n",
    "knn.score(X_test,y_test)"
   ]
  },
  {
   "cell_type": "code",
   "execution_count": 84,
   "id": "dc192278",
   "metadata": {},
   "outputs": [
    {
     "data": {
      "text/plain": [
       "array([0, 1, 1, 0, 0, 0, 0, 0, 1, 0, 1, 0, 0, 0, 0, 0, 1, 1, 0, 0, 0, 1,\n",
       "       1, 1, 0, 0, 0, 1, 1, 0, 0, 0, 0, 1, 0, 1, 0, 0, 0, 0, 0, 1, 1, 1,\n",
       "       0, 0, 1, 0, 0, 0, 0, 0, 0, 0, 0, 0, 0, 0, 0, 1, 1, 0, 0, 0, 0, 1,\n",
       "       0, 1, 0, 0, 0, 0, 0, 0, 1, 0, 0, 0, 1, 1, 1, 0, 1, 0, 1, 1, 0, 0,\n",
       "       0, 0, 1, 1, 0, 0, 0, 1, 0, 0, 1, 0, 0, 0, 0, 0, 1, 0, 1, 0, 1, 0,\n",
       "       0, 0, 0, 0, 0, 1, 0, 1, 0, 0, 0, 0, 0, 0, 1, 0, 1, 1, 1, 1, 0, 0,\n",
       "       0, 0, 0, 1, 1, 0, 0, 1, 0, 1, 0, 1, 0, 0, 1, 0, 1, 1, 0, 1, 0, 0,\n",
       "       1, 1, 0, 1, 0, 1, 1, 0, 1, 1, 0, 0, 0, 1, 0, 0, 0, 0, 0, 0, 0, 1,\n",
       "       0, 0, 1, 0, 0, 1, 1, 0, 1, 0, 0, 0, 0, 0, 1, 0, 0, 0, 0, 0, 1, 0,\n",
       "       0, 0, 0, 1, 0, 0, 1, 0, 1, 0, 0, 0, 0, 0, 1, 0, 0, 0, 1, 0, 0, 0,\n",
       "       1, 0, 0, 1, 0, 1, 0, 0, 0, 0, 1, 1, 1, 1, 1, 1, 0, 0, 1, 0, 1, 0,\n",
       "       1, 1, 0, 0, 0, 0, 0, 1, 0, 0, 1, 0, 0, 0, 0, 1, 0, 0, 0, 1, 0, 0,\n",
       "       1, 0, 1, 0, 1, 0, 0, 0, 0, 0, 1, 0, 0, 0, 0, 1, 0, 1, 1, 1, 0, 0,\n",
       "       1, 1, 1, 0, 0, 0, 0, 0, 1, 0, 0, 0, 0, 0, 0, 0, 0, 0, 1, 0, 1, 0,\n",
       "       0, 0, 0, 1, 0, 0, 0, 1, 0, 0, 0, 0, 0, 0, 1, 1, 0, 0, 0, 1, 0, 0,\n",
       "       0, 0, 0, 1, 0, 1, 1, 0, 1, 0, 1, 0, 0, 1, 1, 1, 0, 0, 0, 0, 0, 0,\n",
       "       0, 0, 1, 0, 1, 0, 0, 0, 0, 1, 1, 0, 1, 1, 0, 0, 1, 0, 0, 0, 0, 0,\n",
       "       0, 0, 0, 0, 0, 0, 1, 0, 1, 1, 0, 0, 1, 0, 1, 0, 0, 0, 0, 0, 1, 0,\n",
       "       1, 0, 0, 1, 0, 0, 0, 0, 1, 1, 0, 0, 0, 1, 0, 0, 1, 0, 0, 0, 0, 0,\n",
       "       1, 1, 1, 1, 1, 1, 1, 0, 0, 1, 0, 1, 0, 0, 0, 1, 0, 0, 0, 0, 0, 1,\n",
       "       0, 1, 1, 0, 0, 0, 0, 0, 1, 0, 1, 1, 0, 1, 0, 1, 1, 0, 0, 0, 0, 0,\n",
       "       1, 0, 0, 0, 1, 0, 1, 1, 1, 0, 1, 0, 0, 1, 0, 0, 0, 0, 1, 0, 0, 0,\n",
       "       0, 0, 0, 0, 1, 1, 0, 0, 0, 1, 0, 0, 0, 0, 1, 0, 0, 0, 1, 1, 0, 0,\n",
       "       1, 1, 0, 0, 1, 0, 0, 0, 0, 0, 0, 0, 1, 0, 0, 1, 0, 1, 0, 0, 0, 1,\n",
       "       0, 0, 0, 0, 1, 0, 0, 0, 1])"
      ]
     },
     "execution_count": 84,
     "metadata": {},
     "output_type": "execute_result"
    }
   ],
   "source": [
    "#predictions on The Test set\n",
    "y_pred = knn.predict(X_test)\n",
    "y_pred\n",
    "\n",
    "#The Predictions of the Training Set\n",
    "y_train_pred = knn.predict(X_train)\n",
    "y_train_pred"
   ]
  },
  {
   "cell_type": "code",
   "execution_count": 58,
   "id": "bba75828",
   "metadata": {},
   "outputs": [
    {
     "name": "stdout",
     "output_type": "stream",
     "text": [
      "Max test score 100 % and k = [4, 8, 13, 15, 20, 21, 24, 26, 28, 29, 30, 35, 37, 41, 42, 43, 45, 49, 52, 64, 67, 70, 71, 72, 74, 77, 78, 80, 82, 85, 86, 88, 89, 92, 97, 101, 102, 103, 107, 108, 112, 115, 118, 120, 126, 128, 131, 132, 136, 138, 139, 140, 143, 145, 148, 149, 150, 151, 153, 155, 159, 164, 166, 168, 174, 175, 176, 178, 179, 180, 186, 193, 195, 196, 200, 203, 204, 207, 209, 210, 213, 214, 216, 220, 224, 225, 228]\n"
     ]
    }
   ],
   "source": [
    "## score that comes from testing on the datapoints that were split in the beginning to be used for testing solely\n",
    "max_test_score = max(y_test)\n",
    "test_scores_ind = [i for i, v in enumerate(y_test) if v == max_test_score]\n",
    "print('Max test score {} % and k = {}'.format(max_test_score*100,list(map(lambda x: x+1, test_scores_ind))))\n"
   ]
  },
  {
   "cell_type": "code",
   "execution_count": 59,
   "id": "3c4e19c5",
   "metadata": {
    "scrolled": true
   },
   "outputs": [
    {
     "data": {
      "image/png": "[encoded data removed]",
      "text/plain": [
       "<Figure size 1200x500 with 1 Axes>"
      ]
     },
     "metadata": {},
     "output_type": "display_data"
    }
   ],
   "source": [
    "test_score_list = []\n",
    "train_score_list = []\n",
    "\n",
    "for i in range(1,15):\n",
    "    knn = KNeighborsClassifier(n_neighbors=i) \n",
    "    knn.fit(X_train, y_train)\n",
    "    test_score_list.append(knn.score(X_test, y_test))\n",
    "    train_score_list.append(knn.score(X_train, y_train))\n",
    "    \n",
    "plt.figure(figsize=(12,5))\n",
    "p = sns.lineplot(train_score_list,marker='*',label='Train Score')\n",
    "p = sns.lineplot(test_score_list,marker='o',label='Test Score')\n",
    "\n"
   ]
  },
  {
   "cell_type": "code",
   "execution_count": 60,
   "id": "70d3d729",
   "metadata": {
    "scrolled": true
   },
   "outputs": [
    {
     "data": {
      "image/png": "[encoded data removed]",
      "text/plain": [
       "<Figure size 640x480 with 1 Axes>"
      ]
     },
     "metadata": {},
     "output_type": "display_data"
    }
   ],
   "source": [
    "#instead of randomly selecting the values of n_neighbors, its better to plot the accuracy curve and then select the value of n_neighbors.\n",
    "import matplotlib.pyplot as plt\n",
    "import pylab\n",
    "import numpy as np\n",
    "neighbors  = np.arange(1,10)\n",
    "train_accuracy = np.empty(len(neighbors))\n",
    "test_accuracy = np.empty(len(neighbors))\n",
    "for i,k in enumerate(neighbors):\n",
    "    knn = KNeighborsClassifier(n_neighbors = k)\n",
    "    knn.fit(X_train,y_train)\n",
    "    train_accuracy[i] = knn.score(X_train,y_train)\n",
    "    test_accuracy[i] = knn.score(X_test,y_test)\n",
    "plt.title('KNN : Accuracy Curve')\n",
    "plt.plot(neighbors,test_accuracy,label = 'Testing Accuracy')\n",
    "plt.plot(neighbors,train_accuracy,label = 'Training Accuracy')\n",
    "plt.xlabel('No of Neighbors')\n",
    "plt.ylabel('Accuracy')\n",
    "pylab.legend(loc = 'upper right')\n",
    "plt.show()"
   ]
  },
  {
   "cell_type": "code",
   "execution_count": 61,
   "id": "2f01e632",
   "metadata": {},
   "outputs": [
    {
     "data": {
      "image/png": "[encoded data removed]",
      "text/plain": [
       "<Figure size 1300x800 with 1 Axes>"
      ]
     },
     "metadata": {},
     "output_type": "display_data"
    },
    {
     "name": "stdout",
     "output_type": "stream",
     "text": [
      "Best accuracy is 0.7316017316017316 with K = 13\n"
     ]
    }
   ],
   "source": [
    "# Model complexity\n",
    "neig = np.arange(1, 25)\n",
    "train_accuracy = []\n",
    "test_accuracy = []\n",
    "# Loop over different values of k\n",
    "for i, k in enumerate(neig):\n",
    "    # k from 1 to 25(exclude)\n",
    "    knn = KNeighborsClassifier(n_neighbors=k)\n",
    "    # Fit with knn\n",
    "    knn.fit(X_train,y_train)\n",
    "    #train accuracy\n",
    "    train_accuracy.append(knn.score(X_train, y_train))\n",
    "    # test accuracy\n",
    "    test_accuracy.append(knn.score(X_test, y_test))\n",
    "# Plot\n",
    "plt.figure(figsize=[13,8])\n",
    "plt.plot(neig, test_accuracy, label = 'Testing Accuracy')\n",
    "plt.plot(neig, train_accuracy, label = 'Training Accuracy')\n",
    "plt.legend()\n",
    "plt.title('-value VS Accuracy')\n",
    "plt.xlabel('Number of Neighbors')\n",
    "plt.ylabel('Accuracy')\n",
    "plt.xticks(neig)\n",
    "plt.savefig('graph.png')\n",
    "plt.show()\n",
    "print(\"Best accuracy is {} with K = {}\".format(np.max(test_accuracy),1+test_accuracy.index(np.max(test_accuracy))))\n"
   ]
  },
  {
   "cell_type": "code",
   "execution_count": 62,
   "id": "f4a03bec",
   "metadata": {},
   "outputs": [
    {
     "data": {
      "text/plain": [
       "0.3116883116883117"
      ]
     },
     "execution_count": 62,
     "metadata": {},
     "output_type": "execute_result"
    }
   ],
   "source": [
    "from sklearn.metrics import mean_squared_error\n",
    "mean_squared_error(y_pred, y_test)"
   ]
  },
  {
   "cell_type": "code",
   "execution_count": 63,
   "id": "16b182f9",
   "metadata": {},
   "outputs": [
    {
     "name": "stdout",
     "output_type": "stream",
     "text": [
      "The Accuracy Scores of the Training Set: 78.8\n",
      "The Accuracy Scores of the Test Set: 71.0\n",
      "The Accuracy of the model: 68.8\n",
      "Traing Set Predictions Accuracy: 83.8\n"
     ]
    }
   ],
   "source": [
    "from sklearn.metrics import accuracy_score\n",
    "from sklearn import metrics\n",
    "\n",
    "#The Accuracy Scores \n",
    "\n",
    "print('The Accuracy Scores of the Training Set: {:.3}'.format(knn.score(X_train,y_train)*100))\n",
    "print('The Accuracy Scores of the Test Set: {:.3}'.format(knn.score(X_test,y_test)*100))\n",
    "print('The Accuracy of the model: {:.3}'.format(accuracy_score(y_test, y_pred)*100))\n",
    "print('Traing Set Predictions Accuracy: {:.3}'.format(accuracy_score(y_train_pred, y_train)*100))"
   ]
  },
  {
   "cell_type": "code",
   "execution_count": 64,
   "id": "2f4c29c7",
   "metadata": {},
   "outputs": [
    {
     "data": {
      "text/html": [
       "<div>\n",
       "<style scoped>\n",
       "    .dataframe tbody tr th:only-of-type {\n",
       "        vertical-align: middle;\n",
       "    }\n",
       "\n",
       "    .dataframe tbody tr th {\n",
       "        vertical-align: top;\n",
       "    }\n",
       "\n",
       "    .dataframe thead th {\n",
       "        text-align: right;\n",
       "    }\n",
       "</style>\n",
       "<table border=\"1\" class=\"dataframe\">\n",
       "  <thead>\n",
       "    <tr style=\"text-align: right;\">\n",
       "      <th></th>\n",
       "      <th>Pregnancies</th>\n",
       "      <th>Glucose</th>\n",
       "      <th>BloodPressure</th>\n",
       "      <th>SkinThickness</th>\n",
       "      <th>Insulin</th>\n",
       "      <th>BMI</th>\n",
       "      <th>DiabetesPedigreeFunction</th>\n",
       "      <th>Age</th>\n",
       "    </tr>\n",
       "  </thead>\n",
       "  <tbody>\n",
       "    <tr>\n",
       "      <th>0</th>\n",
       "      <td>6</td>\n",
       "      <td>148</td>\n",
       "      <td>72</td>\n",
       "      <td>35</td>\n",
       "      <td>0</td>\n",
       "      <td>33.6</td>\n",
       "      <td>0.627</td>\n",
       "      <td>50</td>\n",
       "    </tr>\n",
       "    <tr>\n",
       "      <th>1</th>\n",
       "      <td>1</td>\n",
       "      <td>85</td>\n",
       "      <td>66</td>\n",
       "      <td>29</td>\n",
       "      <td>0</td>\n",
       "      <td>26.6</td>\n",
       "      <td>0.351</td>\n",
       "      <td>31</td>\n",
       "    </tr>\n",
       "    <tr>\n",
       "      <th>2</th>\n",
       "      <td>8</td>\n",
       "      <td>183</td>\n",
       "      <td>64</td>\n",
       "      <td>0</td>\n",
       "      <td>0</td>\n",
       "      <td>23.3</td>\n",
       "      <td>0.672</td>\n",
       "      <td>32</td>\n",
       "    </tr>\n",
       "    <tr>\n",
       "      <th>3</th>\n",
       "      <td>1</td>\n",
       "      <td>89</td>\n",
       "      <td>66</td>\n",
       "      <td>23</td>\n",
       "      <td>94</td>\n",
       "      <td>28.1</td>\n",
       "      <td>0.167</td>\n",
       "      <td>21</td>\n",
       "    </tr>\n",
       "    <tr>\n",
       "      <th>4</th>\n",
       "      <td>0</td>\n",
       "      <td>137</td>\n",
       "      <td>40</td>\n",
       "      <td>35</td>\n",
       "      <td>168</td>\n",
       "      <td>43.1</td>\n",
       "      <td>2.288</td>\n",
       "      <td>33</td>\n",
       "    </tr>\n",
       "    <tr>\n",
       "      <th>...</th>\n",
       "      <td>...</td>\n",
       "      <td>...</td>\n",
       "      <td>...</td>\n",
       "      <td>...</td>\n",
       "      <td>...</td>\n",
       "      <td>...</td>\n",
       "      <td>...</td>\n",
       "      <td>...</td>\n",
       "    </tr>\n",
       "    <tr>\n",
       "      <th>763</th>\n",
       "      <td>10</td>\n",
       "      <td>101</td>\n",
       "      <td>76</td>\n",
       "      <td>48</td>\n",
       "      <td>180</td>\n",
       "      <td>32.9</td>\n",
       "      <td>0.171</td>\n",
       "      <td>63</td>\n",
       "    </tr>\n",
       "    <tr>\n",
       "      <th>764</th>\n",
       "      <td>2</td>\n",
       "      <td>122</td>\n",
       "      <td>70</td>\n",
       "      <td>27</td>\n",
       "      <td>0</td>\n",
       "      <td>36.8</td>\n",
       "      <td>0.340</td>\n",
       "      <td>27</td>\n",
       "    </tr>\n",
       "    <tr>\n",
       "      <th>765</th>\n",
       "      <td>5</td>\n",
       "      <td>121</td>\n",
       "      <td>72</td>\n",
       "      <td>23</td>\n",
       "      <td>112</td>\n",
       "      <td>26.2</td>\n",
       "      <td>0.245</td>\n",
       "      <td>30</td>\n",
       "    </tr>\n",
       "    <tr>\n",
       "      <th>766</th>\n",
       "      <td>1</td>\n",
       "      <td>126</td>\n",
       "      <td>60</td>\n",
       "      <td>0</td>\n",
       "      <td>0</td>\n",
       "      <td>30.1</td>\n",
       "      <td>0.349</td>\n",
       "      <td>47</td>\n",
       "    </tr>\n",
       "    <tr>\n",
       "      <th>767</th>\n",
       "      <td>1</td>\n",
       "      <td>93</td>\n",
       "      <td>70</td>\n",
       "      <td>31</td>\n",
       "      <td>0</td>\n",
       "      <td>30.4</td>\n",
       "      <td>0.315</td>\n",
       "      <td>23</td>\n",
       "    </tr>\n",
       "  </tbody>\n",
       "</table>\n",
       "<p>768 rows × 8 columns</p>\n",
       "</div>"
      ],
      "text/plain": [
       "     Pregnancies  Glucose  BloodPressure  SkinThickness  Insulin   BMI  \\\n",
       "0              6      148             72             35        0  33.6   \n",
       "1              1       85             66             29        0  26.6   \n",
       "2              8      183             64              0        0  23.3   \n",
       "3              1       89             66             23       94  28.1   \n",
       "4              0      137             40             35      168  43.1   \n",
       "..           ...      ...            ...            ...      ...   ...   \n",
       "763           10      101             76             48      180  32.9   \n",
       "764            2      122             70             27        0  36.8   \n",
       "765            5      121             72             23      112  26.2   \n",
       "766            1      126             60              0        0  30.1   \n",
       "767            1       93             70             31        0  30.4   \n",
       "\n",
       "     DiabetesPedigreeFunction  Age  \n",
       "0                       0.627   50  \n",
       "1                       0.351   31  \n",
       "2                       0.672   32  \n",
       "3                       0.167   21  \n",
       "4                       2.288   33  \n",
       "..                        ...  ...  \n",
       "763                     0.171   63  \n",
       "764                     0.340   27  \n",
       "765                     0.245   30  \n",
       "766                     0.349   47  \n",
       "767                     0.315   23  \n",
       "\n",
       "[768 rows x 8 columns]"
      ]
     },
     "execution_count": 64,
     "metadata": {},
     "output_type": "execute_result"
    }
   ],
   "source": [
    "from sklearn.pipeline import Pipeline\n",
    "\n",
    "Pipeline = X\n",
    "Pipeline"
   ]
  },
  {
   "cell_type": "code",
   "execution_count": 65,
   "id": "becfc312",
   "metadata": {},
   "outputs": [],
   "source": [
    "#Selecting The K values\n",
    "error_rate = []\n",
    "\n",
    "# Will take some time\n",
    "for i in range(1,40):\n",
    "    \n",
    "    knn = KNeighborsClassifier(n_neighbors=i)\n",
    "    knn.fit(X_train,y_train)\n",
    "    y_pred= knn.predict(X_test)\n",
    "    error_rate.append(np.mean(y_pred != y_test))"
   ]
  },
  {
   "cell_type": "code",
   "execution_count": 66,
   "id": "7a877444",
   "metadata": {},
   "outputs": [
    {
     "data": {
      "text/plain": [
       "Text(0, 0.5, 'Error Rate')"
      ]
     },
     "execution_count": 66,
     "metadata": {},
     "output_type": "execute_result"
    },
    {
     "data": {
      "image/png": "[encoded data removed]",
      "text/plain": [
       "<Figure size 1000x600 with 1 Axes>"
      ]
     },
     "metadata": {},
     "output_type": "display_data"
    }
   ],
   "source": [
    "import matplotlib.pyplot as plt\n",
    "plt.figure(figsize=(10,6))\n",
    "plt.plot(range(1,40),error_rate,color='blue', linestyle='dashed', marker='o',\n",
    "         markerfacecolor='red', markersize=10)\n",
    "plt.title('Error Rate vs. K Value')\n",
    "plt.xlabel('K')\n",
    "plt.ylabel('Error Rate')"
   ]
  },
  {
   "cell_type": "code",
   "execution_count": 67,
   "id": "b3622acd",
   "metadata": {},
   "outputs": [
    {
     "data": {
      "text/html": [
       "<div>\n",
       "<style scoped>\n",
       "    .dataframe tbody tr th:only-of-type {\n",
       "        vertical-align: middle;\n",
       "    }\n",
       "\n",
       "    .dataframe tbody tr th {\n",
       "        vertical-align: top;\n",
       "    }\n",
       "\n",
       "    .dataframe thead th {\n",
       "        text-align: right;\n",
       "    }\n",
       "</style>\n",
       "<table border=\"1\" class=\"dataframe\">\n",
       "  <thead>\n",
       "    <tr style=\"text-align: right;\">\n",
       "      <th>Predicted</th>\n",
       "      <th>0</th>\n",
       "      <th>1</th>\n",
       "      <th>All</th>\n",
       "    </tr>\n",
       "    <tr>\n",
       "      <th>True</th>\n",
       "      <th></th>\n",
       "      <th></th>\n",
       "      <th></th>\n",
       "    </tr>\n",
       "  </thead>\n",
       "  <tbody>\n",
       "    <tr>\n",
       "      <th>0</th>\n",
       "      <td>137</td>\n",
       "      <td>7</td>\n",
       "      <td>144</td>\n",
       "    </tr>\n",
       "    <tr>\n",
       "      <th>1</th>\n",
       "      <td>60</td>\n",
       "      <td>27</td>\n",
       "      <td>87</td>\n",
       "    </tr>\n",
       "    <tr>\n",
       "      <th>All</th>\n",
       "      <td>197</td>\n",
       "      <td>34</td>\n",
       "      <td>231</td>\n",
       "    </tr>\n",
       "  </tbody>\n",
       "</table>\n",
       "</div>"
      ],
      "text/plain": [
       "Predicted    0   1  All\n",
       "True                   \n",
       "0          137   7  144\n",
       "1           60  27   87\n",
       "All        197  34  231"
      ]
     },
     "execution_count": 67,
     "metadata": {},
     "output_type": "execute_result"
    }
   ],
   "source": [
    "from sklearn.metrics import confusion_matrix\n",
    "cm = confusion_matrix(y_test, y_pred)\n",
    "pd.crosstab(y_test, y_pred, rownames=['True'], colnames=['Predicted'], margins=True)"
   ]
  },
  {
   "cell_type": "markdown",
   "id": "1e818e69",
   "metadata": {},
   "source": [
    "# CLASSIFICATION REPORT\n",
    "\n",
    "- Classification Report mostly includes Precision, Recall and F1 Score ;\n",
    "    \n",
    "    *Precision - \n",
    "      =>Precision is the ratio of correctly predicted positive observations to the total predicted positive observations.\n",
    "    \n",
    "    Accuracy of positive predictions.\n",
    "        = TP/(TP + FP)\n",
    "\n",
    "    *Recall - \n",
    "        =>Recall is the ratio of correctly predicted positive observations to the all observations in actual class\n",
    "    Fraction of positives that were correctly identified.\n",
    "        = TP/(TP+FN)\n",
    "        \n",
    "    *F1 Score - \n",
    "    =>F1 Score takes into account precision and the recall. It is created by finding the the harmonic mean of precision and recall.\n",
    "         = 2 x (precision x recall)/(precision + recall)\n",
    "    "
   ]
  },
  {
   "cell_type": "code",
   "execution_count": 68,
   "id": "cdc3aae1",
   "metadata": {},
   "outputs": [
    {
     "name": "stdout",
     "output_type": "stream",
     "text": [
      "              precision    recall  f1-score   support\n",
      "\n",
      "           0       0.70      0.95      0.80       144\n",
      "           1       0.79      0.31      0.45        87\n",
      "\n",
      "    accuracy                           0.71       231\n",
      "   macro avg       0.74      0.63      0.62       231\n",
      "weighted avg       0.73      0.71      0.67       231\n",
      "\n"
     ]
    }
   ],
   "source": [
    "# Import The Classification Report \n",
    "\n",
    "from sklearn.metrics import classification_report\n",
    "print(classification_report(y_test,y_pred))"
   ]
  },
  {
   "cell_type": "code",
   "execution_count": 69,
   "id": "da207f6d",
   "metadata": {},
   "outputs": [
    {
     "name": "stdout",
     "output_type": "stream",
     "text": [
      "RECALL SCORE:\n",
      "Train Recall :  74.58563535911603\n",
      "Test Recall :  31.03448275862069\n",
      "PRECISION SCORE:\n",
      "Train Precision :  76.70454545454545\n",
      "Test Precision :  79.41176470588235\n",
      "F1 SCORE:\n",
      "Train Accuracy : 75.63025210084034\n",
      "Test Accuracy : 44.628099173553714\n"
     ]
    }
   ],
   "source": [
    "#Classification Report\n",
    "print(\"RECALL SCORE:\")\n",
    "print(\"Train Recall : \",metrics.recall_score(y_train,y_train_pred)*100)\n",
    "print(\"Test Recall : \", metrics.recall_score(y_test,y_pred)*100)\n",
    "print(\"PRECISION SCORE:\")\n",
    "print(\"Train Precision : \",metrics.precision_score(y_train,y_train_pred)*100)\n",
    "print(\"Test Precision : \",metrics.precision_score(y_test,y_pred)*100)\n",
    "print(\"F1 SCORE:\")\n",
    "print(\"Train Accuracy :\", metrics.f1_score(y_train,y_train_pred)*100)\n",
    "print(\"Test Accuracy :\", metrics.f1_score(y_test,y_pred)*100)\n"
   ]
  },
  {
   "cell_type": "code",
   "execution_count": 70,
   "id": "917e74a1",
   "metadata": {},
   "outputs": [
    {
     "name": "stdout",
     "output_type": "stream",
     "text": [
      "\n",
      "CV accuracy for k = 5 is 70%\n"
     ]
    }
   ],
   "source": [
    "# ACCURACY SCORE\n",
    "\n",
    "acc = accuracy_score(y_test,y_pred, normalize=True)*100\n",
    "print('\\nCV accuracy for k = %d is %d%%' % (5, acc))\n"
   ]
  },
  {
   "cell_type": "code",
   "execution_count": 71,
   "id": "d29a49f3",
   "metadata": {},
   "outputs": [
    {
     "data": {
      "text/plain": [
       "0.5385566730097122"
      ]
     },
     "execution_count": 71,
     "metadata": {},
     "output_type": "execute_result"
    }
   ],
   "source": [
    "#Let’s measure this model's RMSE on the whole training set using Scikit-Learn’s mean_squared_error function:\n",
    "\n",
    "from sklearn.metrics import mean_squared_error\n",
    "knn_mse = mean_squared_error(y_test, y_pred)\n",
    "knn_rmse = np.sqrt(knn_mse)\n",
    "knn_rmse"
   ]
  },
  {
   "cell_type": "markdown",
   "id": "33cb87bf",
   "metadata": {},
   "source": [
    "   # BETTER EVALUATION WITH CROSS VALIDATION"
   ]
  },
  {
   "cell_type": "code",
   "execution_count": 72,
   "id": "e434e74a",
   "metadata": {},
   "outputs": [
    {
     "data": {
      "text/plain": [
       "array([0.73184358, 0.7877095 , 0.72625698])"
      ]
     },
     "execution_count": 72,
     "metadata": {},
     "output_type": "execute_result"
    }
   ],
   "source": [
    "from sklearn.neighbors import KNeighborsClassifier\n",
    "knn = KNeighborsClassifier(n_neighbors=5, metric='euclidean', p=2)\n",
    "from sklearn.model_selection import cross_val_score\n",
    "cross_val_score(knn, X_train, y_train, cv=3, scoring=\"accuracy\")"
   ]
  },
  {
   "cell_type": "code",
   "execution_count": 73,
   "id": "b8fa17a8",
   "metadata": {},
   "outputs": [],
   "source": [
    "knn_scores = cross_val_score(knn, X_train, y_train, \n",
    "                             scoring='neg_mean_squared_error', cv=5)\n",
    "knn_rmse_scores = np.sqrt(-knn_scores)\n"
   ]
  },
  {
   "cell_type": "code",
   "execution_count": 74,
   "id": "086e7eab",
   "metadata": {},
   "outputs": [
    {
     "name": "stdout",
     "output_type": "stream",
     "text": [
      "Scores: [-0.27777778 -0.22222222 -0.28037383 -0.29906542 -0.25233645]\n",
      "Mean: [-0.27777778 -0.22222222 -0.28037383 -0.29906542 -0.25233645]\n",
      "Standard deviation: 0.026612782520691748\n"
     ]
    }
   ],
   "source": [
    "def display_scores(scores):\n",
    "    print('Scores:', knn_scores)\n",
    "    print('Mean:', knn_scores)\n",
    "    print('Standard deviation:', knn_scores.std())\n",
    "    \n",
    "display_scores(knn_rmse_scores)    "
   ]
  },
  {
   "cell_type": "code",
   "execution_count": 75,
   "id": "bb1346be",
   "metadata": {},
   "outputs": [
    {
     "data": {
      "text/plain": [
       "array([0.69273743, 0.62011173, 0.67597765])"
      ]
     },
     "execution_count": 75,
     "metadata": {},
     "output_type": "execute_result"
    }
   ],
   "source": [
    "#classifier that just classifies every single image in the “not-5” class:\n",
    "\n",
    "from sklearn.base import BaseEstimator\n",
    "class Never5Classifier(BaseEstimator):\n",
    "    def fit(self, X, y=None):\n",
    "        pass\n",
    "    def predict(self, X):\n",
    "        return np.zeros((len(X), 1), dtype=bool)\n",
    "\n",
    "     \n",
    "never_5_clf = Never5Classifier()\n",
    "cross_val_score(never_5_clf, X_train, y_train, cv=3, scoring='accuracy')"
   ]
  },
  {
   "cell_type": "markdown",
   "id": "befd589e",
   "metadata": {},
   "source": [
    "# Hyperparameter Tuning Using GridSearchCV"
   ]
  },
  {
   "cell_type": "code",
   "execution_count": 76,
   "id": "d4ca6859",
   "metadata": {},
   "outputs": [
    {
     "data": {
      "text/plain": [
       "0.7056277056277056"
      ]
     },
     "execution_count": 76,
     "metadata": {},
     "output_type": "execute_result"
    }
   ],
   "source": [
    "# Importing The Libraries\n",
    "from sklearn.neighbors import KNeighborsClassifier\n",
    "from sklearn.model_selection import GridSearchCV\n",
    "\n",
    "param_grid = {'n_neighbors':np.arange(1,50)}\n",
    "\n",
    "\n",
    "\n",
    "knn = KNeighborsClassifier(n_neighbors=5, metric='euclidean', p=2)\n",
    "knn_cv= GridSearchCV(knn, param_grid, cv=5)\n",
    "knn_cv.fit(X_train, y_train)\n",
    "knn_cv.score(X_test, y_test)"
   ]
  },
  {
   "cell_type": "code",
   "execution_count": 77,
   "id": "76c6ef9b",
   "metadata": {},
   "outputs": [
    {
     "data": {
      "text/plain": [
       "{'n_neighbors': 22}"
      ]
     },
     "execution_count": 77,
     "metadata": {},
     "output_type": "execute_result"
    }
   ],
   "source": [
    "knn_cv.best_params_"
   ]
  },
  {
   "cell_type": "code",
   "execution_count": 78,
   "id": "fa7faa8b",
   "metadata": {},
   "outputs": [
    {
     "data": {
      "text/plain": [
       "0.7598823122187609"
      ]
     },
     "execution_count": 78,
     "metadata": {},
     "output_type": "execute_result"
    }
   ],
   "source": [
    "knn_cv.best_score_"
   ]
  },
  {
   "cell_type": "code",
   "execution_count": 79,
   "id": "ab61b6d5",
   "metadata": {},
   "outputs": [
    {
     "data": {
      "text/html": [
       "<style>#sk-container-id-1 {color: black;background-color: white;}#sk-container-id-1 pre{padding: 0;}#sk-container-id-1 div.sk-toggleable {background-color: white;}#sk-container-id-1 label.sk-toggleable__label {cursor: pointer;display: block;width: 100%;margin-bottom: 0;padding: 0.3em;box-sizing: border-box;text-align: center;}#sk-container-id-1 label.sk-toggleable__label-arrow:before {content: \"▸\";float: left;margin-right: 0.25em;color: #696969;}#sk-container-id-1 label.sk-toggleable__label-arrow:hover:before {color: black;}#sk-container-id-1 div.sk-estimator:hover label.sk-toggleable__label-arrow:before {color: black;}#sk-container-id-1 div.sk-toggleable__content {max-height: 0;max-width: 0;overflow: hidden;text-align: left;background-color: #f0f8ff;}#sk-container-id-1 div.sk-toggleable__content pre {margin: 0.2em;color: black;border-radius: 0.25em;background-color: #f0f8ff;}#sk-container-id-1 input.sk-toggleable__control:checked~div.sk-toggleable__content {max-height: 200px;max-width: 100%;overflow: auto;}#sk-container-id-1 input.sk-toggleable__control:checked~label.sk-toggleable__label-arrow:before {content: \"▾\";}#sk-container-id-1 div.sk-estimator input.sk-toggleable__control:checked~label.sk-toggleable__label {background-color: #d4ebff;}#sk-container-id-1 div.sk-label input.sk-toggleable__control:checked~label.sk-toggleable__label {background-color: #d4ebff;}#sk-container-id-1 input.sk-hidden--visually {border: 0;clip: rect(1px 1px 1px 1px);clip: rect(1px, 1px, 1px, 1px);height: 1px;margin: -1px;overflow: hidden;padding: 0;position: absolute;width: 1px;}#sk-container-id-1 div.sk-estimator {font-family: monospace;background-color: #f0f8ff;border: 1px dotted black;border-radius: 0.25em;box-sizing: border-box;margin-bottom: 0.5em;}#sk-container-id-1 div.sk-estimator:hover {background-color: #d4ebff;}#sk-container-id-1 div.sk-parallel-item::after {content: \"\";width: 100%;border-bottom: 1px solid gray;flex-grow: 1;}#sk-container-id-1 div.sk-label:hover label.sk-toggleable__label {background-color: #d4ebff;}#sk-container-id-1 div.sk-serial::before {content: \"\";position: absolute;border-left: 1px solid gray;box-sizing: border-box;top: 0;bottom: 0;left: 50%;z-index: 0;}#sk-container-id-1 div.sk-serial {display: flex;flex-direction: column;align-items: center;background-color: white;padding-right: 0.2em;padding-left: 0.2em;position: relative;}#sk-container-id-1 div.sk-item {position: relative;z-index: 1;}#sk-container-id-1 div.sk-parallel {display: flex;align-items: stretch;justify-content: center;background-color: white;position: relative;}#sk-container-id-1 div.sk-item::before, #sk-container-id-1 div.sk-parallel-item::before {content: \"\";position: absolute;border-left: 1px solid gray;box-sizing: border-box;top: 0;bottom: 0;left: 50%;z-index: -1;}#sk-container-id-1 div.sk-parallel-item {display: flex;flex-direction: column;z-index: 1;position: relative;background-color: white;}#sk-container-id-1 div.sk-parallel-item:first-child::after {align-self: flex-end;width: 50%;}#sk-container-id-1 div.sk-parallel-item:last-child::after {align-self: flex-start;width: 50%;}#sk-container-id-1 div.sk-parallel-item:only-child::after {width: 0;}#sk-container-id-1 div.sk-dashed-wrapped {border: 1px dashed gray;margin: 0 0.4em 0.5em 0.4em;box-sizing: border-box;padding-bottom: 0.4em;background-color: white;}#sk-container-id-1 div.sk-label label {font-family: monospace;font-weight: bold;display: inline-block;line-height: 1.2em;}#sk-container-id-1 div.sk-label-container {text-align: center;}#sk-container-id-1 div.sk-container {/* jupyter's `normalize.less` sets `[hidden] { display: none; }` but bootstrap.min.css set `[hidden] { display: none !important; }` so we also need the `!important` here to be able to override the default hidden behavior on the sphinx rendered scikit-learn.org. See: https://github.com/scikit-learn/scikit-learn/issues/21755 */display: inline-block !important;position: relative;}#sk-container-id-1 div.sk-text-repr-fallback {display: none;}</style><div id=\"sk-container-id-1\" class=\"sk-top-container\"><div class=\"sk-text-repr-fallback\"><pre>KNeighborsClassifier(metric=&#x27;euclidean&#x27;, n_neighbors=22)</pre><b>In a Jupyter environment, please rerun this cell to show the HTML representation or trust the notebook. <br />On GitHub, the HTML representation is unable to render, please try loading this page with nbviewer.org.</b></div><div class=\"sk-container\" hidden><div class=\"sk-item\"><div class=\"sk-estimator sk-toggleable\"><input class=\"sk-toggleable__control sk-hidden--visually\" id=\"sk-estimator-id-1\" type=\"checkbox\" checked><label for=\"sk-estimator-id-1\" class=\"sk-toggleable__label sk-toggleable__label-arrow\">KNeighborsClassifier</label><div class=\"sk-toggleable__content\"><pre>KNeighborsClassifier(metric=&#x27;euclidean&#x27;, n_neighbors=22)</pre></div></div></div></div></div>"
      ],
      "text/plain": [
       "KNeighborsClassifier(metric='euclidean', n_neighbors=22)"
      ]
     },
     "execution_count": 79,
     "metadata": {},
     "output_type": "execute_result"
    }
   ],
   "source": [
    "knn_cv.best_estimator_"
   ]
  },
  {
   "cell_type": "code",
   "execution_count": 80,
   "id": "0374747c",
   "metadata": {},
   "outputs": [
    {
     "name": "stdout",
     "output_type": "stream",
     "text": [
      "0.8434587349662471 {'n_neighbors': 1}\n",
      "0.8367944737786494 {'n_neighbors': 2}\n",
      "0.8641448252401154 {'n_neighbors': 3}\n",
      "0.8543659380554567 {'n_neighbors': 4}\n",
      "0.856530711541089 {'n_neighbors': 5}\n",
      "0.8533119156190702 {'n_neighbors': 6}\n",
      "0.8684401536375335 {'n_neighbors': 7}\n",
      "0.8522362820909986 {'n_neighbors': 8}\n",
      "0.8587303369646371 {'n_neighbors': 9}\n",
      "0.8641548391439594 {'n_neighbors': 10}\n",
      "0.8619590171109962 {'n_neighbors': 11}\n",
      "0.8598079108005757 {'n_neighbors': 12}\n",
      "0.8609042393788106 {'n_neighbors': 13}\n",
      "0.8565711225109655 {'n_neighbors': 14}\n",
      "0.8598280395105503 {'n_neighbors': 15}\n",
      "0.8641748666035296 {'n_neighbors': 16}\n",
      "0.8663251184166281 {'n_neighbors': 17}\n",
      "0.8684999381749544 {'n_neighbors': 18}\n",
      "0.8695455022070127 {'n_neighbors': 19}\n",
      "0.8717023604373846 {'n_neighbors': 20}\n",
      "0.8674032336105794 {'n_neighbors': 21}\n",
      "0.8717122875231029 {'n_neighbors': 22}\n",
      "0.8695554539160218 {'n_neighbors': 23}\n",
      "0.8652456598683868 {'n_neighbors': 24}\n",
      "0.8706096899646234 {'n_neighbors': 25}\n",
      "0.8641448252401154 {'n_neighbors': 26}\n",
      "0.8651956523167553 {'n_neighbors': 27}\n",
      "0.8598179752144658 {'n_neighbors': 28}\n",
      "0.8641448252401154 {'n_neighbors': 29}\n",
      "0.8576514092401104 {'n_neighbors': 30}\n",
      "0.8598079108005757 {'n_neighbors': 31}\n",
      "0.8619790955889013 {'n_neighbors': 32}\n",
      "0.8598179752144658 {'n_neighbors': 33}\n",
      "0.8619790955889013 {'n_neighbors': 34}\n",
      "0.8663051406671203 {'n_neighbors': 35}\n",
      "0.8608941876640565 {'n_neighbors': 36}\n",
      "0.8673733040612507 {'n_neighbors': 37}\n",
      "0.868450118012909 {'n_neighbors': 38}\n",
      "0.8662851624568975 {'n_neighbors': 39}\n",
      "0.8684401536375335 {'n_neighbors': 40}\n",
      "0.8705898105347845 {'n_neighbors': 41}\n",
      "0.8663051406671203 {'n_neighbors': 42}\n",
      "0.8695156463965944 {'n_neighbors': 43}\n",
      "0.8673433734791386 {'n_neighbors': 44}\n",
      "0.8705599905388678 {'n_neighbors': 45}\n",
      "0.8662851624568976 {'n_neighbors': 46}\n",
      "0.8716328676716696 {'n_neighbors': 47}\n",
      "0.8705599905388678 {'n_neighbors': 48}\n",
      "0.8684202245437845 {'n_neighbors': 49}\n"
     ]
    }
   ],
   "source": [
    "# The evaluation scores\n",
    "\n",
    "cvres = knn_cv.cv_results_\n",
    "for mean_score, params in zip(cvres['mean_test_score'], cvres['params']):\n",
    "    print(np.sqrt(mean_score), params)"
   ]
  },
  {
   "cell_type": "code",
   "execution_count": 85,
   "id": "0df58417",
   "metadata": {},
   "outputs": [
    {
     "data": {
      "text/plain": [
       "array([0.50150935, 0.60980735])"
      ]
     },
     "execution_count": 85,
     "metadata": {},
     "output_type": "execute_result"
    }
   ],
   "source": [
    "y_pred = knn.predict(X_test)\n",
    "final_rmse = mean_squared_error(y_test, y_pred)\n",
    "final_rmse\n",
    "\n",
    "from scipy import stats\n",
    "confidence = 0.95\n",
    "squared_errors = (y_pred - y_test)**2\n",
    "np.sqrt(stats.t.interval(confidence, len(squared_errors) - 1,\n",
    "                              loc= squared_errors.mean(),\n",
    "                              scale = stats.sem(squared_errors)))"
   ]
  },
  {
   "cell_type": "markdown",
   "id": "c587d48e",
   "metadata": {},
   "source": [
    "# USING LIGHTGBM"
   ]
  },
  {
   "cell_type": "code",
   "execution_count": 86,
   "id": "c1a8b3cb",
   "metadata": {},
   "outputs": [],
   "source": [
    "def model_performance(model, subtitle) :   \n",
    "    #Kfold\n",
    "    cv = KFold(n_splits=5,shuffle=True, random_state = 42)\n",
    "    y_real = []\n",
    "    y_proba = []\n",
    "    tprs = []\n",
    "    aucs = []\n",
    "    mean_fpr = np.linspace(0,1,100)\n",
    "    i = 1\n",
    "    \n",
    "    for train,test in cv.split(X,y):\n",
    "        model.fit(X.iloc[train], y.iloc[train])\n",
    "        pred_proba = model.predict_proba(X.iloc[test])\n",
    "        precision, recall, _ = precision_recall_curve(y.iloc[test], pred_proba[:,1])\n",
    "        y_real.append(y.iloc[test])\n",
    "        y_proba.append(pred_proba[:,1])\n",
    "        fpr, tpr, t = roc_curve(y[test], pred_proba[:, 1])\n",
    "        tprs.append(interp(mean_fpr, fpr, tpr))\n",
    "        roc_auc = auc(fpr, tpr)\n",
    "        aucs.append(roc_auc) \n",
    "    \n",
    "    # Confusion matrix\n",
    "    y_pred = cross_val_predict(model, X, y, cv=5)\n",
    "    conf_matrix = confusion_matrix(y, y_pred)\n",
    "    trace1 = go.Heatmap(z = conf_matrix  ,x = [\"0 (pred)\",\"1 (pred)\"],\n",
    "                        y = [\"0 (true)\",\"1 (true)\"],xgap = 2, ygap = 2, \n",
    "                        colorscale = 'Viridis', showscale  = False)\n",
    "    \n",
    "    #Show metrics\n",
    "    tp = conf_matrix[1,1]\n",
    "    fn = conf_matrix[1,0]\n",
    "    fp = conf_matrix[0,1]\n",
    "    tn = conf_matrix[0,0]\n",
    "    Accuracy  =  ((tp+tn)/(tp+tn+fp+fn))\n",
    "    Precision =  (tp/(tp+fp))\n",
    "    Recall    =  (tp/(tp+fn))\n",
    "    F1_score  =  (2*(((tp/(tp+fp))*(tp/(tp+fn)))/((tp/(tp+fp))+(tp/(tp+fn)))))\n",
    "\n",
    "    show_metrics = pd.DataFrame(data=[[Accuracy , Precision, Recall, F1_score]])\n",
    "    show_metrics = show_metrics.T\n",
    "\n",
    "    colors = ['gold', 'lightgreen', 'lightcoral', 'lightskyblue']\n",
    "    trace2 = go.Bar(x = (show_metrics[0].values), \n",
    "                    y = ['Accuracy', 'Precision', 'Recall', 'F1_score'], text = np.round_(show_metrics[0].values,4),\n",
    "                    textposition = 'auto', textfont=dict(color='black'),\n",
    "                    orientation = 'h', opacity = 1, marker=dict(\n",
    "            color=colors,\n",
    "            line=dict(color='#000000',width=1.5)))\n",
    "\n",
    "    #Roc curve\n",
    "    mean_tpr = np.mean(tprs, axis=0)\n",
    "    mean_auc = auc(mean_fpr, mean_tpr)\n",
    "\n",
    "    trace3 = go.Scatter(x=mean_fpr, y=mean_tpr,\n",
    "                        name = \"Roc : \" ,\n",
    "                        line = dict(color = ('rgb(22, 96, 167)'),width = 2), fill='tozeroy')\n",
    "    trace4 = go.Scatter(x = [0,1],y = [0,1],\n",
    "                        line = dict(color = ('black'),width = 1.5,\n",
    "                        dash = 'dot'))\n",
    "    \n",
    "    #Precision - recall curve\n",
    "    y_real = y\n",
    "    y_proba = np.concatenate(y_proba)\n",
    "    precision, recall, _ = precision_recall_curve(y_real, y_proba)\n",
    "\n",
    "    trace5 = go.Scatter(x = recall, y = precision,\n",
    "                        name = \"Precision\" + str(precision),\n",
    "                        line = dict(color = ('lightcoral'),width = 2), fill='tozeroy')\n",
    "    \n",
    "    mean_auc=round(mean_auc,3)\n",
    "    #Subplots\n",
    "    fig = tls.make_subplots(rows=2, cols=2, print_grid=False,\n",
    "                          specs=[[{}, {}], \n",
    "                                 [{}, {}]],\n",
    "                          subplot_titles=('Confusion Matrix',\n",
    "                                          'Metrics',\n",
    "                                          'ROC curve'+\" \"+ '('+ str(mean_auc)+')',\n",
    "                                          'Precision - Recall curve',\n",
    "                                          ))\n",
    "    #Trace and layout\n",
    "    fig.append_trace(trace1,1,1)\n",
    "    fig.append_trace(trace2,1,2)\n",
    "    fig.append_trace(trace3,2,1)\n",
    "    fig.append_trace(trace4,2,1)\n",
    "    fig.append_trace(trace5,2,2)\n",
    "    \n",
    "    fig['layout'].update(showlegend = False, title = '<b>Model performance report (5 folds)</b><br>'+subtitle,\n",
    "                        autosize = False, height = 830, width = 830,\n",
    "                        plot_bgcolor = 'black',\n",
    "                        paper_bgcolor = 'black',\n",
    "                        margin = dict(b = 195), font=dict(color='white'))\n",
    "    fig[\"layout\"][\"xaxis1\"].update(color = 'white')\n",
    "    fig[\"layout\"][\"yaxis1\"].update(color = 'white')\n",
    "    fig[\"layout\"][\"xaxis2\"].update((dict(range=[0, 1], color = 'white')))\n",
    "    fig[\"layout\"][\"yaxis2\"].update(color = 'white')\n",
    "    fig[\"layout\"][\"xaxis3\"].update(dict(title = \"false positive rate\"), color = 'white')\n",
    "    fig[\"layout\"][\"yaxis3\"].update(dict(title = \"true positive rate\"),color = 'white')\n",
    "    fig[\"layout\"][\"xaxis4\"].update(dict(title = \"recall\"), range = [0,1.05],color = 'white')\n",
    "    fig[\"layout\"][\"yaxis4\"].update(dict(title = \"precision\"), range = [0,1.05],color = 'white')\n",
    "    for i in fig['layout']['annotations']:\n",
    "        i['font'] = titlefont=dict(color='white', size = 14)\n",
    "    py.iplot(fig)\n",
    "\n"
   ]
  },
  {
   "cell_type": "code",
   "execution_count": 87,
   "id": "8d06c7d0",
   "metadata": {},
   "outputs": [],
   "source": [
    "def scores_table(model, subtitle):\n",
    "    scores = ['accuracy', 'precision', 'recall', 'f1', 'roc_auc']\n",
    "    res = []\n",
    "    for sc in scores:\n",
    "        scores = cross_val_score(model, X, y, cv = 5, scoring = sc)\n",
    "        res.append(scores)\n",
    "    df = pd.DataFrame(res).T\n",
    "    df.loc['mean'] = df.mean()\n",
    "    df.loc['std'] = df.std()\n",
    "    df= df.rename(columns={0: 'accuracy', 1:'precision', 2:'recall',3:'f1',4:'roc_auc'})\n",
    "\n",
    "    trace = go.Table(\n",
    "        header=dict(values=['<b>Fold', '<b>Accuracy', '<b>Precision', '<b>Recall', '<b>F1 score', '<b>Roc auc'],\n",
    "                    line = dict(color='#7D7F80'),\n",
    "                    fill = dict(color='#a1c3d1'),\n",
    "                    align = ['center'],\n",
    "                     font = dict(size = 15)),\n",
    "        cells=dict(values=[('1','2','3','4','5','mean', 'std'),\n",
    "                           np.round(df['accuracy'],3),\n",
    "                           np.round(df['precision'],3),\n",
    "                           np.round(df['recall'],3),\n",
    "                           np.round(df['f1'],3),\n",
    "                           np.round(df['roc_auc'],3)],\n",
    "                   line = dict(color='#7D7F80'),\n",
    "                   fill = dict(color='#EDFAFF'),\n",
    "                   align = ['center'], font = dict(size = 15)))\n",
    "\n",
    "    layout = dict(width=800, height=400, title = '<b>Cross Validation - 5 folds</b><br>'+subtitle, font = dict(size = 15))\n",
    "    fig = dict(data=[trace], layout=layout)\n",
    "\n",
    "    py.iplot(fig, filename = 'styled_table')\n"
   ]
  },
  {
   "cell_type": "code",
   "execution_count": 88,
   "id": "16149e16",
   "metadata": {},
   "outputs": [
    {
     "ename": "NameError",
     "evalue": "name 'RandomizedSearchCV' is not defined",
     "output_type": "error",
     "traceback": [
      "\u001b[0;31m---------------------------------------------------------------------------\u001b[0m",
      "\u001b[0;31mNameError\u001b[0m                                 Traceback (most recent call last)",
      "Cell \u001b[0;32mIn[88], line 32\u001b[0m\n\u001b[1;32m     30\u001b[0m \u001b[39m#intialize lgbm and lunch the search\u001b[39;00m\n\u001b[1;32m     31\u001b[0m lgbm_clf \u001b[39m=\u001b[39m lgbm\u001b[39m.\u001b[39mLGBMClassifier(random_state\u001b[39m=\u001b[39mrandom_state, silent\u001b[39m=\u001b[39m\u001b[39mTrue\u001b[39;00m, metric\u001b[39m=\u001b[39m\u001b[39m'\u001b[39m\u001b[39mNone\u001b[39m\u001b[39m'\u001b[39m, n_jobs\u001b[39m=\u001b[39m\u001b[39m4\u001b[39m)\n\u001b[0;32m---> 32\u001b[0m grid_search \u001b[39m=\u001b[39m RandomizedSearchCV(\n\u001b[1;32m     33\u001b[0m     estimator\u001b[39m=\u001b[39mlgbm_clf, param_distributions\u001b[39m=\u001b[39mparam_test, \n\u001b[1;32m     34\u001b[0m     n_iter\u001b[39m=\u001b[39mn_iter,\n\u001b[1;32m     35\u001b[0m     scoring\u001b[39m=\u001b[39m\u001b[39m'\u001b[39m\u001b[39maccuracy\u001b[39m\u001b[39m'\u001b[39m,\n\u001b[1;32m     36\u001b[0m     cv\u001b[39m=\u001b[39m\u001b[39m5\u001b[39m,\n\u001b[1;32m     37\u001b[0m     refit\u001b[39m=\u001b[39m\u001b[39mTrue\u001b[39;00m,\n\u001b[1;32m     38\u001b[0m     random_state\u001b[39m=\u001b[39mrandom_state,\n\u001b[1;32m     39\u001b[0m     verbose\u001b[39m=\u001b[39m\u001b[39mTrue\u001b[39;00m)\n\u001b[1;32m     41\u001b[0m grid_search\u001b[39m.\u001b[39mfit(X, y, \u001b[39m*\u001b[39m\u001b[39m*\u001b[39mfit_params)\n\u001b[1;32m     42\u001b[0m opt_parameters \u001b[39m=\u001b[39m  grid_search\u001b[39m.\u001b[39mbest_params_\n",
      "\u001b[0;31mNameError\u001b[0m: name 'RandomizedSearchCV' is not defined"
     ]
    }
   ],
   "source": [
    "\n",
    "import lightgbm as lgbm\n",
    "# Stats\n",
    "import scipy.stats as ss\n",
    "from scipy import interp\n",
    "from scipy.stats import randint as sp_randint\n",
    "from scipy.stats import uniform as sp_uniform\n",
    "\n",
    "random_state=42\n",
    "\n",
    "fit_params = {\"early_stopping_rounds\" : 100, \n",
    "             \"eval_metric\" : 'auc', \n",
    "             \"eval_set\" : [(X,y)],\n",
    "             'eval_names': ['valid'],\n",
    "             'verbose': 0,\n",
    "             'categorical_feature': 'auto'}\n",
    "\n",
    "param_test = {'learning_rate' : [0.01, 0.02, 0.03, 0.04, 0.05, 0.08, 0.1, 0.2, 0.3, 0.4],\n",
    "              'n_estimators' : [100, 200, 300, 400, 500, 600, 800, 1000, 1500, 2000],\n",
    "              'num_leaves': sp_randint(6, 50),\n",
    "              'min_child_samples': sp_randint(100, 500), \n",
    "              'min_child_weight': [1e-5, 1e-3, 1e-2, 1e-1, 1, 1e1, 1e2, 1e3, 1e4],\n",
    "              'subsample': sp_uniform(loc=0.2, scale=0.8), \n",
    "              'max_depth': [-1, 1, 2, 3, 4, 5, 6, 7],\n",
    "              'colsample_bytree': sp_uniform(loc=0.4, scale=0.6),\n",
    "              'reg_alpha': [0, 1e-1, 1, 2, 5, 7, 10, 50, 100],\n",
    "              'reg_lambda': [0, 1e-1, 1, 5, 10, 20, 50, 100]}\n",
    "#number of combinations\n",
    "n_iter = 300\n",
    "\n",
    "#intialize lgbm and lunch the search\n",
    "lgbm_clf = lgbm.LGBMClassifier(random_state=random_state, silent=True, metric='None', n_jobs=4)\n",
    "grid_search = RandomizedSearchCV(\n",
    "    estimator=lgbm_clf, param_distributions=param_test, \n",
    "    n_iter=n_iter,\n",
    "    scoring='accuracy',\n",
    "    cv=5,\n",
    "    refit=True,\n",
    "    random_state=random_state,\n",
    "    verbose=True)\n",
    "\n",
    "grid_search.fit(X, y, **fit_params)\n",
    "opt_parameters =  grid_search.best_params_\n",
    "lgbm_clf = lgbm.LGBMClassifier(**opt_parameters)\n",
    "\n"
   ]
  },
  {
   "cell_type": "code",
   "execution_count": 89,
   "id": "45bd624a",
   "metadata": {},
   "outputs": [
    {
     "ename": "NameError",
     "evalue": "name 'KFold' is not defined",
     "output_type": "error",
     "traceback": [
      "\u001b[0;31m---------------------------------------------------------------------------\u001b[0m",
      "\u001b[0;31mNameError\u001b[0m                                 Traceback (most recent call last)",
      "Cell \u001b[0;32mIn[89], line 1\u001b[0m\n\u001b[0;32m----> 1\u001b[0m model_performance(lgbm_clf, \u001b[39m'\u001b[39;49m\u001b[39mLightGBM\u001b[39;49m\u001b[39m'\u001b[39;49m)\n\u001b[1;32m      2\u001b[0m scores_table(lgbm_clf, \u001b[39m'\u001b[39m\u001b[39mLightGBM\u001b[39m\u001b[39m'\u001b[39m)\n",
      "Cell \u001b[0;32mIn[86], line 3\u001b[0m, in \u001b[0;36mmodel_performance\u001b[0;34m(model, subtitle)\u001b[0m\n\u001b[1;32m      1\u001b[0m \u001b[39mdef\u001b[39;00m \u001b[39mmodel_performance\u001b[39m(model, subtitle) :   \n\u001b[1;32m      2\u001b[0m     \u001b[39m#Kfold\u001b[39;00m\n\u001b[0;32m----> 3\u001b[0m     cv \u001b[39m=\u001b[39m KFold(n_splits\u001b[39m=\u001b[39m\u001b[39m5\u001b[39m,shuffle\u001b[39m=\u001b[39m\u001b[39mTrue\u001b[39;00m, random_state \u001b[39m=\u001b[39m \u001b[39m42\u001b[39m)\n\u001b[1;32m      4\u001b[0m     y_real \u001b[39m=\u001b[39m []\n\u001b[1;32m      5\u001b[0m     y_proba \u001b[39m=\u001b[39m []\n",
      "\u001b[0;31mNameError\u001b[0m: name 'KFold' is not defined"
     ]
    }
   ],
   "source": [
    "model_performance(lgbm_clf, 'LightGBM')\n",
    "scores_table(lgbm_clf, 'LightGBM')\n",
    "\n"
   ]
  },
  {
   "cell_type": "code",
   "execution_count": null,
   "id": "515485d0",
   "metadata": {},
   "outputs": [],
   "source": []
  }
 ],
 "metadata": {
  "kernelspec": {
   "display_name": "Python 3 (ipykernel)",
   "language": "python",
   "name": "python3"
  },
  "language_info": {
   "codemirror_mode": {
    "name": "ipython",
    "version": 3
   },
   "file_extension": ".py",
   "mimetype": "text/x-python",
   "name": "python",
   "nbconvert_exporter": "python",
   "pygments_lexer": "ipython3",
   "version": "3.10.12"
  }
 },
 "nbformat": 4,
 "nbformat_minor": 5
}
